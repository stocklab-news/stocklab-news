{
  "cells": [
    {
      "cell_type": "markdown",
      "metadata": {
        "colab_type": "text",
        "id": "view-in-github"
      },
      "source": [
        "<a href=\"https://colab.research.google.com/github/PhilHippo/stocklab-news/blob/main/create_dataset.ipynb\" target=\"_parent\"><img src=\"https://colab.research.google.com/assets/colab-badge.svg\" alt=\"Open In Colab\"/></a>"
      ]
    },
    {
      "cell_type": "code",
      "execution_count": 1,
      "metadata": {},
      "outputs": [],
      "source": [
        "#/Users/filippo/code/stocklab_dataset/MINDlarge_train/news.tsv"
      ]
    },
    {
      "cell_type": "code",
      "execution_count": 2,
      "metadata": {},
      "outputs": [],
      "source": [
        "import pandas as pd\n",
        "import numpy as np\n",
        "import plotly.express as px"
      ]
    },
    {
      "cell_type": "code",
      "execution_count": 3,
      "metadata": {
        "id": "m68zz9bDl6-N"
      },
      "outputs": [],
      "source": [
        "data = pd.read_csv('/Users/filippo/code/stocklab_dataset/MINDlarge_train/news.tsv',header=None,sep='\\t')"
      ]
    },
    {
      "cell_type": "code",
      "execution_count": 4,
      "metadata": {},
      "outputs": [],
      "source": [
        "data.columns=['News ID',\n",
        "\"Category\",\n",
        "\"SubCategory\",\n",
        "\"Title\",\n",
        "\"Abstract\",\n",
        "\"URL\",\n",
        "\"Title Entities\",\n",
        "\"Abstract Entities \"]"
      ]
    },
    {
      "cell_type": "code",
      "execution_count": 5,
      "metadata": {},
      "outputs": [],
      "source": [
        "data = data.iloc[:,:5]"
      ]
    },
    {
      "cell_type": "code",
      "execution_count": 6,
      "metadata": {},
      "outputs": [
        {
          "data": {
            "text/html": [
              "<div>\n",
              "<style scoped>\n",
              "    .dataframe tbody tr th:only-of-type {\n",
              "        vertical-align: middle;\n",
              "    }\n",
              "\n",
              "    .dataframe tbody tr th {\n",
              "        vertical-align: top;\n",
              "    }\n",
              "\n",
              "    .dataframe thead th {\n",
              "        text-align: right;\n",
              "    }\n",
              "</style>\n",
              "<table border=\"1\" class=\"dataframe\">\n",
              "  <thead>\n",
              "    <tr style=\"text-align: right;\">\n",
              "      <th></th>\n",
              "      <th>News ID</th>\n",
              "      <th>Category</th>\n",
              "      <th>SubCategory</th>\n",
              "      <th>Title</th>\n",
              "      <th>Abstract</th>\n",
              "    </tr>\n",
              "  </thead>\n",
              "  <tbody>\n",
              "    <tr>\n",
              "      <th>0</th>\n",
              "      <td>N88753</td>\n",
              "      <td>lifestyle</td>\n",
              "      <td>lifestyleroyals</td>\n",
              "      <td>The Brands Queen Elizabeth, Prince Charles, an...</td>\n",
              "      <td>Shop the notebooks, jackets, and more that the...</td>\n",
              "    </tr>\n",
              "    <tr>\n",
              "      <th>1</th>\n",
              "      <td>N45436</td>\n",
              "      <td>news</td>\n",
              "      <td>newsscienceandtechnology</td>\n",
              "      <td>Walmart Slashes Prices on Last-Generation iPads</td>\n",
              "      <td>Apple's new iPad releases bring big deals on l...</td>\n",
              "    </tr>\n",
              "    <tr>\n",
              "      <th>2</th>\n",
              "      <td>N23144</td>\n",
              "      <td>health</td>\n",
              "      <td>weightloss</td>\n",
              "      <td>50 Worst Habits For Belly Fat</td>\n",
              "      <td>These seemingly harmless habits are holding yo...</td>\n",
              "    </tr>\n",
              "    <tr>\n",
              "      <th>3</th>\n",
              "      <td>N86255</td>\n",
              "      <td>health</td>\n",
              "      <td>medical</td>\n",
              "      <td>Dispose of unwanted prescription drugs during ...</td>\n",
              "      <td>NaN</td>\n",
              "    </tr>\n",
              "    <tr>\n",
              "      <th>4</th>\n",
              "      <td>N93187</td>\n",
              "      <td>news</td>\n",
              "      <td>newsworld</td>\n",
              "      <td>The Cost of Trump's Aid Freeze in the Trenches...</td>\n",
              "      <td>Lt. Ivan Molchanets peeked over a parapet of s...</td>\n",
              "    </tr>\n",
              "  </tbody>\n",
              "</table>\n",
              "</div>"
            ],
            "text/plain": [
              "  News ID   Category               SubCategory  \\\n",
              "0  N88753  lifestyle           lifestyleroyals   \n",
              "1  N45436       news  newsscienceandtechnology   \n",
              "2  N23144     health                weightloss   \n",
              "3  N86255     health                   medical   \n",
              "4  N93187       news                 newsworld   \n",
              "\n",
              "                                               Title  \\\n",
              "0  The Brands Queen Elizabeth, Prince Charles, an...   \n",
              "1    Walmart Slashes Prices on Last-Generation iPads   \n",
              "2                      50 Worst Habits For Belly Fat   \n",
              "3  Dispose of unwanted prescription drugs during ...   \n",
              "4  The Cost of Trump's Aid Freeze in the Trenches...   \n",
              "\n",
              "                                            Abstract  \n",
              "0  Shop the notebooks, jackets, and more that the...  \n",
              "1  Apple's new iPad releases bring big deals on l...  \n",
              "2  These seemingly harmless habits are holding yo...  \n",
              "3                                                NaN  \n",
              "4  Lt. Ivan Molchanets peeked over a parapet of s...  "
            ]
          },
          "execution_count": 6,
          "metadata": {},
          "output_type": "execute_result"
        }
      ],
      "source": [
        "data.head()"
      ]
    },
    {
      "cell_type": "code",
      "execution_count": 7,
      "metadata": {},
      "outputs": [],
      "source": [
        "c=data[['Category','SubCategory']].value_counts()"
      ]
    },
    {
      "cell_type": "code",
      "execution_count": 8,
      "metadata": {},
      "outputs": [],
      "source": [
        "index=np.array([np.array(i) for i in c.index])\n",
        "\n",
        "df=pd.DataFrame(columns=['Category','Sub Category','Values'])\n",
        "df['Category']=index[:,0]\n",
        "df['Sub Category']=index[:,1]\n",
        "df['Values']=c.values"
      ]
    },
    {
      "cell_type": "code",
      "execution_count": 9,
      "metadata": {},
      "outputs": [
        {
          "data": {
            "application/vnd.plotly.v1+json": {
              "config": {
                "plotlyServerURL": "https://plot.ly"
              },
              "data": [
                {
                  "alignmentgroup": "True",
                  "hovertemplate": "Sub Category=newsus<br>Category=%{x}<br>Values=%{y}<extra></extra>",
                  "legendgroup": "newsus",
                  "marker": {
                    "color": "#636efa",
                    "pattern": {
                      "shape": ""
                    }
                  },
                  "name": "newsus",
                  "offsetgroup": "newsus",
                  "orientation": "v",
                  "showlegend": true,
                  "textposition": "auto",
                  "type": "bar",
                  "x": [
                    "news"
                  ],
                  "xaxis": "x",
                  "y": [
                    14467
                  ],
                  "yaxis": "y"
                },
                {
                  "alignmentgroup": "True",
                  "hovertemplate": "Sub Category=football_nfl<br>Category=%{x}<br>Values=%{y}<extra></extra>",
                  "legendgroup": "football_nfl",
                  "marker": {
                    "color": "#EF553B",
                    "pattern": {
                      "shape": ""
                    }
                  },
                  "name": "football_nfl",
                  "offsetgroup": "football_nfl",
                  "orientation": "v",
                  "showlegend": true,
                  "textposition": "auto",
                  "type": "bar",
                  "x": [
                    "sports"
                  ],
                  "xaxis": "x",
                  "y": [
                    11813
                  ],
                  "yaxis": "y"
                },
                {
                  "alignmentgroup": "True",
                  "hovertemplate": "Sub Category=newspolitics<br>Category=%{x}<br>Values=%{y}<extra></extra>",
                  "legendgroup": "newspolitics",
                  "marker": {
                    "color": "#00cc96",
                    "pattern": {
                      "shape": ""
                    }
                  },
                  "name": "newspolitics",
                  "offsetgroup": "newspolitics",
                  "orientation": "v",
                  "showlegend": true,
                  "textposition": "auto",
                  "type": "bar",
                  "x": [
                    "news"
                  ],
                  "xaxis": "x",
                  "y": [
                    5145
                  ],
                  "yaxis": "y"
                },
                {
                  "alignmentgroup": "True",
                  "hovertemplate": "Sub Category=weathertopstories<br>Category=%{x}<br>Values=%{y}<extra></extra>",
                  "legendgroup": "weathertopstories",
                  "marker": {
                    "color": "#ab63fa",
                    "pattern": {
                      "shape": ""
                    }
                  },
                  "name": "weathertopstories",
                  "offsetgroup": "weathertopstories",
                  "orientation": "v",
                  "showlegend": true,
                  "textposition": "auto",
                  "type": "bar",
                  "x": [
                    "weather"
                  ],
                  "xaxis": "x",
                  "y": [
                    4253
                  ],
                  "yaxis": "y"
                },
                {
                  "alignmentgroup": "True",
                  "hovertemplate": "Sub Category=newscrime<br>Category=%{x}<br>Values=%{y}<extra></extra>",
                  "legendgroup": "newscrime",
                  "marker": {
                    "color": "#FFA15A",
                    "pattern": {
                      "shape": ""
                    }
                  },
                  "name": "newscrime",
                  "offsetgroup": "newscrime",
                  "orientation": "v",
                  "showlegend": true,
                  "textposition": "auto",
                  "type": "bar",
                  "x": [
                    "news"
                  ],
                  "xaxis": "x",
                  "y": [
                    3676
                  ],
                  "yaxis": "y"
                },
                {
                  "alignmentgroup": "True",
                  "hovertemplate": "Sub Category=baseball_mlb<br>Category=%{x}<br>Values=%{y}<extra></extra>",
                  "legendgroup": "baseball_mlb",
                  "marker": {
                    "color": "#19d3f3",
                    "pattern": {
                      "shape": ""
                    }
                  },
                  "name": "baseball_mlb",
                  "offsetgroup": "baseball_mlb",
                  "orientation": "v",
                  "showlegend": true,
                  "textposition": "auto",
                  "type": "bar",
                  "x": [
                    "sports"
                  ],
                  "xaxis": "x",
                  "y": [
                    3617
                  ],
                  "yaxis": "y"
                },
                {
                  "alignmentgroup": "True",
                  "hovertemplate": "Sub Category=football_ncaa<br>Category=%{x}<br>Values=%{y}<extra></extra>",
                  "legendgroup": "football_ncaa",
                  "marker": {
                    "color": "#FF6692",
                    "pattern": {
                      "shape": ""
                    }
                  },
                  "name": "football_ncaa",
                  "offsetgroup": "football_ncaa",
                  "orientation": "v",
                  "showlegend": true,
                  "textposition": "auto",
                  "type": "bar",
                  "x": [
                    "sports"
                  ],
                  "xaxis": "x",
                  "y": [
                    3450
                  ],
                  "yaxis": "y"
                },
                {
                  "alignmentgroup": "True",
                  "hovertemplate": "Sub Category=news<br>Category=%{x}<br>Values=%{y}<extra></extra>",
                  "legendgroup": "news",
                  "marker": {
                    "color": "#B6E880",
                    "pattern": {
                      "shape": ""
                    }
                  },
                  "name": "news",
                  "offsetgroup": "news",
                  "orientation": "v",
                  "showlegend": true,
                  "textposition": "auto",
                  "type": "bar",
                  "x": [
                    "video",
                    "entertainment"
                  ],
                  "xaxis": "x",
                  "y": [
                    3316,
                    35
                  ],
                  "yaxis": "y"
                },
                {
                  "alignmentgroup": "True",
                  "hovertemplate": "Sub Category=basketball_nba<br>Category=%{x}<br>Values=%{y}<extra></extra>",
                  "legendgroup": "basketball_nba",
                  "marker": {
                    "color": "#FF97FF",
                    "pattern": {
                      "shape": ""
                    }
                  },
                  "name": "basketball_nba",
                  "offsetgroup": "basketball_nba",
                  "orientation": "v",
                  "showlegend": true,
                  "textposition": "auto",
                  "type": "bar",
                  "x": [
                    "sports"
                  ],
                  "xaxis": "x",
                  "y": [
                    3226
                  ],
                  "yaxis": "y"
                },
                {
                  "alignmentgroup": "True",
                  "hovertemplate": "Sub Category=more_sports<br>Category=%{x}<br>Values=%{y}<extra></extra>",
                  "legendgroup": "more_sports",
                  "marker": {
                    "color": "#FECB52",
                    "pattern": {
                      "shape": ""
                    }
                  },
                  "name": "more_sports",
                  "offsetgroup": "more_sports",
                  "orientation": "v",
                  "showlegend": true,
                  "textposition": "auto",
                  "type": "bar",
                  "x": [
                    "sports"
                  ],
                  "xaxis": "x",
                  "y": [
                    2801
                  ],
                  "yaxis": "y"
                },
                {
                  "alignmentgroup": "True",
                  "hovertemplate": "Sub Category=newsscienceandtechnology<br>Category=%{x}<br>Values=%{y}<extra></extra>",
                  "legendgroup": "newsscienceandtechnology",
                  "marker": {
                    "color": "#636efa",
                    "pattern": {
                      "shape": ""
                    }
                  },
                  "name": "newsscienceandtechnology",
                  "offsetgroup": "newsscienceandtechnology",
                  "orientation": "v",
                  "showlegend": true,
                  "textposition": "auto",
                  "type": "bar",
                  "x": [
                    "news"
                  ],
                  "xaxis": "x",
                  "y": [
                    2771
                  ],
                  "yaxis": "y"
                },
                {
                  "alignmentgroup": "True",
                  "hovertemplate": "Sub Category=newstrends<br>Category=%{x}<br>Values=%{y}<extra></extra>",
                  "legendgroup": "newstrends",
                  "marker": {
                    "color": "#EF553B",
                    "pattern": {
                      "shape": ""
                    }
                  },
                  "name": "newstrends",
                  "offsetgroup": "newstrends",
                  "orientation": "v",
                  "showlegend": true,
                  "textposition": "auto",
                  "type": "bar",
                  "x": [
                    "foodanddrink",
                    "travel"
                  ],
                  "xaxis": "x",
                  "y": [
                    2714,
                    1
                  ],
                  "yaxis": "y"
                },
                {
                  "alignmentgroup": "True",
                  "hovertemplate": "Sub Category=travelarticle<br>Category=%{x}<br>Values=%{y}<extra></extra>",
                  "legendgroup": "travelarticle",
                  "marker": {
                    "color": "#00cc96",
                    "pattern": {
                      "shape": ""
                    }
                  },
                  "name": "travelarticle",
                  "offsetgroup": "travelarticle",
                  "orientation": "v",
                  "showlegend": true,
                  "textposition": "auto",
                  "type": "bar",
                  "x": [
                    "travel"
                  ],
                  "xaxis": "x",
                  "y": [
                    2624
                  ],
                  "yaxis": "y"
                },
                {
                  "alignmentgroup": "True",
                  "hovertemplate": "Sub Category=newsworld<br>Category=%{x}<br>Values=%{y}<extra></extra>",
                  "legendgroup": "newsworld",
                  "marker": {
                    "color": "#ab63fa",
                    "pattern": {
                      "shape": ""
                    }
                  },
                  "name": "newsworld",
                  "offsetgroup": "newsworld",
                  "orientation": "v",
                  "showlegend": true,
                  "textposition": "auto",
                  "type": "bar",
                  "x": [
                    "news"
                  ],
                  "xaxis": "x",
                  "y": [
                    2523
                  ],
                  "yaxis": "y"
                },
                {
                  "alignmentgroup": "True",
                  "hovertemplate": "Sub Category=lifestylebuzz<br>Category=%{x}<br>Values=%{y}<extra></extra>",
                  "legendgroup": "lifestylebuzz",
                  "marker": {
                    "color": "#FFA15A",
                    "pattern": {
                      "shape": ""
                    }
                  },
                  "name": "lifestylebuzz",
                  "offsetgroup": "lifestylebuzz",
                  "orientation": "v",
                  "showlegend": true,
                  "textposition": "auto",
                  "type": "bar",
                  "x": [
                    "lifestyle"
                  ],
                  "xaxis": "x",
                  "y": [
                    1944
                  ],
                  "yaxis": "y"
                },
                {
                  "alignmentgroup": "True",
                  "hovertemplate": "Sub Category=financenews<br>Category=%{x}<br>Values=%{y}<extra></extra>",
                  "legendgroup": "financenews",
                  "marker": {
                    "color": "#19d3f3",
                    "pattern": {
                      "shape": ""
                    }
                  },
                  "name": "financenews",
                  "offsetgroup": "financenews",
                  "orientation": "v",
                  "showlegend": true,
                  "textposition": "auto",
                  "type": "bar",
                  "x": [
                    "finance"
                  ],
                  "xaxis": "x",
                  "y": [
                    1932
                  ],
                  "yaxis": "y"
                },
                {
                  "alignmentgroup": "True",
                  "hovertemplate": "Sub Category=travelnews<br>Category=%{x}<br>Values=%{y}<extra></extra>",
                  "legendgroup": "travelnews",
                  "marker": {
                    "color": "#FF6692",
                    "pattern": {
                      "shape": ""
                    }
                  },
                  "name": "travelnews",
                  "offsetgroup": "travelnews",
                  "orientation": "v",
                  "showlegend": true,
                  "textposition": "auto",
                  "type": "bar",
                  "x": [
                    "travel"
                  ],
                  "xaxis": "x",
                  "y": [
                    1812
                  ],
                  "yaxis": "y"
                },
                {
                  "alignmentgroup": "True",
                  "hovertemplate": "Sub Category=autosnews<br>Category=%{x}<br>Values=%{y}<extra></extra>",
                  "legendgroup": "autosnews",
                  "marker": {
                    "color": "#B6E880",
                    "pattern": {
                      "shape": ""
                    }
                  },
                  "name": "autosnews",
                  "offsetgroup": "autosnews",
                  "orientation": "v",
                  "showlegend": true,
                  "textposition": "auto",
                  "type": "bar",
                  "x": [
                    "autos"
                  ],
                  "xaxis": "x",
                  "y": [
                    1703
                  ],
                  "yaxis": "y"
                },
                {
                  "alignmentgroup": "True",
                  "hovertemplate": "Sub Category=basketball_ncaa<br>Category=%{x}<br>Values=%{y}<extra></extra>",
                  "legendgroup": "basketball_ncaa",
                  "marker": {
                    "color": "#FF97FF",
                    "pattern": {
                      "shape": ""
                    }
                  },
                  "name": "basketball_ncaa",
                  "offsetgroup": "basketball_ncaa",
                  "orientation": "v",
                  "showlegend": true,
                  "textposition": "auto",
                  "type": "bar",
                  "x": [
                    "sports"
                  ],
                  "xaxis": "x",
                  "y": [
                    1674
                  ],
                  "yaxis": "y"
                },
                {
                  "alignmentgroup": "True",
                  "hovertemplate": "Sub Category=icehockey_nhl<br>Category=%{x}<br>Values=%{y}<extra></extra>",
                  "legendgroup": "icehockey_nhl",
                  "marker": {
                    "color": "#FECB52",
                    "pattern": {
                      "shape": ""
                    }
                  },
                  "name": "icehockey_nhl",
                  "offsetgroup": "icehockey_nhl",
                  "orientation": "v",
                  "showlegend": true,
                  "textposition": "auto",
                  "type": "bar",
                  "x": [
                    "sports"
                  ],
                  "xaxis": "x",
                  "y": [
                    1524
                  ],
                  "yaxis": "y"
                },
                {
                  "alignmentgroup": "True",
                  "hovertemplate": "Sub Category=finance-real-estate<br>Category=%{x}<br>Values=%{y}<extra></extra>",
                  "legendgroup": "finance-real-estate",
                  "marker": {
                    "color": "#636efa",
                    "pattern": {
                      "shape": ""
                    }
                  },
                  "name": "finance-real-estate",
                  "offsetgroup": "finance-real-estate",
                  "orientation": "v",
                  "showlegend": true,
                  "textposition": "auto",
                  "type": "bar",
                  "x": [
                    "finance"
                  ],
                  "xaxis": "x",
                  "y": [
                    1303
                  ],
                  "yaxis": "y"
                },
                {
                  "alignmentgroup": "True",
                  "hovertemplate": "Sub Category=mma<br>Category=%{x}<br>Values=%{y}<extra></extra>",
                  "legendgroup": "mma",
                  "marker": {
                    "color": "#EF553B",
                    "pattern": {
                      "shape": ""
                    }
                  },
                  "name": "mma",
                  "offsetgroup": "mma",
                  "orientation": "v",
                  "showlegend": true,
                  "textposition": "auto",
                  "type": "bar",
                  "x": [
                    "sports"
                  ],
                  "xaxis": "x",
                  "y": [
                    1053
                  ],
                  "yaxis": "y"
                },
                {
                  "alignmentgroup": "True",
                  "hovertemplate": "Sub Category=medical<br>Category=%{x}<br>Values=%{y}<extra></extra>",
                  "legendgroup": "medical",
                  "marker": {
                    "color": "#00cc96",
                    "pattern": {
                      "shape": ""
                    }
                  },
                  "name": "medical",
                  "offsetgroup": "medical",
                  "orientation": "v",
                  "showlegend": true,
                  "textposition": "auto",
                  "type": "bar",
                  "x": [
                    "health"
                  ],
                  "xaxis": "x",
                  "y": [
                    954
                  ],
                  "yaxis": "y"
                },
                {
                  "alignmentgroup": "True",
                  "hovertemplate": "Sub Category=newsoffbeat<br>Category=%{x}<br>Values=%{y}<extra></extra>",
                  "legendgroup": "newsoffbeat",
                  "marker": {
                    "color": "#ab63fa",
                    "pattern": {
                      "shape": ""
                    }
                  },
                  "name": "newsoffbeat",
                  "offsetgroup": "newsoffbeat",
                  "orientation": "v",
                  "showlegend": true,
                  "textposition": "auto",
                  "type": "bar",
                  "x": [
                    "news"
                  ],
                  "xaxis": "x",
                  "y": [
                    918
                  ],
                  "yaxis": "y"
                },
                {
                  "alignmentgroup": "True",
                  "hovertemplate": "Sub Category=musicnews<br>Category=%{x}<br>Values=%{y}<extra></extra>",
                  "legendgroup": "musicnews",
                  "marker": {
                    "color": "#FFA15A",
                    "pattern": {
                      "shape": ""
                    }
                  },
                  "name": "musicnews",
                  "offsetgroup": "musicnews",
                  "orientation": "v",
                  "showlegend": true,
                  "textposition": "auto",
                  "type": "bar",
                  "x": [
                    "music"
                  ],
                  "xaxis": "x",
                  "y": [
                    874
                  ],
                  "yaxis": "y"
                },
                {
                  "alignmentgroup": "True",
                  "hovertemplate": "Sub Category=tvnews<br>Category=%{x}<br>Values=%{y}<extra></extra>",
                  "legendgroup": "tvnews",
                  "marker": {
                    "color": "#19d3f3",
                    "pattern": {
                      "shape": ""
                    }
                  },
                  "name": "tvnews",
                  "offsetgroup": "tvnews",
                  "orientation": "v",
                  "showlegend": true,
                  "textposition": "auto",
                  "type": "bar",
                  "x": [
                    "tv"
                  ],
                  "xaxis": "x",
                  "y": [
                    777
                  ],
                  "yaxis": "y"
                },
                {
                  "alignmentgroup": "True",
                  "hovertemplate": "Sub Category=golf<br>Category=%{x}<br>Values=%{y}<extra></extra>",
                  "legendgroup": "golf",
                  "marker": {
                    "color": "#FF6692",
                    "pattern": {
                      "shape": ""
                    }
                  },
                  "name": "golf",
                  "offsetgroup": "golf",
                  "orientation": "v",
                  "showlegend": true,
                  "textposition": "auto",
                  "type": "bar",
                  "x": [
                    "sports"
                  ],
                  "xaxis": "x",
                  "y": [
                    759
                  ],
                  "yaxis": "y"
                },
                {
                  "alignmentgroup": "True",
                  "hovertemplate": "Sub Category=finance-companies<br>Category=%{x}<br>Values=%{y}<extra></extra>",
                  "legendgroup": "finance-companies",
                  "marker": {
                    "color": "#B6E880",
                    "pattern": {
                      "shape": ""
                    }
                  },
                  "name": "finance-companies",
                  "offsetgroup": "finance-companies",
                  "orientation": "v",
                  "showlegend": true,
                  "textposition": "auto",
                  "type": "bar",
                  "x": [
                    "finance"
                  ],
                  "xaxis": "x",
                  "y": [
                    718
                  ],
                  "yaxis": "y"
                },
                {
                  "alignmentgroup": "True",
                  "hovertemplate": "Sub Category=racing<br>Category=%{x}<br>Values=%{y}<extra></extra>",
                  "legendgroup": "racing",
                  "marker": {
                    "color": "#FF97FF",
                    "pattern": {
                      "shape": ""
                    }
                  },
                  "name": "racing",
                  "offsetgroup": "racing",
                  "orientation": "v",
                  "showlegend": true,
                  "textposition": "auto",
                  "type": "bar",
                  "x": [
                    "sports"
                  ],
                  "xaxis": "x",
                  "y": [
                    698
                  ],
                  "yaxis": "y"
                },
                {
                  "alignmentgroup": "True",
                  "hovertemplate": "Sub Category=health-news<br>Category=%{x}<br>Values=%{y}<extra></extra>",
                  "legendgroup": "health-news",
                  "marker": {
                    "color": "#FECB52",
                    "pattern": {
                      "shape": ""
                    }
                  },
                  "name": "health-news",
                  "offsetgroup": "health-news",
                  "orientation": "v",
                  "showlegend": true,
                  "textposition": "auto",
                  "type": "bar",
                  "x": [
                    "health"
                  ],
                  "xaxis": "x",
                  "y": [
                    576
                  ],
                  "yaxis": "y"
                },
                {
                  "alignmentgroup": "True",
                  "hovertemplate": "Sub Category=wellness<br>Category=%{x}<br>Values=%{y}<extra></extra>",
                  "legendgroup": "wellness",
                  "marker": {
                    "color": "#636efa",
                    "pattern": {
                      "shape": ""
                    }
                  },
                  "name": "wellness",
                  "offsetgroup": "wellness",
                  "orientation": "v",
                  "showlegend": true,
                  "textposition": "auto",
                  "type": "bar",
                  "x": [
                    "health"
                  ],
                  "xaxis": "x",
                  "y": [
                    573
                  ],
                  "yaxis": "y"
                },
                {
                  "alignmentgroup": "True",
                  "hovertemplate": "Sub Category=recipes<br>Category=%{x}<br>Values=%{y}<extra></extra>",
                  "legendgroup": "recipes",
                  "marker": {
                    "color": "#EF553B",
                    "pattern": {
                      "shape": ""
                    }
                  },
                  "name": "recipes",
                  "offsetgroup": "recipes",
                  "orientation": "v",
                  "showlegend": true,
                  "textposition": "auto",
                  "type": "bar",
                  "x": [
                    "foodanddrink",
                    "health"
                  ],
                  "xaxis": "x",
                  "y": [
                    541,
                    2
                  ],
                  "yaxis": "y"
                },
                {
                  "alignmentgroup": "True",
                  "hovertemplate": "Sub Category=soccer<br>Category=%{x}<br>Values=%{y}<extra></extra>",
                  "legendgroup": "soccer",
                  "marker": {
                    "color": "#00cc96",
                    "pattern": {
                      "shape": ""
                    }
                  },
                  "name": "soccer",
                  "offsetgroup": "soccer",
                  "orientation": "v",
                  "showlegend": true,
                  "textposition": "auto",
                  "type": "bar",
                  "x": [
                    "sports"
                  ],
                  "xaxis": "x",
                  "y": [
                    488
                  ],
                  "yaxis": "y"
                },
                {
                  "alignmentgroup": "True",
                  "hovertemplate": "Sub Category=markets<br>Category=%{x}<br>Values=%{y}<extra></extra>",
                  "legendgroup": "markets",
                  "marker": {
                    "color": "#ab63fa",
                    "pattern": {
                      "shape": ""
                    }
                  },
                  "name": "markets",
                  "offsetgroup": "markets",
                  "orientation": "v",
                  "showlegend": true,
                  "textposition": "auto",
                  "type": "bar",
                  "x": [
                    "finance"
                  ],
                  "xaxis": "x",
                  "y": [
                    460
                  ],
                  "yaxis": "y"
                },
                {
                  "alignmentgroup": "True",
                  "hovertemplate": "Sub Category=movienews<br>Category=%{x}<br>Values=%{y}<extra></extra>",
                  "legendgroup": "movienews",
                  "marker": {
                    "color": "#FFA15A",
                    "pattern": {
                      "shape": ""
                    }
                  },
                  "name": "movienews",
                  "offsetgroup": "movienews",
                  "orientation": "v",
                  "showlegend": true,
                  "textposition": "auto",
                  "type": "bar",
                  "x": [
                    "movies"
                  ],
                  "xaxis": "x",
                  "y": [
                    406
                  ],
                  "yaxis": "y"
                },
                {
                  "alignmentgroup": "True",
                  "hovertemplate": "Sub Category=autosmotorcycles<br>Category=%{x}<br>Values=%{y}<extra></extra>",
                  "legendgroup": "autosmotorcycles",
                  "marker": {
                    "color": "#19d3f3",
                    "pattern": {
                      "shape": ""
                    }
                  },
                  "name": "autosmotorcycles",
                  "offsetgroup": "autosmotorcycles",
                  "orientation": "v",
                  "showlegend": true,
                  "textposition": "auto",
                  "type": "bar",
                  "x": [
                    "autos"
                  ],
                  "xaxis": "x",
                  "y": [
                    394
                  ],
                  "yaxis": "y"
                },
                {
                  "alignmentgroup": "True",
                  "hovertemplate": "Sub Category=tv-celebrity<br>Category=%{x}<br>Values=%{y}<extra></extra>",
                  "legendgroup": "tv-celebrity",
                  "marker": {
                    "color": "#FF6692",
                    "pattern": {
                      "shape": ""
                    }
                  },
                  "name": "tv-celebrity",
                  "offsetgroup": "tv-celebrity",
                  "orientation": "v",
                  "showlegend": true,
                  "textposition": "auto",
                  "type": "bar",
                  "x": [
                    "tv"
                  ],
                  "xaxis": "x",
                  "y": [
                    375
                  ],
                  "yaxis": "y"
                },
                {
                  "alignmentgroup": "True",
                  "hovertemplate": "Sub Category=newsopinion<br>Category=%{x}<br>Values=%{y}<extra></extra>",
                  "legendgroup": "newsopinion",
                  "marker": {
                    "color": "#B6E880",
                    "pattern": {
                      "shape": ""
                    }
                  },
                  "name": "newsopinion",
                  "offsetgroup": "newsopinion",
                  "orientation": "v",
                  "showlegend": true,
                  "textposition": "auto",
                  "type": "bar",
                  "x": [
                    "news"
                  ],
                  "xaxis": "x",
                  "y": [
                    343
                  ],
                  "yaxis": "y"
                },
                {
                  "alignmentgroup": "True",
                  "hovertemplate": "Sub Category=autosenthusiasts<br>Category=%{x}<br>Values=%{y}<extra></extra>",
                  "legendgroup": "autosenthusiasts",
                  "marker": {
                    "color": "#FF97FF",
                    "pattern": {
                      "shape": ""
                    }
                  },
                  "name": "autosenthusiasts",
                  "offsetgroup": "autosenthusiasts",
                  "orientation": "v",
                  "showlegend": true,
                  "textposition": "auto",
                  "type": "bar",
                  "x": [
                    "autos"
                  ],
                  "xaxis": "x",
                  "y": [
                    334
                  ],
                  "yaxis": "y"
                },
                {
                  "alignmentgroup": "True",
                  "hovertemplate": "Sub Category=animals<br>Category=%{x}<br>Values=%{y}<extra></extra>",
                  "legendgroup": "animals",
                  "marker": {
                    "color": "#FECB52",
                    "pattern": {
                      "shape": ""
                    }
                  },
                  "name": "animals",
                  "offsetgroup": "animals",
                  "orientation": "v",
                  "showlegend": true,
                  "textposition": "auto",
                  "type": "bar",
                  "x": [
                    "video",
                    "kids"
                  ],
                  "xaxis": "x",
                  "y": [
                    328,
                    10
                  ],
                  "yaxis": "y"
                },
                {
                  "alignmentgroup": "True",
                  "hovertemplate": "Sub Category=traveltripideas<br>Category=%{x}<br>Values=%{y}<extra></extra>",
                  "legendgroup": "traveltripideas",
                  "marker": {
                    "color": "#636efa",
                    "pattern": {
                      "shape": ""
                    }
                  },
                  "name": "traveltripideas",
                  "offsetgroup": "traveltripideas",
                  "orientation": "v",
                  "showlegend": true,
                  "textposition": "auto",
                  "type": "bar",
                  "x": [
                    "travel"
                  ],
                  "xaxis": "x",
                  "y": [
                    318
                  ],
                  "yaxis": "y"
                },
                {
                  "alignmentgroup": "True",
                  "hovertemplate": "Sub Category=foodnews<br>Category=%{x}<br>Values=%{y}<extra></extra>",
                  "legendgroup": "foodnews",
                  "marker": {
                    "color": "#EF553B",
                    "pattern": {
                      "shape": ""
                    }
                  },
                  "name": "foodnews",
                  "offsetgroup": "foodnews",
                  "orientation": "v",
                  "showlegend": true,
                  "textposition": "auto",
                  "type": "bar",
                  "x": [
                    "foodanddrink"
                  ],
                  "xaxis": "x",
                  "y": [
                    318
                  ],
                  "yaxis": "y"
                },
                {
                  "alignmentgroup": "True",
                  "hovertemplate": "Sub Category=tipsandtricks<br>Category=%{x}<br>Values=%{y}<extra></extra>",
                  "legendgroup": "tipsandtricks",
                  "marker": {
                    "color": "#00cc96",
                    "pattern": {
                      "shape": ""
                    }
                  },
                  "name": "tipsandtricks",
                  "offsetgroup": "tipsandtricks",
                  "orientation": "v",
                  "showlegend": true,
                  "textposition": "auto",
                  "type": "bar",
                  "x": [
                    "foodanddrink"
                  ],
                  "xaxis": "x",
                  "y": [
                    316
                  ],
                  "yaxis": "y"
                },
                {
                  "alignmentgroup": "True",
                  "hovertemplate": "Sub Category=finance-career-education<br>Category=%{x}<br>Values=%{y}<extra></extra>",
                  "legendgroup": "finance-career-education",
                  "marker": {
                    "color": "#ab63fa",
                    "pattern": {
                      "shape": ""
                    }
                  },
                  "name": "finance-career-education",
                  "offsetgroup": "finance-career-education",
                  "orientation": "v",
                  "showlegend": true,
                  "textposition": "auto",
                  "type": "bar",
                  "x": [
                    "finance"
                  ],
                  "xaxis": "x",
                  "y": [
                    314
                  ],
                  "yaxis": "y"
                },
                {
                  "alignmentgroup": "True",
                  "hovertemplate": "Sub Category=lifestylefamily<br>Category=%{x}<br>Values=%{y}<extra></extra>",
                  "legendgroup": "lifestylefamily",
                  "marker": {
                    "color": "#FFA15A",
                    "pattern": {
                      "shape": ""
                    }
                  },
                  "name": "lifestylefamily",
                  "offsetgroup": "lifestylefamily",
                  "orientation": "v",
                  "showlegend": true,
                  "textposition": "auto",
                  "type": "bar",
                  "x": [
                    "lifestyle"
                  ],
                  "xaxis": "x",
                  "y": [
                    314
                  ],
                  "yaxis": "y"
                },
                {
                  "alignmentgroup": "True",
                  "hovertemplate": "Sub Category=nutrition<br>Category=%{x}<br>Values=%{y}<extra></extra>",
                  "legendgroup": "nutrition",
                  "marker": {
                    "color": "#19d3f3",
                    "pattern": {
                      "shape": ""
                    }
                  },
                  "name": "nutrition",
                  "offsetgroup": "nutrition",
                  "orientation": "v",
                  "showlegend": true,
                  "textposition": "auto",
                  "type": "bar",
                  "x": [
                    "health"
                  ],
                  "xaxis": "x",
                  "y": [
                    281
                  ],
                  "yaxis": "y"
                },
                {
                  "alignmentgroup": "True",
                  "hovertemplate": "Sub Category=lifestyleroyals<br>Category=%{x}<br>Values=%{y}<extra></extra>",
                  "legendgroup": "lifestyleroyals",
                  "marker": {
                    "color": "#FF6692",
                    "pattern": {
                      "shape": ""
                    }
                  },
                  "name": "lifestyleroyals",
                  "offsetgroup": "lifestyleroyals",
                  "orientation": "v",
                  "showlegend": true,
                  "textposition": "auto",
                  "type": "bar",
                  "x": [
                    "lifestyle"
                  ],
                  "xaxis": "x",
                  "y": [
                    273
                  ],
                  "yaxis": "y"
                },
                {
                  "alignmentgroup": "True",
                  "hovertemplate": "Sub Category=viral<br>Category=%{x}<br>Values=%{y}<extra></extra>",
                  "legendgroup": "viral",
                  "marker": {
                    "color": "#B6E880",
                    "pattern": {
                      "shape": ""
                    }
                  },
                  "name": "viral",
                  "offsetgroup": "viral",
                  "orientation": "v",
                  "showlegend": true,
                  "textposition": "auto",
                  "type": "bar",
                  "x": [
                    "video"
                  ],
                  "xaxis": "x",
                  "y": [
                    269
                  ],
                  "yaxis": "y"
                },
                {
                  "alignmentgroup": "True",
                  "hovertemplate": "Sub Category=gaming<br>Category=%{x}<br>Values=%{y}<extra></extra>",
                  "legendgroup": "gaming",
                  "marker": {
                    "color": "#FF97FF",
                    "pattern": {
                      "shape": ""
                    }
                  },
                  "name": "gaming",
                  "offsetgroup": "gaming",
                  "orientation": "v",
                  "showlegend": true,
                  "textposition": "auto",
                  "type": "bar",
                  "x": [
                    "entertainment"
                  ],
                  "xaxis": "x",
                  "y": [
                    256
                  ],
                  "yaxis": "y"
                },
                {
                  "alignmentgroup": "True",
                  "hovertemplate": "Sub Category=tennis<br>Category=%{x}<br>Values=%{y}<extra></extra>",
                  "legendgroup": "tennis",
                  "marker": {
                    "color": "#FECB52",
                    "pattern": {
                      "shape": ""
                    }
                  },
                  "name": "tennis",
                  "offsetgroup": "tennis",
                  "orientation": "v",
                  "showlegend": true,
                  "textposition": "auto",
                  "type": "bar",
                  "x": [
                    "sports"
                  ],
                  "xaxis": "x",
                  "y": [
                    255
                  ],
                  "yaxis": "y"
                },
                {
                  "alignmentgroup": "True",
                  "hovertemplate": "Sub Category=lifestylehomeandgarden<br>Category=%{x}<br>Values=%{y}<extra></extra>",
                  "legendgroup": "lifestylehomeandgarden",
                  "marker": {
                    "color": "#636efa",
                    "pattern": {
                      "shape": ""
                    }
                  },
                  "name": "lifestylehomeandgarden",
                  "offsetgroup": "lifestylehomeandgarden",
                  "orientation": "v",
                  "showlegend": true,
                  "textposition": "auto",
                  "type": "bar",
                  "x": [
                    "lifestyle"
                  ],
                  "xaxis": "x",
                  "y": [
                    239
                  ],
                  "yaxis": "y"
                },
                {
                  "alignmentgroup": "True",
                  "hovertemplate": "Sub Category=music-celebrity<br>Category=%{x}<br>Values=%{y}<extra></extra>",
                  "legendgroup": "music-celebrity",
                  "marker": {
                    "color": "#EF553B",
                    "pattern": {
                      "shape": ""
                    }
                  },
                  "name": "music-celebrity",
                  "offsetgroup": "music-celebrity",
                  "orientation": "v",
                  "showlegend": true,
                  "textposition": "auto",
                  "type": "bar",
                  "x": [
                    "music"
                  ],
                  "xaxis": "x",
                  "y": [
                    225
                  ],
                  "yaxis": "y"
                },
                {
                  "alignmentgroup": "True",
                  "hovertemplate": "Sub Category=movies-celebrity<br>Category=%{x}<br>Values=%{y}<extra></extra>",
                  "legendgroup": "movies-celebrity",
                  "marker": {
                    "color": "#00cc96",
                    "pattern": {
                      "shape": ""
                    }
                  },
                  "name": "movies-celebrity",
                  "offsetgroup": "movies-celebrity",
                  "orientation": "v",
                  "showlegend": true,
                  "textposition": "auto",
                  "type": "bar",
                  "x": [
                    "movies"
                  ],
                  "xaxis": "x",
                  "y": [
                    224
                  ],
                  "yaxis": "y"
                },
                {
                  "alignmentgroup": "True",
                  "hovertemplate": "Sub Category=football_nfl_videos<br>Category=%{x}<br>Values=%{y}<extra></extra>",
                  "legendgroup": "football_nfl_videos",
                  "marker": {
                    "color": "#ab63fa",
                    "pattern": {
                      "shape": ""
                    }
                  },
                  "name": "football_nfl_videos",
                  "offsetgroup": "football_nfl_videos",
                  "orientation": "v",
                  "showlegend": true,
                  "textposition": "auto",
                  "type": "bar",
                  "x": [
                    "sports"
                  ],
                  "xaxis": "x",
                  "y": [
                    219
                  ],
                  "yaxis": "y"
                },
                {
                  "alignmentgroup": "True",
                  "hovertemplate": "Sub Category=finance-top-stocks<br>Category=%{x}<br>Values=%{y}<extra></extra>",
                  "legendgroup": "finance-top-stocks",
                  "marker": {
                    "color": "#FFA15A",
                    "pattern": {
                      "shape": ""
                    }
                  },
                  "name": "finance-top-stocks",
                  "offsetgroup": "finance-top-stocks",
                  "orientation": "v",
                  "showlegend": true,
                  "textposition": "auto",
                  "type": "bar",
                  "x": [
                    "finance"
                  ],
                  "xaxis": "x",
                  "y": [
                    214
                  ],
                  "yaxis": "y"
                },
                {
                  "alignmentgroup": "True",
                  "hovertemplate": "Sub Category=autosclassics<br>Category=%{x}<br>Values=%{y}<extra></extra>",
                  "legendgroup": "autosclassics",
                  "marker": {
                    "color": "#19d3f3",
                    "pattern": {
                      "shape": ""
                    }
                  },
                  "name": "autosclassics",
                  "offsetgroup": "autosclassics",
                  "orientation": "v",
                  "showlegend": true,
                  "textposition": "auto",
                  "type": "bar",
                  "x": [
                    "autos"
                  ],
                  "xaxis": "x",
                  "y": [
                    211
                  ],
                  "yaxis": "y"
                },
                {
                  "alignmentgroup": "True",
                  "hovertemplate": "Sub Category=restaurantsandnews<br>Category=%{x}<br>Values=%{y}<extra></extra>",
                  "legendgroup": "restaurantsandnews",
                  "marker": {
                    "color": "#FF6692",
                    "pattern": {
                      "shape": ""
                    }
                  },
                  "name": "restaurantsandnews",
                  "offsetgroup": "restaurantsandnews",
                  "orientation": "v",
                  "showlegend": true,
                  "textposition": "auto",
                  "type": "bar",
                  "x": [
                    "foodanddrink"
                  ],
                  "xaxis": "x",
                  "y": [
                    200
                  ],
                  "yaxis": "y"
                },
                {
                  "alignmentgroup": "True",
                  "hovertemplate": "Sub Category=newsgoodnews<br>Category=%{x}<br>Values=%{y}<extra></extra>",
                  "legendgroup": "newsgoodnews",
                  "marker": {
                    "color": "#B6E880",
                    "pattern": {
                      "shape": ""
                    }
                  },
                  "name": "newsgoodnews",
                  "offsetgroup": "newsgoodnews",
                  "orientation": "v",
                  "showlegend": true,
                  "textposition": "auto",
                  "type": "bar",
                  "x": [
                    "news"
                  ],
                  "xaxis": "x",
                  "y": [
                    190
                  ],
                  "yaxis": "y"
                },
                {
                  "alignmentgroup": "True",
                  "hovertemplate": "Sub Category=lifestylepets<br>Category=%{x}<br>Values=%{y}<extra></extra>",
                  "legendgroup": "lifestylepets",
                  "marker": {
                    "color": "#FF97FF",
                    "pattern": {
                      "shape": ""
                    }
                  },
                  "name": "lifestylepets",
                  "offsetgroup": "lifestylepets",
                  "orientation": "v",
                  "showlegend": true,
                  "textposition": "auto",
                  "type": "bar",
                  "x": [
                    "lifestyle"
                  ],
                  "xaxis": "x",
                  "y": [
                    182
                  ],
                  "yaxis": "y"
                },
                {
                  "alignmentgroup": "True",
                  "hovertemplate": "Sub Category=fitness<br>Category=%{x}<br>Values=%{y}<extra></extra>",
                  "legendgroup": "fitness",
                  "marker": {
                    "color": "#FECB52",
                    "pattern": {
                      "shape": ""
                    }
                  },
                  "name": "fitness",
                  "offsetgroup": "fitness",
                  "orientation": "v",
                  "showlegend": true,
                  "textposition": "auto",
                  "type": "bar",
                  "x": [
                    "health"
                  ],
                  "xaxis": "x",
                  "y": [
                    171
                  ],
                  "yaxis": "y"
                },
                {
                  "alignmentgroup": "True",
                  "hovertemplate": "Sub Category=lifestyle<br>Category=%{x}<br>Values=%{y}<extra></extra>",
                  "legendgroup": "lifestyle",
                  "marker": {
                    "color": "#636efa",
                    "pattern": {
                      "shape": ""
                    }
                  },
                  "name": "lifestyle",
                  "offsetgroup": "lifestyle",
                  "orientation": "v",
                  "showlegend": true,
                  "textposition": "auto",
                  "type": "bar",
                  "x": [
                    "video",
                    "lifestyle"
                  ],
                  "xaxis": "x",
                  "y": [
                    170,
                    1
                  ],
                  "yaxis": "y"
                },
                {
                  "alignmentgroup": "True",
                  "hovertemplate": "Sub Category=weightloss<br>Category=%{x}<br>Values=%{y}<extra></extra>",
                  "legendgroup": "weightloss",
                  "marker": {
                    "color": "#EF553B",
                    "pattern": {
                      "shape": ""
                    }
                  },
                  "name": "weightloss",
                  "offsetgroup": "weightloss",
                  "orientation": "v",
                  "showlegend": true,
                  "textposition": "auto",
                  "type": "bar",
                  "x": [
                    "health"
                  ],
                  "xaxis": "x",
                  "y": [
                    168
                  ],
                  "yaxis": "y"
                },
                {
                  "alignmentgroup": "True",
                  "hovertemplate": "Sub Category=entertainment-celebrity<br>Category=%{x}<br>Values=%{y}<extra></extra>",
                  "legendgroup": "entertainment-celebrity",
                  "marker": {
                    "color": "#00cc96",
                    "pattern": {
                      "shape": ""
                    }
                  },
                  "name": "entertainment-celebrity",
                  "offsetgroup": "entertainment-celebrity",
                  "orientation": "v",
                  "showlegend": true,
                  "textposition": "auto",
                  "type": "bar",
                  "x": [
                    "entertainment"
                  ],
                  "xaxis": "x",
                  "y": [
                    168
                  ],
                  "yaxis": "y"
                },
                {
                  "alignmentgroup": "True",
                  "hovertemplate": "Sub Category=finance-video<br>Category=%{x}<br>Values=%{y}<extra></extra>",
                  "legendgroup": "finance-video",
                  "marker": {
                    "color": "#ab63fa",
                    "pattern": {
                      "shape": ""
                    }
                  },
                  "name": "finance-video",
                  "offsetgroup": "finance-video",
                  "orientation": "v",
                  "showlegend": true,
                  "textposition": "auto",
                  "type": "bar",
                  "x": [
                    "finance"
                  ],
                  "xaxis": "x",
                  "y": [
                    166
                  ],
                  "yaxis": "y"
                },
                {
                  "alignmentgroup": "True",
                  "hovertemplate": "Sub Category=science<br>Category=%{x}<br>Values=%{y}<extra></extra>",
                  "legendgroup": "science",
                  "marker": {
                    "color": "#FFA15A",
                    "pattern": {
                      "shape": ""
                    }
                  },
                  "name": "science",
                  "offsetgroup": "science",
                  "orientation": "v",
                  "showlegend": true,
                  "textposition": "auto",
                  "type": "bar",
                  "x": [
                    "video",
                    "kids"
                  ],
                  "xaxis": "x",
                  "y": [
                    163,
                    19
                  ],
                  "yaxis": "y"
                },
                {
                  "alignmentgroup": "True",
                  "hovertemplate": "Sub Category=celebrity<br>Category=%{x}<br>Values=%{y}<extra></extra>",
                  "legendgroup": "celebrity",
                  "marker": {
                    "color": "#19d3f3",
                    "pattern": {
                      "shape": ""
                    }
                  },
                  "name": "celebrity",
                  "offsetgroup": "celebrity",
                  "orientation": "v",
                  "showlegend": true,
                  "textposition": "auto",
                  "type": "bar",
                  "x": [
                    "entertainment"
                  ],
                  "xaxis": "x",
                  "y": [
                    151
                  ],
                  "yaxis": "y"
                },
                {
                  "alignmentgroup": "True",
                  "hovertemplate": "Sub Category=peopleandplaces<br>Category=%{x}<br>Values=%{y}<extra></extra>",
                  "legendgroup": "peopleandplaces",
                  "marker": {
                    "color": "#FF6692",
                    "pattern": {
                      "shape": ""
                    }
                  },
                  "name": "peopleandplaces",
                  "offsetgroup": "peopleandplaces",
                  "orientation": "v",
                  "showlegend": true,
                  "textposition": "auto",
                  "type": "bar",
                  "x": [
                    "video"
                  ],
                  "xaxis": "x",
                  "y": [
                    150
                  ],
                  "yaxis": "y"
                },
                {
                  "alignmentgroup": "True",
                  "hovertemplate": "Sub Category=entertainment-books<br>Category=%{x}<br>Values=%{y}<extra></extra>",
                  "legendgroup": "entertainment-books",
                  "marker": {
                    "color": "#B6E880",
                    "pattern": {
                      "shape": ""
                    }
                  },
                  "name": "entertainment-books",
                  "offsetgroup": "entertainment-books",
                  "orientation": "v",
                  "showlegend": true,
                  "textposition": "auto",
                  "type": "bar",
                  "x": [
                    "entertainment"
                  ],
                  "xaxis": "x",
                  "y": [
                    147
                  ],
                  "yaxis": "y"
                },
                {
                  "alignmentgroup": "True",
                  "hovertemplate": "Sub Category=personalfinance<br>Category=%{x}<br>Values=%{y}<extra></extra>",
                  "legendgroup": "personalfinance",
                  "marker": {
                    "color": "#FF97FF",
                    "pattern": {
                      "shape": ""
                    }
                  },
                  "name": "personalfinance",
                  "offsetgroup": "personalfinance",
                  "orientation": "v",
                  "showlegend": true,
                  "textposition": "auto",
                  "type": "bar",
                  "x": [
                    "finance",
                    "news"
                  ],
                  "xaxis": "x",
                  "y": [
                    139,
                    2
                  ],
                  "yaxis": "y"
                },
                {
                  "alignmentgroup": "True",
                  "hovertemplate": "Sub Category=newsbusiness<br>Category=%{x}<br>Values=%{y}<extra></extra>",
                  "legendgroup": "newsbusiness",
                  "marker": {
                    "color": "#FECB52",
                    "pattern": {
                      "shape": ""
                    }
                  },
                  "name": "newsbusiness",
                  "offsetgroup": "newsbusiness",
                  "orientation": "v",
                  "showlegend": true,
                  "textposition": "auto",
                  "type": "bar",
                  "x": [
                    "news"
                  ],
                  "xaxis": "x",
                  "y": [
                    138
                  ],
                  "yaxis": "y"
                },
                {
                  "alignmentgroup": "True",
                  "hovertemplate": "Sub Category=elections-2020-us<br>Category=%{x}<br>Values=%{y}<extra></extra>",
                  "legendgroup": "elections-2020-us",
                  "marker": {
                    "color": "#636efa",
                    "pattern": {
                      "shape": ""
                    }
                  },
                  "name": "elections-2020-us",
                  "offsetgroup": "elections-2020-us",
                  "orientation": "v",
                  "showlegend": true,
                  "textposition": "auto",
                  "type": "bar",
                  "x": [
                    "news"
                  ],
                  "xaxis": "x",
                  "y": [
                    135
                  ],
                  "yaxis": "y"
                },
                {
                  "alignmentgroup": "True",
                  "hovertemplate": "Sub Category=lifestyledidyouknow<br>Category=%{x}<br>Values=%{y}<extra></extra>",
                  "legendgroup": "lifestyledidyouknow",
                  "marker": {
                    "color": "#EF553B",
                    "pattern": {
                      "shape": ""
                    }
                  },
                  "name": "lifestyledidyouknow",
                  "offsetgroup": "lifestyledidyouknow",
                  "orientation": "v",
                  "showlegend": true,
                  "textposition": "auto",
                  "type": "bar",
                  "x": [
                    "lifestyle"
                  ],
                  "xaxis": "x",
                  "y": [
                    128
                  ],
                  "yaxis": "y"
                },
                {
                  "alignmentgroup": "True",
                  "hovertemplate": "Sub Category=lifestylehoroscope<br>Category=%{x}<br>Values=%{y}<extra></extra>",
                  "legendgroup": "lifestylehoroscope",
                  "marker": {
                    "color": "#00cc96",
                    "pattern": {
                      "shape": ""
                    }
                  },
                  "name": "lifestylehoroscope",
                  "offsetgroup": "lifestylehoroscope",
                  "orientation": "v",
                  "showlegend": true,
                  "textposition": "auto",
                  "type": "bar",
                  "x": [
                    "lifestyle"
                  ],
                  "xaxis": "x",
                  "y": [
                    126
                  ],
                  "yaxis": "y"
                },
                {
                  "alignmentgroup": "True",
                  "hovertemplate": "Sub Category=lifestylesmartliving<br>Category=%{x}<br>Values=%{y}<extra></extra>",
                  "legendgroup": "lifestylesmartliving",
                  "marker": {
                    "color": "#ab63fa",
                    "pattern": {
                      "shape": ""
                    }
                  },
                  "name": "lifestylesmartliving",
                  "offsetgroup": "lifestylesmartliving",
                  "orientation": "v",
                  "showlegend": true,
                  "textposition": "auto",
                  "type": "bar",
                  "x": [
                    "lifestyle"
                  ],
                  "xaxis": "x",
                  "y": [
                    125
                  ],
                  "yaxis": "y"
                },
                {
                  "alignmentgroup": "True",
                  "hovertemplate": "Sub Category=lifestylepetsanimals<br>Category=%{x}<br>Values=%{y}<extra></extra>",
                  "legendgroup": "lifestylepetsanimals",
                  "marker": {
                    "color": "#FFA15A",
                    "pattern": {
                      "shape": ""
                    }
                  },
                  "name": "lifestylepetsanimals",
                  "offsetgroup": "lifestylepetsanimals",
                  "orientation": "v",
                  "showlegend": true,
                  "textposition": "auto",
                  "type": "bar",
                  "x": [
                    "lifestyle"
                  ],
                  "xaxis": "x",
                  "y": [
                    122
                  ],
                  "yaxis": "y"
                },
                {
                  "alignmentgroup": "True",
                  "hovertemplate": "Sub Category=popculture<br>Category=%{x}<br>Values=%{y}<extra></extra>",
                  "legendgroup": "popculture",
                  "marker": {
                    "color": "#19d3f3",
                    "pattern": {
                      "shape": ""
                    }
                  },
                  "name": "popculture",
                  "offsetgroup": "popculture",
                  "orientation": "v",
                  "showlegend": true,
                  "textposition": "auto",
                  "type": "bar",
                  "x": [
                    "video"
                  ],
                  "xaxis": "x",
                  "y": [
                    122
                  ],
                  "yaxis": "y"
                },
                {
                  "alignmentgroup": "True",
                  "hovertemplate": "Sub Category=videos<br>Category=%{x}<br>Values=%{y}<extra></extra>",
                  "legendgroup": "videos",
                  "marker": {
                    "color": "#FF6692",
                    "pattern": {
                      "shape": ""
                    }
                  },
                  "name": "videos",
                  "offsetgroup": "videos",
                  "orientation": "v",
                  "showlegend": true,
                  "textposition": "auto",
                  "type": "bar",
                  "x": [
                    "foodanddrink"
                  ],
                  "xaxis": "x",
                  "y": [
                    122
                  ],
                  "yaxis": "y"
                },
                {
                  "alignmentgroup": "True",
                  "hovertemplate": "Sub Category=finance-saving-investing<br>Category=%{x}<br>Values=%{y}<extra></extra>",
                  "legendgroup": "finance-saving-investing",
                  "marker": {
                    "color": "#B6E880",
                    "pattern": {
                      "shape": ""
                    }
                  },
                  "name": "finance-saving-investing",
                  "offsetgroup": "finance-saving-investing",
                  "orientation": "v",
                  "showlegend": true,
                  "textposition": "auto",
                  "type": "bar",
                  "x": [
                    "finance"
                  ],
                  "xaxis": "x",
                  "y": [
                    113
                  ],
                  "yaxis": "y"
                },
                {
                  "alignmentgroup": "True",
                  "hovertemplate": "Sub Category=shop-holidays<br>Category=%{x}<br>Values=%{y}<extra></extra>",
                  "legendgroup": "shop-holidays",
                  "marker": {
                    "color": "#FF97FF",
                    "pattern": {
                      "shape": ""
                    }
                  },
                  "name": "shop-holidays",
                  "offsetgroup": "shop-holidays",
                  "orientation": "v",
                  "showlegend": true,
                  "textposition": "auto",
                  "type": "bar",
                  "x": [
                    "lifestyle"
                  ],
                  "xaxis": "x",
                  "y": [
                    111
                  ],
                  "yaxis": "y"
                },
                {
                  "alignmentgroup": "True",
                  "hovertemplate": "Sub Category=voices<br>Category=%{x}<br>Values=%{y}<extra></extra>",
                  "legendgroup": "voices",
                  "marker": {
                    "color": "#FECB52",
                    "pattern": {
                      "shape": ""
                    }
                  },
                  "name": "voices",
                  "offsetgroup": "voices",
                  "orientation": "v",
                  "showlegend": true,
                  "textposition": "auto",
                  "type": "bar",
                  "x": [
                    "lifestyle",
                    "health",
                    "travel"
                  ],
                  "xaxis": "x",
                  "y": [
                    110,
                    73,
                    8
                  ],
                  "yaxis": "y"
                },
                {
                  "alignmentgroup": "True",
                  "hovertemplate": "Sub Category=finance-retirement<br>Category=%{x}<br>Values=%{y}<extra></extra>",
                  "legendgroup": "finance-retirement",
                  "marker": {
                    "color": "#636efa",
                    "pattern": {
                      "shape": ""
                    }
                  },
                  "name": "finance-retirement",
                  "offsetgroup": "finance-retirement",
                  "orientation": "v",
                  "showlegend": true,
                  "textposition": "auto",
                  "type": "bar",
                  "x": [
                    "finance"
                  ],
                  "xaxis": "x",
                  "y": [
                    103
                  ],
                  "yaxis": "y"
                },
                {
                  "alignmentgroup": "True",
                  "hovertemplate": "Sub Category=beverages<br>Category=%{x}<br>Values=%{y}<extra></extra>",
                  "legendgroup": "beverages",
                  "marker": {
                    "color": "#EF553B",
                    "pattern": {
                      "shape": ""
                    }
                  },
                  "name": "beverages",
                  "offsetgroup": "beverages",
                  "orientation": "v",
                  "showlegend": true,
                  "textposition": "auto",
                  "type": "bar",
                  "x": [
                    "foodanddrink"
                  ],
                  "xaxis": "x",
                  "y": [
                    100
                  ],
                  "yaxis": "y"
                },
                {
                  "alignmentgroup": "True",
                  "hovertemplate": "Sub Category=outdoors<br>Category=%{x}<br>Values=%{y}<extra></extra>",
                  "legendgroup": "outdoors",
                  "marker": {
                    "color": "#00cc96",
                    "pattern": {
                      "shape": ""
                    }
                  },
                  "name": "outdoors",
                  "offsetgroup": "outdoors",
                  "orientation": "v",
                  "showlegend": true,
                  "textposition": "auto",
                  "type": "bar",
                  "x": [
                    "sports"
                  ],
                  "xaxis": "x",
                  "y": [
                    94
                  ],
                  "yaxis": "y"
                },
                {
                  "alignmentgroup": "True",
                  "hovertemplate": "Sub Category=finance-savemoney<br>Category=%{x}<br>Values=%{y}<extra></extra>",
                  "legendgroup": "finance-savemoney",
                  "marker": {
                    "color": "#ab63fa",
                    "pattern": {
                      "shape": ""
                    }
                  },
                  "name": "finance-savemoney",
                  "offsetgroup": "finance-savemoney",
                  "orientation": "v",
                  "showlegend": true,
                  "textposition": "auto",
                  "type": "bar",
                  "x": [
                    "finance"
                  ],
                  "xaxis": "x",
                  "y": [
                    93
                  ],
                  "yaxis": "y"
                },
                {
                  "alignmentgroup": "True",
                  "hovertemplate": "Sub Category=lifestylerelationships<br>Category=%{x}<br>Values=%{y}<extra></extra>",
                  "legendgroup": "lifestylerelationships",
                  "marker": {
                    "color": "#FFA15A",
                    "pattern": {
                      "shape": ""
                    }
                  },
                  "name": "lifestylerelationships",
                  "offsetgroup": "lifestylerelationships",
                  "orientation": "v",
                  "showlegend": true,
                  "textposition": "auto",
                  "type": "bar",
                  "x": [
                    "lifestyle"
                  ],
                  "xaxis": "x",
                  "y": [
                    91
                  ],
                  "yaxis": "y"
                },
                {
                  "alignmentgroup": "True",
                  "hovertemplate": "Sub Category=finance-small-business<br>Category=%{x}<br>Values=%{y}<extra></extra>",
                  "legendgroup": "finance-small-business",
                  "marker": {
                    "color": "#19d3f3",
                    "pattern": {
                      "shape": ""
                    }
                  },
                  "name": "finance-small-business",
                  "offsetgroup": "finance-small-business",
                  "orientation": "v",
                  "showlegend": true,
                  "textposition": "auto",
                  "type": "bar",
                  "x": [
                    "finance"
                  ],
                  "xaxis": "x",
                  "y": [
                    89
                  ],
                  "yaxis": "y"
                },
                {
                  "alignmentgroup": "True",
                  "hovertemplate": "Sub Category=movievideo<br>Category=%{x}<br>Values=%{y}<extra></extra>",
                  "legendgroup": "movievideo",
                  "marker": {
                    "color": "#FF6692",
                    "pattern": {
                      "shape": ""
                    }
                  },
                  "name": "movievideo",
                  "offsetgroup": "movievideo",
                  "orientation": "v",
                  "showlegend": true,
                  "textposition": "auto",
                  "type": "bar",
                  "x": [
                    "movies"
                  ],
                  "xaxis": "x",
                  "y": [
                    89
                  ],
                  "yaxis": "y"
                },
                {
                  "alignmentgroup": "True",
                  "hovertemplate": "Sub Category=soccer_mls<br>Category=%{x}<br>Values=%{y}<extra></extra>",
                  "legendgroup": "soccer_mls",
                  "marker": {
                    "color": "#B6E880",
                    "pattern": {
                      "shape": ""
                    }
                  },
                  "name": "soccer_mls",
                  "offsetgroup": "soccer_mls",
                  "orientation": "v",
                  "showlegend": true,
                  "textposition": "auto",
                  "type": "bar",
                  "x": [
                    "sports"
                  ],
                  "xaxis": "x",
                  "y": [
                    88
                  ],
                  "yaxis": "y"
                },
                {
                  "alignmentgroup": "True",
                  "hovertemplate": "Sub Category=traveltips<br>Category=%{x}<br>Values=%{y}<extra></extra>",
                  "legendgroup": "traveltips",
                  "marker": {
                    "color": "#FF97FF",
                    "pattern": {
                      "shape": ""
                    }
                  },
                  "name": "traveltips",
                  "offsetgroup": "traveltips",
                  "orientation": "v",
                  "showlegend": true,
                  "textposition": "auto",
                  "type": "bar",
                  "x": [
                    "travel"
                  ],
                  "xaxis": "x",
                  "y": [
                    86
                  ],
                  "yaxis": "y"
                },
                {
                  "alignmentgroup": "True",
                  "hovertemplate": "Sub Category=tv-gallery<br>Category=%{x}<br>Values=%{y}<extra></extra>",
                  "legendgroup": "tv-gallery",
                  "marker": {
                    "color": "#FECB52",
                    "pattern": {
                      "shape": ""
                    }
                  },
                  "name": "tv-gallery",
                  "offsetgroup": "tv-gallery",
                  "orientation": "v",
                  "showlegend": true,
                  "textposition": "auto",
                  "type": "bar",
                  "x": [
                    "tv"
                  ],
                  "xaxis": "x",
                  "y": [
                    83
                  ],
                  "yaxis": "y"
                },
                {
                  "alignmentgroup": "True",
                  "hovertemplate": "Sub Category=autossports<br>Category=%{x}<br>Values=%{y}<extra></extra>",
                  "legendgroup": "autossports",
                  "marker": {
                    "color": "#636efa",
                    "pattern": {
                      "shape": ""
                    }
                  },
                  "name": "autossports",
                  "offsetgroup": "autossports",
                  "orientation": "v",
                  "showlegend": true,
                  "textposition": "auto",
                  "type": "bar",
                  "x": [
                    "autos"
                  ],
                  "xaxis": "x",
                  "y": [
                    80
                  ],
                  "yaxis": "y"
                },
                {
                  "alignmentgroup": "True",
                  "hovertemplate": "Sub Category=autossuvs<br>Category=%{x}<br>Values=%{y}<extra></extra>",
                  "legendgroup": "autossuvs",
                  "marker": {
                    "color": "#EF553B",
                    "pattern": {
                      "shape": ""
                    }
                  },
                  "name": "autossuvs",
                  "offsetgroup": "autossuvs",
                  "orientation": "v",
                  "showlegend": true,
                  "textposition": "auto",
                  "type": "bar",
                  "x": [
                    "autos"
                  ],
                  "xaxis": "x",
                  "y": [
                    79
                  ],
                  "yaxis": "y"
                },
                {
                  "alignmentgroup": "True",
                  "hovertemplate": "Sub Category=lifestylemindandsoul<br>Category=%{x}<br>Values=%{y}<extra></extra>",
                  "legendgroup": "lifestylemindandsoul",
                  "marker": {
                    "color": "#00cc96",
                    "pattern": {
                      "shape": ""
                    }
                  },
                  "name": "lifestylemindandsoul",
                  "offsetgroup": "lifestylemindandsoul",
                  "orientation": "v",
                  "showlegend": true,
                  "textposition": "auto",
                  "type": "bar",
                  "x": [
                    "lifestyle"
                  ],
                  "xaxis": "x",
                  "y": [
                    74
                  ],
                  "yaxis": "y"
                },
                {
                  "alignmentgroup": "True",
                  "hovertemplate": "Sub Category=movies-gallery<br>Category=%{x}<br>Values=%{y}<extra></extra>",
                  "legendgroup": "movies-gallery",
                  "marker": {
                    "color": "#ab63fa",
                    "pattern": {
                      "shape": ""
                    }
                  },
                  "name": "movies-gallery",
                  "offsetgroup": "movies-gallery",
                  "orientation": "v",
                  "showlegend": true,
                  "textposition": "auto",
                  "type": "bar",
                  "x": [
                    "movies"
                  ],
                  "xaxis": "x",
                  "y": [
                    72
                  ],
                  "yaxis": "y"
                },
                {
                  "alignmentgroup": "True",
                  "hovertemplate": "Sub Category=lifestylecelebstyle<br>Category=%{x}<br>Values=%{y}<extra></extra>",
                  "legendgroup": "lifestylecelebstyle",
                  "marker": {
                    "color": "#FFA15A",
                    "pattern": {
                      "shape": ""
                    }
                  },
                  "name": "lifestylecelebstyle",
                  "offsetgroup": "lifestylecelebstyle",
                  "orientation": "v",
                  "showlegend": true,
                  "textposition": "auto",
                  "type": "bar",
                  "x": [
                    "lifestyle"
                  ],
                  "xaxis": "x",
                  "y": [
                    71
                  ],
                  "yaxis": "y"
                },
                {
                  "alignmentgroup": "True",
                  "hovertemplate": "Sub Category=lifestylecareer<br>Category=%{x}<br>Values=%{y}<extra></extra>",
                  "legendgroup": "lifestylecareer",
                  "marker": {
                    "color": "#19d3f3",
                    "pattern": {
                      "shape": ""
                    }
                  },
                  "name": "lifestylecareer",
                  "offsetgroup": "lifestylecareer",
                  "orientation": "v",
                  "showlegend": true,
                  "textposition": "auto",
                  "type": "bar",
                  "x": [
                    "lifestyle"
                  ],
                  "xaxis": "x",
                  "y": [
                    71
                  ],
                  "yaxis": "y"
                },
                {
                  "alignmentgroup": "True",
                  "hovertemplate": "Sub Category=video<br>Category=%{x}<br>Values=%{y}<extra></extra>",
                  "legendgroup": "video",
                  "marker": {
                    "color": "#FF6692",
                    "pattern": {
                      "shape": ""
                    }
                  },
                  "name": "video",
                  "offsetgroup": "video",
                  "orientation": "v",
                  "showlegend": true,
                  "textposition": "auto",
                  "type": "bar",
                  "x": [
                    "travel",
                    "entertainment",
                    "kids",
                    "health"
                  ],
                  "xaxis": "x",
                  "y": [
                    66,
                    31,
                    24,
                    16
                  ],
                  "yaxis": "y"
                },
                {
                  "alignmentgroup": "True",
                  "hovertemplate": "Sub Category=lifestyleparenting<br>Category=%{x}<br>Values=%{y}<extra></extra>",
                  "legendgroup": "lifestyleparenting",
                  "marker": {
                    "color": "#B6E880",
                    "pattern": {
                      "shape": ""
                    }
                  },
                  "name": "lifestyleparenting",
                  "offsetgroup": "lifestyleparenting",
                  "orientation": "v",
                  "showlegend": true,
                  "textposition": "auto",
                  "type": "bar",
                  "x": [
                    "lifestyle"
                  ],
                  "xaxis": "x",
                  "y": [
                    64
                  ],
                  "yaxis": "y"
                },
                {
                  "alignmentgroup": "True",
                  "hovertemplate": "Sub Category=lifestylebeauty<br>Category=%{x}<br>Values=%{y}<extra></extra>",
                  "legendgroup": "lifestylebeauty",
                  "marker": {
                    "color": "#FF97FF",
                    "pattern": {
                      "shape": ""
                    }
                  },
                  "name": "lifestylebeauty",
                  "offsetgroup": "lifestylebeauty",
                  "orientation": "v",
                  "showlegend": true,
                  "textposition": "auto",
                  "type": "bar",
                  "x": [
                    "lifestyle"
                  ],
                  "xaxis": "x",
                  "y": [
                    62
                  ],
                  "yaxis": "y"
                },
                {
                  "alignmentgroup": "True",
                  "hovertemplate": "Sub Category=finance-taxes<br>Category=%{x}<br>Values=%{y}<extra></extra>",
                  "legendgroup": "finance-taxes",
                  "marker": {
                    "color": "#FECB52",
                    "pattern": {
                      "shape": ""
                    }
                  },
                  "name": "finance-taxes",
                  "offsetgroup": "finance-taxes",
                  "orientation": "v",
                  "showlegend": true,
                  "textposition": "auto",
                  "type": "bar",
                  "x": [
                    "finance"
                  ],
                  "xaxis": "x",
                  "y": [
                    60
                  ],
                  "yaxis": "y"
                },
                {
                  "alignmentgroup": "True",
                  "hovertemplate": "Sub Category=soccer_epl<br>Category=%{x}<br>Values=%{y}<extra></extra>",
                  "legendgroup": "soccer_epl",
                  "marker": {
                    "color": "#636efa",
                    "pattern": {
                      "shape": ""
                    }
                  },
                  "name": "soccer_epl",
                  "offsetgroup": "soccer_epl",
                  "orientation": "v",
                  "showlegend": true,
                  "textposition": "auto",
                  "type": "bar",
                  "x": [
                    "sports"
                  ],
                  "xaxis": "x",
                  "y": [
                    57
                  ],
                  "yaxis": "y"
                },
                {
                  "alignmentgroup": "True",
                  "hovertemplate": "Sub Category=autosbuying<br>Category=%{x}<br>Values=%{y}<extra></extra>",
                  "legendgroup": "autosbuying",
                  "marker": {
                    "color": "#EF553B",
                    "pattern": {
                      "shape": ""
                    }
                  },
                  "name": "autosbuying",
                  "offsetgroup": "autosbuying",
                  "orientation": "v",
                  "showlegend": true,
                  "textposition": "auto",
                  "type": "bar",
                  "x": [
                    "autos"
                  ],
                  "xaxis": "x",
                  "y": [
                    56
                  ],
                  "yaxis": "y"
                },
                {
                  "alignmentgroup": "True",
                  "hovertemplate": "Sub Category=quickandeasy<br>Category=%{x}<br>Values=%{y}<extra></extra>",
                  "legendgroup": "quickandeasy",
                  "marker": {
                    "color": "#00cc96",
                    "pattern": {
                      "shape": ""
                    }
                  },
                  "name": "quickandeasy",
                  "offsetgroup": "quickandeasy",
                  "orientation": "v",
                  "showlegend": true,
                  "textposition": "auto",
                  "type": "bar",
                  "x": [
                    "foodanddrink"
                  ],
                  "xaxis": "x",
                  "y": [
                    56
                  ],
                  "yaxis": "y"
                },
                {
                  "alignmentgroup": "True",
                  "hovertemplate": "Sub Category=shop-all<br>Category=%{x}<br>Values=%{y}<extra></extra>",
                  "legendgroup": "shop-all",
                  "marker": {
                    "color": "#ab63fa",
                    "pattern": {
                      "shape": ""
                    }
                  },
                  "name": "shop-all",
                  "offsetgroup": "shop-all",
                  "orientation": "v",
                  "showlegend": true,
                  "textposition": "auto",
                  "type": "bar",
                  "x": [
                    "lifestyle"
                  ],
                  "xaxis": "x",
                  "y": [
                    54
                  ],
                  "yaxis": "y"
                },
                {
                  "alignmentgroup": "True",
                  "hovertemplate": "Sub Category=music-gallery<br>Category=%{x}<br>Values=%{y}<extra></extra>",
                  "legendgroup": "music-gallery",
                  "marker": {
                    "color": "#FFA15A",
                    "pattern": {
                      "shape": ""
                    }
                  },
                  "name": "music-gallery",
                  "offsetgroup": "music-gallery",
                  "orientation": "v",
                  "showlegend": true,
                  "textposition": "auto",
                  "type": "bar",
                  "x": [
                    "music"
                  ],
                  "xaxis": "x",
                  "y": [
                    53
                  ],
                  "yaxis": "y"
                },
                {
                  "alignmentgroup": "True",
                  "hovertemplate": "Sub Category=baseball_mlb_videos<br>Category=%{x}<br>Values=%{y}<extra></extra>",
                  "legendgroup": "baseball_mlb_videos",
                  "marker": {
                    "color": "#19d3f3",
                    "pattern": {
                      "shape": ""
                    }
                  },
                  "name": "baseball_mlb_videos",
                  "offsetgroup": "baseball_mlb_videos",
                  "orientation": "v",
                  "showlegend": true,
                  "textposition": "auto",
                  "type": "bar",
                  "x": [
                    "sports"
                  ],
                  "xaxis": "x",
                  "y": [
                    49
                  ],
                  "yaxis": "y"
                },
                {
                  "alignmentgroup": "True",
                  "hovertemplate": "Sub Category=football_ncaa_videos<br>Category=%{x}<br>Values=%{y}<extra></extra>",
                  "legendgroup": "football_ncaa_videos",
                  "marker": {
                    "color": "#FF6692",
                    "pattern": {
                      "shape": ""
                    }
                  },
                  "name": "football_ncaa_videos",
                  "offsetgroup": "football_ncaa_videos",
                  "orientation": "v",
                  "showlegend": true,
                  "textposition": "auto",
                  "type": "bar",
                  "x": [
                    "sports"
                  ],
                  "xaxis": "x",
                  "y": [
                    48
                  ],
                  "yaxis": "y"
                },
                {
                  "alignmentgroup": "True",
                  "hovertemplate": "Sub Category=boxing<br>Category=%{x}<br>Values=%{y}<extra></extra>",
                  "legendgroup": "boxing",
                  "marker": {
                    "color": "#B6E880",
                    "pattern": {
                      "shape": ""
                    }
                  },
                  "name": "boxing",
                  "offsetgroup": "boxing",
                  "orientation": "v",
                  "showlegend": true,
                  "textposition": "auto",
                  "type": "bar",
                  "x": [
                    "sports"
                  ],
                  "xaxis": "x",
                  "y": [
                    47
                  ],
                  "yaxis": "y"
                },
                {
                  "alignmentgroup": "True",
                  "hovertemplate": "Sub Category=healthnews<br>Category=%{x}<br>Values=%{y}<extra></extra>",
                  "legendgroup": "healthnews",
                  "marker": {
                    "color": "#FF97FF",
                    "pattern": {
                      "shape": ""
                    }
                  },
                  "name": "healthnews",
                  "offsetgroup": "healthnews",
                  "orientation": "v",
                  "showlegend": true,
                  "textposition": "auto",
                  "type": "bar",
                  "x": [
                    "health"
                  ],
                  "xaxis": "x",
                  "y": [
                    46
                  ],
                  "yaxis": "y"
                },
                {
                  "alignmentgroup": "True",
                  "hovertemplate": "Sub Category=finance-technology<br>Category=%{x}<br>Values=%{y}<extra></extra>",
                  "legendgroup": "finance-technology",
                  "marker": {
                    "color": "#FECB52",
                    "pattern": {
                      "shape": ""
                    }
                  },
                  "name": "finance-technology",
                  "offsetgroup": "finance-technology",
                  "orientation": "v",
                  "showlegend": true,
                  "textposition": "auto",
                  "type": "bar",
                  "x": [
                    "finance"
                  ],
                  "xaxis": "x",
                  "y": [
                    45
                  ],
                  "yaxis": "y"
                },
                {
                  "alignmentgroup": "True",
                  "hovertemplate": "Sub Category=tvvideos<br>Category=%{x}<br>Values=%{y}<extra></extra>",
                  "legendgroup": "tvvideos",
                  "marker": {
                    "color": "#636efa",
                    "pattern": {
                      "shape": ""
                    }
                  },
                  "name": "tvvideos",
                  "offsetgroup": "tvvideos",
                  "orientation": "v",
                  "showlegend": true,
                  "textposition": "auto",
                  "type": "bar",
                  "x": [
                    "tv"
                  ],
                  "xaxis": "x",
                  "y": [
                    44
                  ],
                  "yaxis": "y"
                },
                {
                  "alignmentgroup": "True",
                  "hovertemplate": "Sub Category=factcheck<br>Category=%{x}<br>Values=%{y}<extra></extra>",
                  "legendgroup": "factcheck",
                  "marker": {
                    "color": "#EF553B",
                    "pattern": {
                      "shape": ""
                    }
                  },
                  "name": "factcheck",
                  "offsetgroup": "factcheck",
                  "orientation": "v",
                  "showlegend": true,
                  "textposition": "auto",
                  "type": "bar",
                  "x": [
                    "news"
                  ],
                  "xaxis": "x",
                  "y": [
                    42
                  ],
                  "yaxis": "y"
                },
                {
                  "alignmentgroup": "True",
                  "hovertemplate": "Sub Category=lifestylecleaningandorganizing<br>Category=%{x}<br>Values=%{y}<extra></extra>",
                  "legendgroup": "lifestylecleaningandorganizing",
                  "marker": {
                    "color": "#00cc96",
                    "pattern": {
                      "shape": ""
                    }
                  },
                  "name": "lifestylecleaningandorganizing",
                  "offsetgroup": "lifestylecleaningandorganizing",
                  "orientation": "v",
                  "showlegend": true,
                  "textposition": "auto",
                  "type": "bar",
                  "x": [
                    "lifestyle"
                  ],
                  "xaxis": "x",
                  "y": [
                    41
                  ],
                  "yaxis": "y"
                },
                {
                  "alignmentgroup": "True",
                  "hovertemplate": "Sub Category=lifestylefashion<br>Category=%{x}<br>Values=%{y}<extra></extra>",
                  "legendgroup": "lifestylefashion",
                  "marker": {
                    "color": "#ab63fa",
                    "pattern": {
                      "shape": ""
                    }
                  },
                  "name": "lifestylefashion",
                  "offsetgroup": "lifestylefashion",
                  "orientation": "v",
                  "showlegend": true,
                  "textposition": "auto",
                  "type": "bar",
                  "x": [
                    "lifestyle"
                  ],
                  "xaxis": "x",
                  "y": [
                    40
                  ],
                  "yaxis": "y"
                },
                {
                  "alignmentgroup": "True",
                  "hovertemplate": "Sub Category=cma-awards<br>Category=%{x}<br>Values=%{y}<extra></extra>",
                  "legendgroup": "cma-awards",
                  "marker": {
                    "color": "#FFA15A",
                    "pattern": {
                      "shape": ""
                    }
                  },
                  "name": "cma-awards",
                  "offsetgroup": "cma-awards",
                  "orientation": "v",
                  "showlegend": true,
                  "textposition": "auto",
                  "type": "bar",
                  "x": [
                    "music"
                  ],
                  "xaxis": "x",
                  "y": [
                    38
                  ],
                  "yaxis": "y"
                },
                {
                  "alignmentgroup": "True",
                  "hovertemplate": "Sub Category=autostrucks<br>Category=%{x}<br>Values=%{y}<extra></extra>",
                  "legendgroup": "autostrucks",
                  "marker": {
                    "color": "#19d3f3",
                    "pattern": {
                      "shape": ""
                    }
                  },
                  "name": "autostrucks",
                  "offsetgroup": "autostrucks",
                  "orientation": "v",
                  "showlegend": true,
                  "textposition": "auto",
                  "type": "bar",
                  "x": [
                    "autos"
                  ],
                  "xaxis": "x",
                  "y": [
                    38
                  ],
                  "yaxis": "y"
                },
                {
                  "alignmentgroup": "True",
                  "hovertemplate": "Sub Category=finance-insurance<br>Category=%{x}<br>Values=%{y}<extra></extra>",
                  "legendgroup": "finance-insurance",
                  "marker": {
                    "color": "#FF6692",
                    "pattern": {
                      "shape": ""
                    }
                  },
                  "name": "finance-insurance",
                  "offsetgroup": "finance-insurance",
                  "orientation": "v",
                  "showlegend": true,
                  "textposition": "auto",
                  "type": "bar",
                  "x": [
                    "finance"
                  ],
                  "xaxis": "x",
                  "y": [
                    38
                  ],
                  "yaxis": "y"
                },
                {
                  "alignmentgroup": "True",
                  "hovertemplate": "Sub Category=lifestylefamilyandrelationships<br>Category=%{x}<br>Values=%{y}<extra></extra>",
                  "legendgroup": "lifestylefamilyandrelationships",
                  "marker": {
                    "color": "#B6E880",
                    "pattern": {
                      "shape": ""
                    }
                  },
                  "name": "lifestylefamilyandrelationships",
                  "offsetgroup": "lifestylefamilyandrelationships",
                  "orientation": "v",
                  "showlegend": true,
                  "textposition": "auto",
                  "type": "bar",
                  "x": [
                    "lifestyle"
                  ],
                  "xaxis": "x",
                  "y": [
                    33
                  ],
                  "yaxis": "y"
                },
                {
                  "alignmentgroup": "True",
                  "hovertemplate": "Sub Category=awards<br>Category=%{x}<br>Values=%{y}<extra></extra>",
                  "legendgroup": "awards",
                  "marker": {
                    "color": "#FF97FF",
                    "pattern": {
                      "shape": ""
                    }
                  },
                  "name": "awards",
                  "offsetgroup": "awards",
                  "orientation": "v",
                  "showlegend": true,
                  "textposition": "auto",
                  "type": "bar",
                  "x": [
                    "entertainment"
                  ],
                  "xaxis": "x",
                  "y": [
                    31
                  ],
                  "yaxis": "y"
                },
                {
                  "alignmentgroup": "True",
                  "hovertemplate": "Sub Category=music-awards<br>Category=%{x}<br>Values=%{y}<extra></extra>",
                  "legendgroup": "music-awards",
                  "marker": {
                    "color": "#FECB52",
                    "pattern": {
                      "shape": ""
                    }
                  },
                  "name": "music-awards",
                  "offsetgroup": "music-awards",
                  "orientation": "v",
                  "showlegend": true,
                  "textposition": "auto",
                  "type": "bar",
                  "x": [
                    "music"
                  ],
                  "xaxis": "x",
                  "y": [
                    31
                  ],
                  "yaxis": "y"
                },
                {
                  "alignmentgroup": "True",
                  "hovertemplate": "Sub Category=autosluxury<br>Category=%{x}<br>Values=%{y}<extra></extra>",
                  "legendgroup": "autosluxury",
                  "marker": {
                    "color": "#636efa",
                    "pattern": {
                      "shape": ""
                    }
                  },
                  "name": "autosluxury",
                  "offsetgroup": "autosluxury",
                  "orientation": "v",
                  "showlegend": true,
                  "textposition": "auto",
                  "type": "bar",
                  "x": [
                    "autos"
                  ],
                  "xaxis": "x",
                  "y": [
                    31
                  ],
                  "yaxis": "y"
                },
                {
                  "alignmentgroup": "True",
                  "hovertemplate": "Sub Category=autosownership<br>Category=%{x}<br>Values=%{y}<extra></extra>",
                  "legendgroup": "autosownership",
                  "marker": {
                    "color": "#EF553B",
                    "pattern": {
                      "shape": ""
                    }
                  },
                  "name": "autosownership",
                  "offsetgroup": "autosownership",
                  "orientation": "v",
                  "showlegend": true,
                  "textposition": "auto",
                  "type": "bar",
                  "x": [
                    "autos"
                  ],
                  "xaxis": "x",
                  "y": [
                    30
                  ],
                  "yaxis": "y"
                },
                {
                  "alignmentgroup": "True",
                  "hovertemplate": "Sub Category=advice<br>Category=%{x}<br>Values=%{y}<extra></extra>",
                  "legendgroup": "advice",
                  "marker": {
                    "color": "#00cc96",
                    "pattern": {
                      "shape": ""
                    }
                  },
                  "name": "advice",
                  "offsetgroup": "advice",
                  "orientation": "v",
                  "showlegend": true,
                  "textposition": "auto",
                  "type": "bar",
                  "x": [
                    "lifestyle"
                  ],
                  "xaxis": "x",
                  "y": [
                    30
                  ],
                  "yaxis": "y"
                },
                {
                  "alignmentgroup": "True",
                  "hovertemplate": "Sub Category=wines<br>Category=%{x}<br>Values=%{y}<extra></extra>",
                  "legendgroup": "wines",
                  "marker": {
                    "color": "#ab63fa",
                    "pattern": {
                      "shape": ""
                    }
                  },
                  "name": "wines",
                  "offsetgroup": "wines",
                  "orientation": "v",
                  "showlegend": true,
                  "textposition": "auto",
                  "type": "bar",
                  "x": [
                    "foodanddrink"
                  ],
                  "xaxis": "x",
                  "y": [
                    30
                  ],
                  "yaxis": "y"
                },
                {
                  "alignmentgroup": "True",
                  "hovertemplate": "Sub Category=lifestyleweddings<br>Category=%{x}<br>Values=%{y}<extra></extra>",
                  "legendgroup": "lifestyleweddings",
                  "marker": {
                    "color": "#FFA15A",
                    "pattern": {
                      "shape": ""
                    }
                  },
                  "name": "lifestyleweddings",
                  "offsetgroup": "lifestyleweddings",
                  "orientation": "v",
                  "showlegend": true,
                  "textposition": "auto",
                  "type": "bar",
                  "x": [
                    "lifestyle"
                  ],
                  "xaxis": "x",
                  "y": [
                    29
                  ],
                  "yaxis": "y"
                },
                {
                  "alignmentgroup": "True",
                  "hovertemplate": "Sub Category=finance-credit<br>Category=%{x}<br>Values=%{y}<extra></extra>",
                  "legendgroup": "finance-credit",
                  "marker": {
                    "color": "#19d3f3",
                    "pattern": {
                      "shape": ""
                    }
                  },
                  "name": "finance-credit",
                  "offsetgroup": "finance-credit",
                  "orientation": "v",
                  "showlegend": true,
                  "textposition": "auto",
                  "type": "bar",
                  "x": [
                    "finance"
                  ],
                  "xaxis": "x",
                  "y": [
                    28
                  ],
                  "yaxis": "y"
                },
                {
                  "alignmentgroup": "True",
                  "hovertemplate": "Sub Category=shop-apparel<br>Category=%{x}<br>Values=%{y}<extra></extra>",
                  "legendgroup": "shop-apparel",
                  "marker": {
                    "color": "#FF6692",
                    "pattern": {
                      "shape": ""
                    }
                  },
                  "name": "shop-apparel",
                  "offsetgroup": "shop-apparel",
                  "orientation": "v",
                  "showlegend": true,
                  "textposition": "auto",
                  "type": "bar",
                  "x": [
                    "lifestyle"
                  ],
                  "xaxis": "x",
                  "y": [
                    26
                  ],
                  "yaxis": "y"
                },
                {
                  "alignmentgroup": "True",
                  "hovertemplate": "Sub Category=lifestylevideo<br>Category=%{x}<br>Values=%{y}<extra></extra>",
                  "legendgroup": "lifestylevideo",
                  "marker": {
                    "color": "#B6E880",
                    "pattern": {
                      "shape": ""
                    }
                  },
                  "name": "lifestylevideo",
                  "offsetgroup": "lifestylevideo",
                  "orientation": "v",
                  "showlegend": true,
                  "textposition": "auto",
                  "type": "bar",
                  "x": [
                    "lifestyle"
                  ],
                  "xaxis": "x",
                  "y": [
                    25
                  ],
                  "yaxis": "y"
                },
                {
                  "alignmentgroup": "True",
                  "hovertemplate": "Sub Category=lifestylelovesex<br>Category=%{x}<br>Values=%{y}<extra></extra>",
                  "legendgroup": "lifestylelovesex",
                  "marker": {
                    "color": "#FF97FF",
                    "pattern": {
                      "shape": ""
                    }
                  },
                  "name": "lifestylelovesex",
                  "offsetgroup": "lifestylelovesex",
                  "orientation": "v",
                  "showlegend": true,
                  "textposition": "auto",
                  "type": "bar",
                  "x": [
                    "lifestyle"
                  ],
                  "xaxis": "x",
                  "y": [
                    25
                  ],
                  "yaxis": "y"
                },
                {
                  "alignmentgroup": "True",
                  "hovertemplate": "Sub Category=autosresearchguides<br>Category=%{x}<br>Values=%{y}<extra></extra>",
                  "legendgroup": "autosresearchguides",
                  "marker": {
                    "color": "#FECB52",
                    "pattern": {
                      "shape": ""
                    }
                  },
                  "name": "autosresearchguides",
                  "offsetgroup": "autosresearchguides",
                  "orientation": "v",
                  "showlegend": true,
                  "textposition": "auto",
                  "type": "bar",
                  "x": [
                    "autos"
                  ],
                  "xaxis": "x",
                  "y": [
                    24
                  ],
                  "yaxis": "y"
                },
                {
                  "alignmentgroup": "True",
                  "hovertemplate": "Sub Category=newsphotos<br>Category=%{x}<br>Values=%{y}<extra></extra>",
                  "legendgroup": "newsphotos",
                  "marker": {
                    "color": "#636efa",
                    "pattern": {
                      "shape": ""
                    }
                  },
                  "name": "newsphotos",
                  "offsetgroup": "newsphotos",
                  "orientation": "v",
                  "showlegend": true,
                  "textposition": "auto",
                  "type": "bar",
                  "x": [
                    "news"
                  ],
                  "xaxis": "x",
                  "y": [
                    24
                  ],
                  "yaxis": "y"
                },
                {
                  "alignmentgroup": "True",
                  "hovertemplate": "Sub Category=people-places<br>Category=%{x}<br>Values=%{y}<extra></extra>",
                  "legendgroup": "people-places",
                  "marker": {
                    "color": "#EF553B",
                    "pattern": {
                      "shape": ""
                    }
                  },
                  "name": "people-places",
                  "offsetgroup": "people-places",
                  "orientation": "v",
                  "showlegend": true,
                  "textposition": "auto",
                  "type": "bar",
                  "x": [
                    "kids"
                  ],
                  "xaxis": "x",
                  "y": [
                    24
                  ],
                  "yaxis": "y"
                },
                {
                  "alignmentgroup": "True",
                  "hovertemplate": "Sub Category=finance-career<br>Category=%{x}<br>Values=%{y}<extra></extra>",
                  "legendgroup": "finance-career",
                  "marker": {
                    "color": "#00cc96",
                    "pattern": {
                      "shape": ""
                    }
                  },
                  "name": "finance-career",
                  "offsetgroup": "finance-career",
                  "orientation": "v",
                  "showlegend": true,
                  "textposition": "auto",
                  "type": "bar",
                  "x": [
                    "finance"
                  ],
                  "xaxis": "x",
                  "y": [
                    23
                  ],
                  "yaxis": "y"
                },
                {
                  "alignmentgroup": "True",
                  "hovertemplate": "Sub Category=autossema<br>Category=%{x}<br>Values=%{y}<extra></extra>",
                  "legendgroup": "autossema",
                  "marker": {
                    "color": "#ab63fa",
                    "pattern": {
                      "shape": ""
                    }
                  },
                  "name": "autossema",
                  "offsetgroup": "autossema",
                  "orientation": "v",
                  "showlegend": true,
                  "textposition": "auto",
                  "type": "bar",
                  "x": [
                    "autos"
                  ],
                  "xaxis": "x",
                  "y": [
                    23
                  ],
                  "yaxis": "y"
                },
                {
                  "alignmentgroup": "True",
                  "hovertemplate": "Sub Category=fun<br>Category=%{x}<br>Values=%{y}<extra></extra>",
                  "legendgroup": "fun",
                  "marker": {
                    "color": "#FFA15A",
                    "pattern": {
                      "shape": ""
                    }
                  },
                  "name": "fun",
                  "offsetgroup": "fun",
                  "orientation": "v",
                  "showlegend": true,
                  "textposition": "auto",
                  "type": "bar",
                  "x": [
                    "kids"
                  ],
                  "xaxis": "x",
                  "y": [
                    22
                  ],
                  "yaxis": "y"
                },
                {
                  "alignmentgroup": "True",
                  "hovertemplate": "Sub Category=lifestyleshopping<br>Category=%{x}<br>Values=%{y}<extra></extra>",
                  "legendgroup": "lifestyleshopping",
                  "marker": {
                    "color": "#19d3f3",
                    "pattern": {
                      "shape": ""
                    }
                  },
                  "name": "lifestyleshopping",
                  "offsetgroup": "lifestyleshopping",
                  "orientation": "v",
                  "showlegend": true,
                  "textposition": "auto",
                  "type": "bar",
                  "x": [
                    "lifestyle"
                  ],
                  "xaxis": "x",
                  "y": [
                    22
                  ],
                  "yaxis": "y"
                },
                {
                  "alignmentgroup": "True",
                  "hovertemplate": "Sub Category=tunedin<br>Category=%{x}<br>Values=%{y}<extra></extra>",
                  "legendgroup": "tunedin",
                  "marker": {
                    "color": "#FF6692",
                    "pattern": {
                      "shape": ""
                    }
                  },
                  "name": "tunedin",
                  "offsetgroup": "tunedin",
                  "orientation": "v",
                  "showlegend": true,
                  "textposition": "auto",
                  "type": "bar",
                  "x": [
                    "video"
                  ],
                  "xaxis": "x",
                  "y": [
                    21
                  ],
                  "yaxis": "y"
                },
                {
                  "alignmentgroup": "True",
                  "hovertemplate": "Sub Category=newsfactcheck<br>Category=%{x}<br>Values=%{y}<extra></extra>",
                  "legendgroup": "newsfactcheck",
                  "marker": {
                    "color": "#B6E880",
                    "pattern": {
                      "shape": ""
                    }
                  },
                  "name": "newsfactcheck",
                  "offsetgroup": "newsfactcheck",
                  "orientation": "v",
                  "showlegend": true,
                  "textposition": "auto",
                  "type": "bar",
                  "x": [
                    "news"
                  ],
                  "xaxis": "x",
                  "y": [
                    21
                  ],
                  "yaxis": "y"
                },
                {
                  "alignmentgroup": "True",
                  "hovertemplate": "Sub Category=musicvideos<br>Category=%{x}<br>Values=%{y}<extra></extra>",
                  "legendgroup": "musicvideos",
                  "marker": {
                    "color": "#FF97FF",
                    "pattern": {
                      "shape": ""
                    }
                  },
                  "name": "musicvideos",
                  "offsetgroup": "musicvideos",
                  "orientation": "v",
                  "showlegend": true,
                  "textposition": "auto",
                  "type": "bar",
                  "x": [
                    "music"
                  ],
                  "xaxis": "x",
                  "y": [
                    20
                  ],
                  "yaxis": "y"
                },
                {
                  "alignmentgroup": "True",
                  "hovertemplate": "Sub Category=newsscience<br>Category=%{x}<br>Values=%{y}<extra></extra>",
                  "legendgroup": "newsscience",
                  "marker": {
                    "color": "#FECB52",
                    "pattern": {
                      "shape": ""
                    }
                  },
                  "name": "newsscience",
                  "offsetgroup": "newsscience",
                  "orientation": "v",
                  "showlegend": true,
                  "textposition": "auto",
                  "type": "bar",
                  "x": [
                    "news"
                  ],
                  "xaxis": "x",
                  "y": [
                    18
                  ],
                  "yaxis": "y"
                },
                {
                  "alignmentgroup": "True",
                  "hovertemplate": "Sub Category=autosresearch<br>Category=%{x}<br>Values=%{y}<extra></extra>",
                  "legendgroup": "autosresearch",
                  "marker": {
                    "color": "#636efa",
                    "pattern": {
                      "shape": ""
                    }
                  },
                  "name": "autosresearch",
                  "offsetgroup": "autosresearch",
                  "orientation": "v",
                  "showlegend": true,
                  "textposition": "auto",
                  "type": "bar",
                  "x": [
                    "autos"
                  ],
                  "xaxis": "x",
                  "y": [
                    18
                  ],
                  "yaxis": "y"
                },
                {
                  "alignmentgroup": "True",
                  "hovertemplate": "Sub Category=tv-recaps<br>Category=%{x}<br>Values=%{y}<extra></extra>",
                  "legendgroup": "tv-recaps",
                  "marker": {
                    "color": "#EF553B",
                    "pattern": {
                      "shape": ""
                    }
                  },
                  "name": "tv-recaps",
                  "offsetgroup": "tv-recaps",
                  "orientation": "v",
                  "showlegend": true,
                  "textposition": "auto",
                  "type": "bar",
                  "x": [
                    "tv"
                  ],
                  "xaxis": "x",
                  "y": [
                    18
                  ],
                  "yaxis": "y"
                },
                {
                  "alignmentgroup": "True",
                  "hovertemplate": "Sub Category=humor<br>Category=%{x}<br>Values=%{y}<extra></extra>",
                  "legendgroup": "humor",
                  "marker": {
                    "color": "#00cc96",
                    "pattern": {
                      "shape": ""
                    }
                  },
                  "name": "humor",
                  "offsetgroup": "humor",
                  "orientation": "v",
                  "showlegend": true,
                  "textposition": "auto",
                  "type": "bar",
                  "x": [
                    "tv",
                    "entertainment",
                    "music"
                  ],
                  "xaxis": "x",
                  "y": [
                    18,
                    10,
                    1
                  ],
                  "yaxis": "y"
                },
                {
                  "alignmentgroup": "True",
                  "hovertemplate": "Sub Category=causes-animals<br>Category=%{x}<br>Values=%{y}<extra></extra>",
                  "legendgroup": "causes-animals",
                  "marker": {
                    "color": "#ab63fa",
                    "pattern": {
                      "shape": ""
                    }
                  },
                  "name": "causes-animals",
                  "offsetgroup": "causes-animals",
                  "orientation": "v",
                  "showlegend": true,
                  "textposition": "auto",
                  "type": "bar",
                  "x": [
                    "lifestyle"
                  ],
                  "xaxis": "x",
                  "y": [
                    17
                  ],
                  "yaxis": "y"
                },
                {
                  "alignmentgroup": "True",
                  "hovertemplate": "Sub Category=newsweather<br>Category=%{x}<br>Values=%{y}<extra></extra>",
                  "legendgroup": "newsweather",
                  "marker": {
                    "color": "#FFA15A",
                    "pattern": {
                      "shape": ""
                    }
                  },
                  "name": "newsweather",
                  "offsetgroup": "newsweather",
                  "orientation": "v",
                  "showlegend": true,
                  "textposition": "auto",
                  "type": "bar",
                  "x": [
                    "news"
                  ],
                  "xaxis": "x",
                  "y": [
                    17
                  ],
                  "yaxis": "y"
                },
                {
                  "alignmentgroup": "True",
                  "hovertemplate": "Sub Category=lifestylediy<br>Category=%{x}<br>Values=%{y}<extra></extra>",
                  "legendgroup": "lifestylediy",
                  "marker": {
                    "color": "#19d3f3",
                    "pattern": {
                      "shape": ""
                    }
                  },
                  "name": "lifestylediy",
                  "offsetgroup": "lifestylediy",
                  "orientation": "v",
                  "showlegend": true,
                  "textposition": "auto",
                  "type": "bar",
                  "x": [
                    "lifestyle"
                  ],
                  "xaxis": "x",
                  "y": [
                    17
                  ],
                  "yaxis": "y"
                },
                {
                  "alignmentgroup": "True",
                  "hovertemplate": "Sub Category=basketball_ncaa_videos<br>Category=%{x}<br>Values=%{y}<extra></extra>",
                  "legendgroup": "basketball_ncaa_videos",
                  "marker": {
                    "color": "#FF6692",
                    "pattern": {
                      "shape": ""
                    }
                  },
                  "name": "basketball_ncaa_videos",
                  "offsetgroup": "basketball_ncaa_videos",
                  "orientation": "v",
                  "showlegend": true,
                  "textposition": "auto",
                  "type": "bar",
                  "x": [
                    "sports"
                  ],
                  "xaxis": "x",
                  "y": [
                    17
                  ],
                  "yaxis": "y"
                },
                {
                  "alignmentgroup": "True",
                  "hovertemplate": "Sub Category=lifestyle-news-feature<br>Category=%{x}<br>Values=%{y}<extra></extra>",
                  "legendgroup": "lifestyle-news-feature",
                  "marker": {
                    "color": "#B6E880",
                    "pattern": {
                      "shape": ""
                    }
                  },
                  "name": "lifestyle-news-feature",
                  "offsetgroup": "lifestyle-news-feature",
                  "orientation": "v",
                  "showlegend": true,
                  "textposition": "auto",
                  "type": "bar",
                  "x": [
                    "lifestyle"
                  ],
                  "xaxis": "x",
                  "y": [
                    17
                  ],
                  "yaxis": "y"
                },
                {
                  "alignmentgroup": "True",
                  "hovertemplate": "Sub Category=causes<br>Category=%{x}<br>Values=%{y}<extra></extra>",
                  "legendgroup": "causes",
                  "marker": {
                    "color": "#FF97FF",
                    "pattern": {
                      "shape": ""
                    }
                  },
                  "name": "causes",
                  "offsetgroup": "causes",
                  "orientation": "v",
                  "showlegend": true,
                  "textposition": "auto",
                  "type": "bar",
                  "x": [
                    "lifestyle",
                    "health",
                    "finance",
                    "news",
                    "travel"
                  ],
                  "xaxis": "x",
                  "y": [
                    16,
                    15,
                    6,
                    3,
                    1
                  ],
                  "yaxis": "y"
                },
                {
                  "alignmentgroup": "True",
                  "hovertemplate": "Sub Category=lifestyledecor<br>Category=%{x}<br>Values=%{y}<extra></extra>",
                  "legendgroup": "lifestyledecor",
                  "marker": {
                    "color": "#FECB52",
                    "pattern": {
                      "shape": ""
                    }
                  },
                  "name": "lifestyledecor",
                  "offsetgroup": "lifestyledecor",
                  "orientation": "v",
                  "showlegend": true,
                  "textposition": "auto",
                  "type": "bar",
                  "x": [
                    "lifestyle"
                  ],
                  "xaxis": "x",
                  "y": [
                    16
                  ],
                  "yaxis": "y"
                },
                {
                  "alignmentgroup": "True",
                  "hovertemplate": "Sub Category=finance-healthcare<br>Category=%{x}<br>Values=%{y}<extra></extra>",
                  "legendgroup": "finance-healthcare",
                  "marker": {
                    "color": "#636efa",
                    "pattern": {
                      "shape": ""
                    }
                  },
                  "name": "finance-healthcare",
                  "offsetgroup": "finance-healthcare",
                  "orientation": "v",
                  "showlegend": true,
                  "textposition": "auto",
                  "type": "bar",
                  "x": [
                    "finance"
                  ],
                  "xaxis": "x",
                  "y": [
                    14
                  ],
                  "yaxis": "y"
                },
                {
                  "alignmentgroup": "True",
                  "hovertemplate": "Sub Category=autosvideonew<br>Category=%{x}<br>Values=%{y}<extra></extra>",
                  "legendgroup": "autosvideonew",
                  "marker": {
                    "color": "#EF553B",
                    "pattern": {
                      "shape": ""
                    }
                  },
                  "name": "autosvideonew",
                  "offsetgroup": "autosvideonew",
                  "orientation": "v",
                  "showlegend": true,
                  "textposition": "auto",
                  "type": "bar",
                  "x": [
                    "autos"
                  ],
                  "xaxis": "x",
                  "y": [
                    14
                  ],
                  "yaxis": "y"
                },
                {
                  "alignmentgroup": "True",
                  "hovertemplate": "Sub Category=pregnancyparenting<br>Category=%{x}<br>Values=%{y}<extra></extra>",
                  "legendgroup": "pregnancyparenting",
                  "marker": {
                    "color": "#00cc96",
                    "pattern": {
                      "shape": ""
                    }
                  },
                  "name": "pregnancyparenting",
                  "offsetgroup": "pregnancyparenting",
                  "orientation": "v",
                  "showlegend": true,
                  "textposition": "auto",
                  "type": "bar",
                  "x": [
                    "health",
                    "lifestyle"
                  ],
                  "xaxis": "x",
                  "y": [
                    13,
                    1
                  ],
                  "yaxis": "y"
                },
                {
                  "alignmentgroup": "True",
                  "hovertemplate": "Sub Category=finance-education<br>Category=%{x}<br>Values=%{y}<extra></extra>",
                  "legendgroup": "finance-education",
                  "marker": {
                    "color": "#ab63fa",
                    "pattern": {
                      "shape": ""
                    }
                  },
                  "name": "finance-education",
                  "offsetgroup": "finance-education",
                  "orientation": "v",
                  "showlegend": true,
                  "textposition": "auto",
                  "type": "bar",
                  "x": [
                    "finance"
                  ],
                  "xaxis": "x",
                  "y": [
                    13
                  ],
                  "yaxis": "y"
                },
                {
                  "alignmentgroup": "True",
                  "hovertemplate": "Sub Category=finance-billstopay<br>Category=%{x}<br>Values=%{y}<extra></extra>",
                  "legendgroup": "finance-billstopay",
                  "marker": {
                    "color": "#FFA15A",
                    "pattern": {
                      "shape": ""
                    }
                  },
                  "name": "finance-billstopay",
                  "offsetgroup": "finance-billstopay",
                  "orientation": "v",
                  "showlegend": true,
                  "textposition": "auto",
                  "type": "bar",
                  "x": [
                    "finance"
                  ],
                  "xaxis": "x",
                  "y": [
                    13
                  ],
                  "yaxis": "y"
                },
                {
                  "alignmentgroup": "True",
                  "hovertemplate": "Sub Category=movies-awards<br>Category=%{x}<br>Values=%{y}<extra></extra>",
                  "legendgroup": "movies-awards",
                  "marker": {
                    "color": "#19d3f3",
                    "pattern": {
                      "shape": ""
                    }
                  },
                  "name": "movies-awards",
                  "offsetgroup": "movies-awards",
                  "orientation": "v",
                  "showlegend": true,
                  "textposition": "auto",
                  "type": "bar",
                  "x": [
                    "movies"
                  ],
                  "xaxis": "x",
                  "y": [
                    12
                  ],
                  "yaxis": "y"
                },
                {
                  "alignmentgroup": "True",
                  "hovertemplate": "Sub Category=basketball_nba_videos<br>Category=%{x}<br>Values=%{y}<extra></extra>",
                  "legendgroup": "basketball_nba_videos",
                  "marker": {
                    "color": "#FF6692",
                    "pattern": {
                      "shape": ""
                    }
                  },
                  "name": "basketball_nba_videos",
                  "offsetgroup": "basketball_nba_videos",
                  "orientation": "v",
                  "showlegend": true,
                  "textposition": "auto",
                  "type": "bar",
                  "x": [
                    "sports"
                  ],
                  "xaxis": "x",
                  "y": [
                    12
                  ],
                  "yaxis": "y"
                },
                {
                  "alignmentgroup": "True",
                  "hovertemplate": "Sub Category=awardstyle<br>Category=%{x}<br>Values=%{y}<extra></extra>",
                  "legendgroup": "awardstyle",
                  "marker": {
                    "color": "#B6E880",
                    "pattern": {
                      "shape": ""
                    }
                  },
                  "name": "awardstyle",
                  "offsetgroup": "awardstyle",
                  "orientation": "v",
                  "showlegend": true,
                  "textposition": "auto",
                  "type": "bar",
                  "x": [
                    "lifestyle"
                  ],
                  "xaxis": "x",
                  "y": [
                    12
                  ],
                  "yaxis": "y"
                },
                {
                  "alignmentgroup": "True",
                  "hovertemplate": "Sub Category=travel-points-rewards<br>Category=%{x}<br>Values=%{y}<extra></extra>",
                  "legendgroup": "travel-points-rewards",
                  "marker": {
                    "color": "#FF97FF",
                    "pattern": {
                      "shape": ""
                    }
                  },
                  "name": "travel-points-rewards",
                  "offsetgroup": "travel-points-rewards",
                  "orientation": "v",
                  "showlegend": true,
                  "textposition": "auto",
                  "type": "bar",
                  "x": [
                    "travel"
                  ],
                  "xaxis": "x",
                  "y": [
                    11
                  ],
                  "yaxis": "y"
                },
                {
                  "alignmentgroup": "True",
                  "hovertemplate": "Sub Category=mentalhealth<br>Category=%{x}<br>Values=%{y}<extra></extra>",
                  "legendgroup": "mentalhealth",
                  "marker": {
                    "color": "#FECB52",
                    "pattern": {
                      "shape": ""
                    }
                  },
                  "name": "mentalhealth",
                  "offsetgroup": "mentalhealth",
                  "orientation": "v",
                  "showlegend": true,
                  "textposition": "auto",
                  "type": "bar",
                  "x": [
                    "health"
                  ],
                  "xaxis": "x",
                  "y": [
                    11
                  ],
                  "yaxis": "y"
                },
                {
                  "alignmentgroup": "True",
                  "hovertemplate": "Sub Category=ads-lung-health<br>Category=%{x}<br>Values=%{y}<extra></extra>",
                  "legendgroup": "ads-lung-health",
                  "marker": {
                    "color": "#636efa",
                    "pattern": {
                      "shape": ""
                    }
                  },
                  "name": "ads-lung-health",
                  "offsetgroup": "ads-lung-health",
                  "orientation": "v",
                  "showlegend": true,
                  "textposition": "auto",
                  "type": "bar",
                  "x": [
                    "health"
                  ],
                  "xaxis": "x",
                  "y": [
                    11
                  ],
                  "yaxis": "y"
                },
                {
                  "alignmentgroup": "True",
                  "hovertemplate": "Sub Category=retirement<br>Category=%{x}<br>Values=%{y}<extra></extra>",
                  "legendgroup": "retirement",
                  "marker": {
                    "color": "#EF553B",
                    "pattern": {
                      "shape": ""
                    }
                  },
                  "name": "retirement",
                  "offsetgroup": "retirement",
                  "orientation": "v",
                  "showlegend": true,
                  "textposition": "auto",
                  "type": "bar",
                  "x": [
                    "finance"
                  ],
                  "xaxis": "x",
                  "y": [
                    10
                  ],
                  "yaxis": "y"
                },
                {
                  "alignmentgroup": "True",
                  "hovertemplate": "Sub Category=travel-adventure-travel<br>Category=%{x}<br>Values=%{y}<extra></extra>",
                  "legendgroup": "travel-adventure-travel",
                  "marker": {
                    "color": "#00cc96",
                    "pattern": {
                      "shape": ""
                    }
                  },
                  "name": "travel-adventure-travel",
                  "offsetgroup": "travel-adventure-travel",
                  "orientation": "v",
                  "showlegend": true,
                  "textposition": "auto",
                  "type": "bar",
                  "x": [
                    "travel"
                  ],
                  "xaxis": "x",
                  "y": [
                    10
                  ],
                  "yaxis": "y"
                },
                {
                  "alignmentgroup": "True",
                  "hovertemplate": "Sub Category=newselection2020<br>Category=%{x}<br>Values=%{y}<extra></extra>",
                  "legendgroup": "newselection2020",
                  "marker": {
                    "color": "#ab63fa",
                    "pattern": {
                      "shape": ""
                    }
                  },
                  "name": "newselection2020",
                  "offsetgroup": "newselection2020",
                  "orientation": "v",
                  "showlegend": true,
                  "textposition": "auto",
                  "type": "bar",
                  "x": [
                    "news"
                  ],
                  "xaxis": "x",
                  "y": [
                    10
                  ],
                  "yaxis": "y"
                },
                {
                  "alignmentgroup": "True",
                  "hovertemplate": "Sub Category=wonder<br>Category=%{x}<br>Values=%{y}<extra></extra>",
                  "legendgroup": "wonder",
                  "marker": {
                    "color": "#FFA15A",
                    "pattern": {
                      "shape": ""
                    }
                  },
                  "name": "wonder",
                  "offsetgroup": "wonder",
                  "orientation": "v",
                  "showlegend": true,
                  "textposition": "auto",
                  "type": "bar",
                  "x": [
                    "video"
                  ],
                  "xaxis": "x",
                  "y": [
                    10
                  ],
                  "yaxis": "y"
                },
                {
                  "alignmentgroup": "True",
                  "hovertemplate": "Sub Category=ads-latingrammys<br>Category=%{x}<br>Values=%{y}<extra></extra>",
                  "legendgroup": "ads-latingrammys",
                  "marker": {
                    "color": "#19d3f3",
                    "pattern": {
                      "shape": ""
                    }
                  },
                  "name": "ads-latingrammys",
                  "offsetgroup": "ads-latingrammys",
                  "orientation": "v",
                  "showlegend": true,
                  "textposition": "auto",
                  "type": "bar",
                  "x": [
                    "music"
                  ],
                  "xaxis": "x",
                  "y": [
                    10
                  ],
                  "yaxis": "y"
                },
                {
                  "alignmentgroup": "True",
                  "hovertemplate": "Sub Category=shop-home-goods<br>Category=%{x}<br>Values=%{y}<extra></extra>",
                  "legendgroup": "shop-home-goods",
                  "marker": {
                    "color": "#FF6692",
                    "pattern": {
                      "shape": ""
                    }
                  },
                  "name": "shop-home-goods",
                  "offsetgroup": "shop-home-goods",
                  "orientation": "v",
                  "showlegend": true,
                  "textposition": "auto",
                  "type": "bar",
                  "x": [
                    "lifestyle"
                  ],
                  "xaxis": "x",
                  "y": [
                    9
                  ],
                  "yaxis": "y"
                },
                {
                  "alignmentgroup": "True",
                  "hovertemplate": "Sub Category=boxing-mma<br>Category=%{x}<br>Values=%{y}<extra></extra>",
                  "legendgroup": "boxing-mma",
                  "marker": {
                    "color": "#B6E880",
                    "pattern": {
                      "shape": ""
                    }
                  },
                  "name": "boxing-mma",
                  "offsetgroup": "boxing-mma",
                  "orientation": "v",
                  "showlegend": true,
                  "textposition": "auto",
                  "type": "bar",
                  "x": [
                    "sports"
                  ],
                  "xaxis": "x",
                  "y": [
                    9
                  ],
                  "yaxis": "y"
                },
                {
                  "alignmentgroup": "True",
                  "hovertemplate": "Sub Category=basketball_wnba<br>Category=%{x}<br>Values=%{y}<extra></extra>",
                  "legendgroup": "basketball_wnba",
                  "marker": {
                    "color": "#FF97FF",
                    "pattern": {
                      "shape": ""
                    }
                  },
                  "name": "basketball_wnba",
                  "offsetgroup": "basketball_wnba",
                  "orientation": "v",
                  "showlegend": true,
                  "textposition": "auto",
                  "type": "bar",
                  "x": [
                    "sports"
                  ],
                  "xaxis": "x",
                  "y": [
                    8
                  ],
                  "yaxis": "y"
                },
                {
                  "alignmentgroup": "True",
                  "hovertemplate": "Sub Category=autoshybrids<br>Category=%{x}<br>Values=%{y}<extra></extra>",
                  "legendgroup": "autoshybrids",
                  "marker": {
                    "color": "#FECB52",
                    "pattern": {
                      "shape": ""
                    }
                  },
                  "name": "autoshybrids",
                  "offsetgroup": "autoshybrids",
                  "orientation": "v",
                  "showlegend": true,
                  "textposition": "auto",
                  "type": "bar",
                  "x": [
                    "autos"
                  ],
                  "xaxis": "x",
                  "y": [
                    8
                  ],
                  "yaxis": "y"
                },
                {
                  "alignmentgroup": "True",
                  "hovertemplate": "Sub Category=causes-green-living<br>Category=%{x}<br>Values=%{y}<extra></extra>",
                  "legendgroup": "causes-green-living",
                  "marker": {
                    "color": "#636efa",
                    "pattern": {
                      "shape": ""
                    }
                  },
                  "name": "causes-green-living",
                  "offsetgroup": "causes-green-living",
                  "orientation": "v",
                  "showlegend": true,
                  "textposition": "auto",
                  "type": "bar",
                  "x": [
                    "lifestyle"
                  ],
                  "xaxis": "x",
                  "y": [
                    8
                  ],
                  "yaxis": "y"
                },
                {
                  "alignmentgroup": "True",
                  "hovertemplate": "Sub Category=weight-loss<br>Category=%{x}<br>Values=%{y}<extra></extra>",
                  "legendgroup": "weight-loss",
                  "marker": {
                    "color": "#EF553B",
                    "pattern": {
                      "shape": ""
                    }
                  },
                  "name": "weight-loss",
                  "offsetgroup": "weight-loss",
                  "orientation": "v",
                  "showlegend": true,
                  "textposition": "auto",
                  "type": "bar",
                  "x": [
                    "health"
                  ],
                  "xaxis": "x",
                  "y": [
                    7
                  ],
                  "yaxis": "y"
                },
                {
                  "alignmentgroup": "True",
                  "hovertemplate": "Sub Category=movies-oscars<br>Category=%{x}<br>Values=%{y}<extra></extra>",
                  "legendgroup": "movies-oscars",
                  "marker": {
                    "color": "#00cc96",
                    "pattern": {
                      "shape": ""
                    }
                  },
                  "name": "movies-oscars",
                  "offsetgroup": "movies-oscars",
                  "orientation": "v",
                  "showlegend": true,
                  "textposition": "auto",
                  "type": "bar",
                  "x": [
                    "movies"
                  ],
                  "xaxis": "x",
                  "y": [
                    7
                  ],
                  "yaxis": "y"
                },
                {
                  "alignmentgroup": "True",
                  "hovertemplate": "Sub Category=sports<br>Category=%{x}<br>Values=%{y}<extra></extra>",
                  "legendgroup": "sports",
                  "marker": {
                    "color": "#ab63fa",
                    "pattern": {
                      "shape": ""
                    }
                  },
                  "name": "sports",
                  "offsetgroup": "sports",
                  "orientation": "v",
                  "showlegend": true,
                  "textposition": "auto",
                  "type": "bar",
                  "x": [
                    "video",
                    "kids"
                  ],
                  "xaxis": "x",
                  "y": [
                    7,
                    5
                  ],
                  "yaxis": "y"
                },
                {
                  "alignmentgroup": "True",
                  "hovertemplate": "Sub Category=autostokyo<br>Category=%{x}<br>Values=%{y}<extra></extra>",
                  "legendgroup": "autostokyo",
                  "marker": {
                    "color": "#FFA15A",
                    "pattern": {
                      "shape": ""
                    }
                  },
                  "name": "autostokyo",
                  "offsetgroup": "autostokyo",
                  "orientation": "v",
                  "showlegend": true,
                  "textposition": "auto",
                  "type": "bar",
                  "x": [
                    "autos"
                  ],
                  "xaxis": "x",
                  "y": [
                    7
                  ],
                  "yaxis": "y"
                },
                {
                  "alignmentgroup": "True",
                  "hovertemplate": "Sub Category=music-reviews<br>Category=%{x}<br>Values=%{y}<extra></extra>",
                  "legendgroup": "music-reviews",
                  "marker": {
                    "color": "#19d3f3",
                    "pattern": {
                      "shape": ""
                    }
                  },
                  "name": "music-reviews",
                  "offsetgroup": "music-reviews",
                  "orientation": "v",
                  "showlegend": true,
                  "textposition": "auto",
                  "type": "bar",
                  "x": [
                    "music"
                  ],
                  "xaxis": "x",
                  "y": [
                    6
                  ],
                  "yaxis": "y"
                },
                {
                  "alignmentgroup": "True",
                  "hovertemplate": "Sub Category=downtime<br>Category=%{x}<br>Values=%{y}<extra></extra>",
                  "legendgroup": "downtime",
                  "marker": {
                    "color": "#FF6692",
                    "pattern": {
                      "shape": ""
                    }
                  },
                  "name": "downtime",
                  "offsetgroup": "downtime",
                  "orientation": "v",
                  "showlegend": true,
                  "textposition": "auto",
                  "type": "bar",
                  "x": [
                    "video"
                  ],
                  "xaxis": "x",
                  "y": [
                    6
                  ],
                  "yaxis": "y"
                },
                {
                  "alignmentgroup": "True",
                  "hovertemplate": "Sub Category=autospassenger<br>Category=%{x}<br>Values=%{y}<extra></extra>",
                  "legendgroup": "autospassenger",
                  "marker": {
                    "color": "#B6E880",
                    "pattern": {
                      "shape": ""
                    }
                  },
                  "name": "autospassenger",
                  "offsetgroup": "autospassenger",
                  "orientation": "v",
                  "showlegend": true,
                  "textposition": "auto",
                  "type": "bar",
                  "x": [
                    "autos"
                  ],
                  "xaxis": "x",
                  "y": [
                    6
                  ],
                  "yaxis": "y"
                },
                {
                  "alignmentgroup": "True",
                  "hovertemplate": "Sub Category=technologyinvesting<br>Category=%{x}<br>Values=%{y}<extra></extra>",
                  "legendgroup": "technologyinvesting",
                  "marker": {
                    "color": "#FF97FF",
                    "pattern": {
                      "shape": ""
                    }
                  },
                  "name": "technologyinvesting",
                  "offsetgroup": "technologyinvesting",
                  "orientation": "v",
                  "showlegend": true,
                  "textposition": "auto",
                  "type": "bar",
                  "x": [
                    "finance"
                  ],
                  "xaxis": "x",
                  "y": [
                    6
                  ],
                  "yaxis": "y"
                },
                {
                  "alignmentgroup": "True",
                  "hovertemplate": "Sub Category=ustravel<br>Category=%{x}<br>Values=%{y}<extra></extra>",
                  "legendgroup": "ustravel",
                  "marker": {
                    "color": "#FECB52",
                    "pattern": {
                      "shape": ""
                    }
                  },
                  "name": "ustravel",
                  "offsetgroup": "ustravel",
                  "orientation": "v",
                  "showlegend": true,
                  "textposition": "auto",
                  "type": "bar",
                  "x": [
                    "travel"
                  ],
                  "xaxis": "x",
                  "y": [
                    6
                  ],
                  "yaxis": "y"
                },
                {
                  "alignmentgroup": "True",
                  "hovertemplate": "Sub Category=newsworldpolitics<br>Category=%{x}<br>Values=%{y}<extra></extra>",
                  "legendgroup": "newsworldpolitics",
                  "marker": {
                    "color": "#636efa",
                    "pattern": {
                      "shape": ""
                    }
                  },
                  "name": "newsworldpolitics",
                  "offsetgroup": "newsworldpolitics",
                  "orientation": "v",
                  "showlegend": true,
                  "textposition": "auto",
                  "type": "bar",
                  "x": [
                    "news"
                  ],
                  "xaxis": "x",
                  "y": [
                    5
                  ],
                  "yaxis": "y"
                },
                {
                  "alignmentgroup": "True",
                  "hovertemplate": "Sub Category=autosvideos<br>Category=%{x}<br>Values=%{y}<extra></extra>",
                  "legendgroup": "autosvideos",
                  "marker": {
                    "color": "#EF553B",
                    "pattern": {
                      "shape": ""
                    }
                  },
                  "name": "autosvideos",
                  "offsetgroup": "autosvideos",
                  "orientation": "v",
                  "showlegend": true,
                  "textposition": "auto",
                  "type": "bar",
                  "x": [
                    "autos"
                  ],
                  "xaxis": "x",
                  "y": [
                    5
                  ],
                  "yaxis": "y"
                },
                {
                  "alignmentgroup": "True",
                  "hovertemplate": "Sub Category=internationaltravel<br>Category=%{x}<br>Values=%{y}<extra></extra>",
                  "legendgroup": "internationaltravel",
                  "marker": {
                    "color": "#00cc96",
                    "pattern": {
                      "shape": ""
                    }
                  },
                  "name": "internationaltravel",
                  "offsetgroup": "internationaltravel",
                  "orientation": "v",
                  "showlegend": true,
                  "textposition": "auto",
                  "type": "bar",
                  "x": [
                    "travel"
                  ],
                  "xaxis": "x",
                  "y": [
                    5
                  ],
                  "yaxis": "y"
                },
                {
                  "alignmentgroup": "True",
                  "hovertemplate": "Sub Category=reviews<br>Category=%{x}<br>Values=%{y}<extra></extra>",
                  "legendgroup": "reviews",
                  "marker": {
                    "color": "#ab63fa",
                    "pattern": {
                      "shape": ""
                    }
                  },
                  "name": "reviews",
                  "offsetgroup": "reviews",
                  "orientation": "v",
                  "showlegend": true,
                  "textposition": "auto",
                  "type": "bar",
                  "x": [
                    "movies"
                  ],
                  "xaxis": "x",
                  "y": [
                    5
                  ],
                  "yaxis": "y"
                },
                {
                  "alignmentgroup": "True",
                  "hovertemplate": "Sub Category=causes-food-insecurity<br>Category=%{x}<br>Values=%{y}<extra></extra>",
                  "legendgroup": "causes-food-insecurity",
                  "marker": {
                    "color": "#FFA15A",
                    "pattern": {
                      "shape": ""
                    }
                  },
                  "name": "causes-food-insecurity",
                  "offsetgroup": "causes-food-insecurity",
                  "orientation": "v",
                  "showlegend": true,
                  "textposition": "auto",
                  "type": "bar",
                  "x": [
                    "foodanddrink"
                  ],
                  "xaxis": "x",
                  "y": [
                    5
                  ],
                  "yaxis": "y"
                },
                {
                  "alignmentgroup": "True",
                  "hovertemplate": "Sub Category=finance-mutual-funds<br>Category=%{x}<br>Values=%{y}<extra></extra>",
                  "legendgroup": "finance-mutual-funds",
                  "marker": {
                    "color": "#19d3f3",
                    "pattern": {
                      "shape": ""
                    }
                  },
                  "name": "finance-mutual-funds",
                  "offsetgroup": "finance-mutual-funds",
                  "orientation": "v",
                  "showlegend": true,
                  "textposition": "auto",
                  "type": "bar",
                  "x": [
                    "finance"
                  ],
                  "xaxis": "x",
                  "y": [
                    5
                  ],
                  "yaxis": "y"
                },
                {
                  "alignmentgroup": "True",
                  "hovertemplate": "Sub Category=cocktails<br>Category=%{x}<br>Values=%{y}<extra></extra>",
                  "legendgroup": "cocktails",
                  "marker": {
                    "color": "#FF6692",
                    "pattern": {
                      "shape": ""
                    }
                  },
                  "name": "cocktails",
                  "offsetgroup": "cocktails",
                  "orientation": "v",
                  "showlegend": true,
                  "textposition": "auto",
                  "type": "bar",
                  "x": [
                    "foodanddrink"
                  ],
                  "xaxis": "x",
                  "y": [
                    5
                  ],
                  "yaxis": "y"
                },
                {
                  "alignmentgroup": "True",
                  "hovertemplate": "Sub Category=foodrecipes<br>Category=%{x}<br>Values=%{y}<extra></extra>",
                  "legendgroup": "foodrecipes",
                  "marker": {
                    "color": "#B6E880",
                    "pattern": {
                      "shape": ""
                    }
                  },
                  "name": "foodrecipes",
                  "offsetgroup": "foodrecipes",
                  "orientation": "v",
                  "showlegend": true,
                  "textposition": "auto",
                  "type": "bar",
                  "x": [
                    "foodanddrink"
                  ],
                  "xaxis": "x",
                  "y": [
                    4
                  ],
                  "yaxis": "y"
                },
                {
                  "alignmentgroup": "True",
                  "hovertemplate": "Sub Category=lifestylemarriage<br>Category=%{x}<br>Values=%{y}<extra></extra>",
                  "legendgroup": "lifestylemarriage",
                  "marker": {
                    "color": "#FF97FF",
                    "pattern": {
                      "shape": ""
                    }
                  },
                  "name": "lifestylemarriage",
                  "offsetgroup": "lifestylemarriage",
                  "orientation": "v",
                  "showlegend": true,
                  "textposition": "auto",
                  "type": "bar",
                  "x": [
                    "lifestyle"
                  ],
                  "xaxis": "x",
                  "y": [
                    4
                  ],
                  "yaxis": "y"
                },
                {
                  "alignmentgroup": "True",
                  "hovertemplate": "Sub Category=music-grammys<br>Category=%{x}<br>Values=%{y}<extra></extra>",
                  "legendgroup": "music-grammys",
                  "marker": {
                    "color": "#FECB52",
                    "pattern": {
                      "shape": ""
                    }
                  },
                  "name": "music-grammys",
                  "offsetgroup": "music-grammys",
                  "orientation": "v",
                  "showlegend": true,
                  "textposition": "auto",
                  "type": "bar",
                  "x": [
                    "music"
                  ],
                  "xaxis": "x",
                  "y": [
                    4
                  ],
                  "yaxis": "y"
                },
                {
                  "alignmentgroup": "True",
                  "hovertemplate": "Sub Category=tv-golden-globes<br>Category=%{x}<br>Values=%{y}<extra></extra>",
                  "legendgroup": "tv-golden-globes",
                  "marker": {
                    "color": "#636efa",
                    "pattern": {
                      "shape": ""
                    }
                  },
                  "name": "tv-golden-globes",
                  "offsetgroup": "tv-golden-globes",
                  "orientation": "v",
                  "showlegend": true,
                  "textposition": "auto",
                  "type": "bar",
                  "x": [
                    "tv"
                  ],
                  "xaxis": "x",
                  "y": [
                    4
                  ],
                  "yaxis": "y"
                },
                {
                  "alignmentgroup": "True",
                  "hovertemplate": "Sub Category=sports_news<br>Category=%{x}<br>Values=%{y}<extra></extra>",
                  "legendgroup": "sports_news",
                  "marker": {
                    "color": "#EF553B",
                    "pattern": {
                      "shape": ""
                    }
                  },
                  "name": "sports_news",
                  "offsetgroup": "sports_news",
                  "orientation": "v",
                  "showlegend": true,
                  "textposition": "auto",
                  "type": "bar",
                  "x": [
                    "sports"
                  ],
                  "xaxis": "x",
                  "y": [
                    4
                  ],
                  "yaxis": "y"
                },
                {
                  "alignmentgroup": "True",
                  "hovertemplate": "Sub Category=autosreview<br>Category=%{x}<br>Values=%{y}<extra></extra>",
                  "legendgroup": "autosreview",
                  "marker": {
                    "color": "#00cc96",
                    "pattern": {
                      "shape": ""
                    }
                  },
                  "name": "autosreview",
                  "offsetgroup": "autosreview",
                  "orientation": "v",
                  "showlegend": true,
                  "textposition": "auto",
                  "type": "bar",
                  "x": [
                    "autos"
                  ],
                  "xaxis": "x",
                  "y": [
                    3
                  ],
                  "yaxis": "y"
                },
                {
                  "alignmentgroup": "True",
                  "hovertemplate": "Sub Category=watch<br>Category=%{x}<br>Values=%{y}<extra></extra>",
                  "legendgroup": "watch",
                  "marker": {
                    "color": "#ab63fa",
                    "pattern": {
                      "shape": ""
                    }
                  },
                  "name": "watch",
                  "offsetgroup": "watch",
                  "orientation": "v",
                  "showlegend": true,
                  "textposition": "auto",
                  "type": "bar",
                  "x": [
                    "video"
                  ],
                  "xaxis": "x",
                  "y": [
                    3
                  ],
                  "yaxis": "y"
                },
                {
                  "alignmentgroup": "True",
                  "hovertemplate": "Sub Category=cooking<br>Category=%{x}<br>Values=%{y}<extra></extra>",
                  "legendgroup": "cooking",
                  "marker": {
                    "color": "#FFA15A",
                    "pattern": {
                      "shape": ""
                    }
                  },
                  "name": "cooking",
                  "offsetgroup": "cooking",
                  "orientation": "v",
                  "showlegend": true,
                  "textposition": "auto",
                  "type": "bar",
                  "x": [
                    "foodanddrink"
                  ],
                  "xaxis": "x",
                  "y": [
                    3
                  ],
                  "yaxis": "y"
                },
                {
                  "alignmentgroup": "True",
                  "hovertemplate": "Sub Category=causes-environment<br>Category=%{x}<br>Values=%{y}<extra></extra>",
                  "legendgroup": "causes-environment",
                  "marker": {
                    "color": "#19d3f3",
                    "pattern": {
                      "shape": ""
                    }
                  },
                  "name": "causes-environment",
                  "offsetgroup": "causes-environment",
                  "orientation": "v",
                  "showlegend": true,
                  "textposition": "auto",
                  "type": "bar",
                  "x": [
                    "news"
                  ],
                  "xaxis": "x",
                  "y": [
                    3
                  ],
                  "yaxis": "y"
                },
                {
                  "alignmentgroup": "True",
                  "hovertemplate": "Sub Category=travel-videos<br>Category=%{x}<br>Values=%{y}<extra></extra>",
                  "legendgroup": "travel-videos",
                  "marker": {
                    "color": "#FF6692",
                    "pattern": {
                      "shape": ""
                    }
                  },
                  "name": "travel-videos",
                  "offsetgroup": "travel-videos",
                  "orientation": "v",
                  "showlegend": true,
                  "textposition": "auto",
                  "type": "bar",
                  "x": [
                    "travel"
                  ],
                  "xaxis": "x",
                  "y": [
                    3
                  ],
                  "yaxis": "y"
                },
                {
                  "alignmentgroup": "True",
                  "hovertemplate": "Sub Category=career-news<br>Category=%{x}<br>Values=%{y}<extra></extra>",
                  "legendgroup": "career-news",
                  "marker": {
                    "color": "#B6E880",
                    "pattern": {
                      "shape": ""
                    }
                  },
                  "name": "career-news",
                  "offsetgroup": "career-news",
                  "orientation": "v",
                  "showlegend": true,
                  "textposition": "auto",
                  "type": "bar",
                  "x": [
                    "finance"
                  ],
                  "xaxis": "x",
                  "y": [
                    3
                  ],
                  "yaxis": "y"
                },
                {
                  "alignmentgroup": "True",
                  "hovertemplate": "Sub Category=newsvideo<br>Category=%{x}<br>Values=%{y}<extra></extra>",
                  "legendgroup": "newsvideo",
                  "marker": {
                    "color": "#FF97FF",
                    "pattern": {
                      "shape": ""
                    }
                  },
                  "name": "newsvideo",
                  "offsetgroup": "newsvideo",
                  "orientation": "v",
                  "showlegend": true,
                  "textposition": "auto",
                  "type": "bar",
                  "x": [
                    "news"
                  ],
                  "xaxis": "x",
                  "y": [
                    3
                  ],
                  "yaxis": "y"
                },
                {
                  "alignmentgroup": "True",
                  "hovertemplate": "Sub Category=newstechnology<br>Category=%{x}<br>Values=%{y}<extra></extra>",
                  "legendgroup": "newstechnology",
                  "marker": {
                    "color": "#FECB52",
                    "pattern": {
                      "shape": ""
                    }
                  },
                  "name": "newstechnology",
                  "offsetgroup": "newstechnology",
                  "orientation": "v",
                  "showlegend": true,
                  "textposition": "auto",
                  "type": "bar",
                  "x": [
                    "news"
                  ],
                  "xaxis": "x",
                  "y": [
                    3
                  ],
                  "yaxis": "y"
                },
                {
                  "alignmentgroup": "True",
                  "hovertemplate": "Sub Category=strength<br>Category=%{x}<br>Values=%{y}<extra></extra>",
                  "legendgroup": "strength",
                  "marker": {
                    "color": "#636efa",
                    "pattern": {
                      "shape": ""
                    }
                  },
                  "name": "strength",
                  "offsetgroup": "strength",
                  "orientation": "v",
                  "showlegend": true,
                  "textposition": "auto",
                  "type": "bar",
                  "x": [
                    "health"
                  ],
                  "xaxis": "x",
                  "y": [
                    2
                  ],
                  "yaxis": "y"
                },
                {
                  "alignmentgroup": "True",
                  "hovertemplate": "Sub Category=yearinoffbeatgoodnews<br>Category=%{x}<br>Values=%{y}<extra></extra>",
                  "legendgroup": "yearinoffbeatgoodnews",
                  "marker": {
                    "color": "#EF553B",
                    "pattern": {
                      "shape": ""
                    }
                  },
                  "name": "yearinoffbeatgoodnews",
                  "offsetgroup": "yearinoffbeatgoodnews",
                  "orientation": "v",
                  "showlegend": true,
                  "textposition": "auto",
                  "type": "bar",
                  "x": [
                    "news"
                  ],
                  "xaxis": "x",
                  "y": [
                    2
                  ],
                  "yaxis": "y"
                },
                {
                  "alignmentgroup": "True",
                  "hovertemplate": "Sub Category=celebritynews<br>Category=%{x}<br>Values=%{y}<extra></extra>",
                  "legendgroup": "celebritynews",
                  "marker": {
                    "color": "#00cc96",
                    "pattern": {
                      "shape": ""
                    }
                  },
                  "name": "celebritynews",
                  "offsetgroup": "celebritynews",
                  "orientation": "v",
                  "showlegend": true,
                  "textposition": "auto",
                  "type": "bar",
                  "x": [
                    "entertainment"
                  ],
                  "xaxis": "x",
                  "y": [
                    2
                  ],
                  "yaxis": "y"
                },
                {
                  "alignmentgroup": "True",
                  "hovertemplate": "Sub Category=lifestylehoroscopefish<br>Category=%{x}<br>Values=%{y}<extra></extra>",
                  "legendgroup": "lifestylehoroscopefish",
                  "marker": {
                    "color": "#ab63fa",
                    "pattern": {
                      "shape": ""
                    }
                  },
                  "name": "lifestylehoroscopefish",
                  "offsetgroup": "lifestylehoroscopefish",
                  "orientation": "v",
                  "showlegend": true,
                  "textposition": "auto",
                  "type": "bar",
                  "x": [
                    "lifestyle"
                  ],
                  "xaxis": "x",
                  "y": [
                    2
                  ],
                  "yaxis": "y"
                },
                {
                  "alignmentgroup": "True",
                  "hovertemplate": "Sub Category=seasonal<br>Category=%{x}<br>Values=%{y}<extra></extra>",
                  "legendgroup": "seasonal",
                  "marker": {
                    "color": "#FFA15A",
                    "pattern": {
                      "shape": ""
                    }
                  },
                  "name": "seasonal",
                  "offsetgroup": "seasonal",
                  "orientation": "v",
                  "showlegend": true,
                  "textposition": "auto",
                  "type": "bar",
                  "x": [
                    "foodanddrink"
                  ],
                  "xaxis": "x",
                  "y": [
                    2
                  ],
                  "yaxis": "y"
                },
                {
                  "alignmentgroup": "True",
                  "hovertemplate": "Sub Category=holidays<br>Category=%{x}<br>Values=%{y}<extra></extra>",
                  "legendgroup": "holidays",
                  "marker": {
                    "color": "#19d3f3",
                    "pattern": {
                      "shape": ""
                    }
                  },
                  "name": "holidays",
                  "offsetgroup": "holidays",
                  "orientation": "v",
                  "showlegend": true,
                  "textposition": "auto",
                  "type": "bar",
                  "x": [
                    "travel",
                    "lifestyle"
                  ],
                  "xaxis": "x",
                  "y": [
                    2,
                    2
                  ],
                  "yaxis": "y"
                },
                {
                  "alignmentgroup": "True",
                  "hovertemplate": "Sub Category=cardio<br>Category=%{x}<br>Values=%{y}<extra></extra>",
                  "legendgroup": "cardio",
                  "marker": {
                    "color": "#FF6692",
                    "pattern": {
                      "shape": ""
                    }
                  },
                  "name": "cardio",
                  "offsetgroup": "cardio",
                  "orientation": "v",
                  "showlegend": true,
                  "textposition": "auto",
                  "type": "bar",
                  "x": [
                    "health"
                  ],
                  "xaxis": "x",
                  "y": [
                    2
                  ],
                  "yaxis": "y"
                },
                {
                  "alignmentgroup": "True",
                  "hovertemplate": "Sub Category=familyhealth<br>Category=%{x}<br>Values=%{y}<extra></extra>",
                  "legendgroup": "familyhealth",
                  "marker": {
                    "color": "#B6E880",
                    "pattern": {
                      "shape": ""
                    }
                  },
                  "name": "familyhealth",
                  "offsetgroup": "familyhealth",
                  "orientation": "v",
                  "showlegend": true,
                  "textposition": "auto",
                  "type": "bar",
                  "x": [
                    "health"
                  ],
                  "xaxis": "x",
                  "y": [
                    2
                  ],
                  "yaxis": "y"
                },
                {
                  "alignmentgroup": "True",
                  "hovertemplate": "Sub Category=healthagingwell<br>Category=%{x}<br>Values=%{y}<extra></extra>",
                  "legendgroup": "healthagingwell",
                  "marker": {
                    "color": "#FF97FF",
                    "pattern": {
                      "shape": ""
                    }
                  },
                  "name": "healthagingwell",
                  "offsetgroup": "healthagingwell",
                  "orientation": "v",
                  "showlegend": true,
                  "textposition": "auto",
                  "type": "bar",
                  "x": [
                    "health"
                  ],
                  "xaxis": "x",
                  "y": [
                    2
                  ],
                  "yaxis": "y"
                },
                {
                  "alignmentgroup": "True",
                  "hovertemplate": "Sub Category=photos<br>Category=%{x}<br>Values=%{y}<extra></extra>",
                  "legendgroup": "photos",
                  "marker": {
                    "color": "#FECB52",
                    "pattern": {
                      "shape": ""
                    }
                  },
                  "name": "photos",
                  "offsetgroup": "photos",
                  "orientation": "v",
                  "showlegend": true,
                  "textposition": "auto",
                  "type": "bar",
                  "x": [
                    "news",
                    "weather"
                  ],
                  "xaxis": "x",
                  "y": [
                    2,
                    1
                  ],
                  "yaxis": "y"
                },
                {
                  "alignmentgroup": "True",
                  "hovertemplate": "Sub Category=middleeast-top-stories<br>Category=%{x}<br>Values=%{y}<extra></extra>",
                  "legendgroup": "middleeast-top-stories",
                  "marker": {
                    "color": "#636efa",
                    "pattern": {
                      "shape": ""
                    }
                  },
                  "name": "middleeast-top-stories",
                  "offsetgroup": "middleeast-top-stories",
                  "orientation": "v",
                  "showlegend": true,
                  "textposition": "auto",
                  "type": "bar",
                  "x": [
                    "middleeast"
                  ],
                  "xaxis": "x",
                  "y": [
                    2
                  ],
                  "yaxis": "y"
                },
                {
                  "alignmentgroup": "True",
                  "hovertemplate": "Sub Category=indepth<br>Category=%{x}<br>Values=%{y}<extra></extra>",
                  "legendgroup": "indepth",
                  "marker": {
                    "color": "#EF553B",
                    "pattern": {
                      "shape": ""
                    }
                  },
                  "name": "indepth",
                  "offsetgroup": "indepth",
                  "orientation": "v",
                  "showlegend": true,
                  "textposition": "auto",
                  "type": "bar",
                  "x": [
                    "news"
                  ],
                  "xaxis": "x",
                  "y": [
                    2
                  ],
                  "yaxis": "y"
                },
                {
                  "alignmentgroup": "True",
                  "hovertemplate": "Sub Category=autoscartech<br>Category=%{x}<br>Values=%{y}<extra></extra>",
                  "legendgroup": "autoscartech",
                  "marker": {
                    "color": "#00cc96",
                    "pattern": {
                      "shape": ""
                    }
                  },
                  "name": "autoscartech",
                  "offsetgroup": "autoscartech",
                  "orientation": "v",
                  "showlegend": true,
                  "textposition": "auto",
                  "type": "bar",
                  "x": [
                    "autos"
                  ],
                  "xaxis": "x",
                  "y": [
                    2
                  ],
                  "yaxis": "y"
                },
                {
                  "alignmentgroup": "True",
                  "hovertemplate": "Sub Category=comedy<br>Category=%{x}<br>Values=%{y}<extra></extra>",
                  "legendgroup": "comedy",
                  "marker": {
                    "color": "#ab63fa",
                    "pattern": {
                      "shape": ""
                    }
                  },
                  "name": "comedy",
                  "offsetgroup": "comedy",
                  "orientation": "v",
                  "showlegend": true,
                  "textposition": "auto",
                  "type": "bar",
                  "x": [
                    "video"
                  ],
                  "xaxis": "x",
                  "y": [
                    2
                  ],
                  "yaxis": "y"
                },
                {
                  "alignmentgroup": "True",
                  "hovertemplate": "Sub Category=shop-computers-electronics<br>Category=%{x}<br>Values=%{y}<extra></extra>",
                  "legendgroup": "shop-computers-electronics",
                  "marker": {
                    "color": "#FFA15A",
                    "pattern": {
                      "shape": ""
                    }
                  },
                  "name": "shop-computers-electronics",
                  "offsetgroup": "shop-computers-electronics",
                  "orientation": "v",
                  "showlegend": true,
                  "textposition": "auto",
                  "type": "bar",
                  "x": [
                    "lifestyle"
                  ],
                  "xaxis": "x",
                  "y": [
                    2
                  ],
                  "yaxis": "y"
                },
                {
                  "alignmentgroup": "True",
                  "hovertemplate": "Sub Category=shop-books-movies-tv<br>Category=%{x}<br>Values=%{y}<extra></extra>",
                  "legendgroup": "shop-books-movies-tv",
                  "marker": {
                    "color": "#19d3f3",
                    "pattern": {
                      "shape": ""
                    }
                  },
                  "name": "shop-books-movies-tv",
                  "offsetgroup": "shop-books-movies-tv",
                  "orientation": "v",
                  "showlegend": true,
                  "textposition": "auto",
                  "type": "bar",
                  "x": [
                    "lifestyle"
                  ],
                  "xaxis": "x",
                  "y": [
                    2
                  ],
                  "yaxis": "y"
                },
                {
                  "alignmentgroup": "True",
                  "hovertemplate": "Sub Category=tv-reviews<br>Category=%{x}<br>Values=%{y}<extra></extra>",
                  "legendgroup": "tv-reviews",
                  "marker": {
                    "color": "#FF6692",
                    "pattern": {
                      "shape": ""
                    }
                  },
                  "name": "tv-reviews",
                  "offsetgroup": "tv-reviews",
                  "orientation": "v",
                  "showlegend": true,
                  "textposition": "auto",
                  "type": "bar",
                  "x": [
                    "tv"
                  ],
                  "xaxis": "x",
                  "y": [
                    2
                  ],
                  "yaxis": "y"
                },
                {
                  "alignmentgroup": "True",
                  "hovertemplate": "Sub Category=causes-disaster-relief<br>Category=%{x}<br>Values=%{y}<extra></extra>",
                  "legendgroup": "causes-disaster-relief",
                  "marker": {
                    "color": "#B6E880",
                    "pattern": {
                      "shape": ""
                    }
                  },
                  "name": "causes-disaster-relief",
                  "offsetgroup": "causes-disaster-relief",
                  "orientation": "v",
                  "showlegend": true,
                  "textposition": "auto",
                  "type": "bar",
                  "x": [
                    "news"
                  ],
                  "xaxis": "x",
                  "y": [
                    2
                  ],
                  "yaxis": "y"
                },
                {
                  "alignmentgroup": "True",
                  "hovertemplate": "Sub Category=lifestyletravel<br>Category=%{x}<br>Values=%{y}<extra></extra>",
                  "legendgroup": "lifestyletravel",
                  "marker": {
                    "color": "#FF97FF",
                    "pattern": {
                      "shape": ""
                    }
                  },
                  "name": "lifestyletravel",
                  "offsetgroup": "lifestyletravel",
                  "orientation": "v",
                  "showlegend": true,
                  "textposition": "auto",
                  "type": "bar",
                  "x": [
                    "lifestyle"
                  ],
                  "xaxis": "x",
                  "y": [
                    2
                  ],
                  "yaxis": "y"
                },
                {
                  "alignmentgroup": "True",
                  "hovertemplate": "Sub Category=empowering-the-planet<br>Category=%{x}<br>Values=%{y}<extra></extra>",
                  "legendgroup": "empowering-the-planet",
                  "marker": {
                    "color": "#FECB52",
                    "pattern": {
                      "shape": ""
                    }
                  },
                  "name": "empowering-the-planet",
                  "offsetgroup": "empowering-the-planet",
                  "orientation": "v",
                  "showlegend": true,
                  "textposition": "auto",
                  "type": "bar",
                  "x": [
                    "news"
                  ],
                  "xaxis": "x",
                  "y": [
                    2
                  ],
                  "yaxis": "y"
                },
                {
                  "alignmentgroup": "True",
                  "hovertemplate": "Sub Category=soccer_videos<br>Category=%{x}<br>Values=%{y}<extra></extra>",
                  "legendgroup": "soccer_videos",
                  "marker": {
                    "color": "#636efa",
                    "pattern": {
                      "shape": ""
                    }
                  },
                  "name": "soccer_videos",
                  "offsetgroup": "soccer_videos",
                  "orientation": "v",
                  "showlegend": true,
                  "textposition": "auto",
                  "type": "bar",
                  "x": [
                    "sports"
                  ],
                  "xaxis": "x",
                  "y": [
                    1
                  ],
                  "yaxis": "y"
                },
                {
                  "alignmentgroup": "True",
                  "hovertemplate": "Sub Category=weatherfullscreenmaps<br>Category=%{x}<br>Values=%{y}<extra></extra>",
                  "legendgroup": "weatherfullscreenmaps",
                  "marker": {
                    "color": "#EF553B",
                    "pattern": {
                      "shape": ""
                    }
                  },
                  "name": "weatherfullscreenmaps",
                  "offsetgroup": "weatherfullscreenmaps",
                  "orientation": "v",
                  "showlegend": true,
                  "textposition": "auto",
                  "type": "bar",
                  "x": [
                    "weather"
                  ],
                  "xaxis": "x",
                  "y": [
                    1
                  ],
                  "yaxis": "y"
                },
                {
                  "alignmentgroup": "True",
                  "hovertemplate": "Sub Category=soccer_fifa_wwc<br>Category=%{x}<br>Values=%{y}<extra></extra>",
                  "legendgroup": "soccer_fifa_wwc",
                  "marker": {
                    "color": "#00cc96",
                    "pattern": {
                      "shape": ""
                    }
                  },
                  "name": "soccer_fifa_wwc",
                  "offsetgroup": "soccer_fifa_wwc",
                  "orientation": "v",
                  "showlegend": true,
                  "textposition": "auto",
                  "type": "bar",
                  "x": [
                    "sports"
                  ],
                  "xaxis": "x",
                  "y": [
                    1
                  ],
                  "yaxis": "y"
                },
                {
                  "alignmentgroup": "True",
                  "hovertemplate": "Sub Category=topnews<br>Category=%{x}<br>Values=%{y}<extra></extra>",
                  "legendgroup": "topnews",
                  "marker": {
                    "color": "#ab63fa",
                    "pattern": {
                      "shape": ""
                    }
                  },
                  "name": "topnews",
                  "offsetgroup": "topnews",
                  "orientation": "v",
                  "showlegend": true,
                  "textposition": "auto",
                  "type": "bar",
                  "x": [
                    "tv",
                    "music"
                  ],
                  "xaxis": "x",
                  "y": [
                    1,
                    1
                  ],
                  "yaxis": "y"
                },
                {
                  "alignmentgroup": "True",
                  "hovertemplate": "Sub Category=tv-golden-globes-video<br>Category=%{x}<br>Values=%{y}<extra></extra>",
                  "legendgroup": "tv-golden-globes-video",
                  "marker": {
                    "color": "#FFA15A",
                    "pattern": {
                      "shape": ""
                    }
                  },
                  "name": "tv-golden-globes-video",
                  "offsetgroup": "tv-golden-globes-video",
                  "orientation": "v",
                  "showlegend": true,
                  "textposition": "auto",
                  "type": "bar",
                  "x": [
                    "tv"
                  ],
                  "xaxis": "x",
                  "y": [
                    1
                  ],
                  "yaxis": "y"
                },
                {
                  "alignmentgroup": "True",
                  "hovertemplate": "Sub Category=tennis_intl<br>Category=%{x}<br>Values=%{y}<extra></extra>",
                  "legendgroup": "tennis_intl",
                  "marker": {
                    "color": "#19d3f3",
                    "pattern": {
                      "shape": ""
                    }
                  },
                  "name": "tennis_intl",
                  "offsetgroup": "tennis_intl",
                  "orientation": "v",
                  "showlegend": true,
                  "textposition": "auto",
                  "type": "bar",
                  "x": [
                    "sports"
                  ],
                  "xaxis": "x",
                  "y": [
                    1
                  ],
                  "yaxis": "y"
                },
                {
                  "alignmentgroup": "True",
                  "hovertemplate": "Sub Category=autosvans<br>Category=%{x}<br>Values=%{y}<extra></extra>",
                  "legendgroup": "autosvans",
                  "marker": {
                    "color": "#FF6692",
                    "pattern": {
                      "shape": ""
                    }
                  },
                  "name": "autosvans",
                  "offsetgroup": "autosvans",
                  "orientation": "v",
                  "showlegend": true,
                  "textposition": "auto",
                  "type": "bar",
                  "x": [
                    "autos"
                  ],
                  "xaxis": "x",
                  "y": [
                    1
                  ],
                  "yaxis": "y"
                },
                {
                  "alignmentgroup": "True",
                  "hovertemplate": "Sub Category=soccer_bund<br>Category=%{x}<br>Values=%{y}<extra></extra>",
                  "legendgroup": "soccer_bund",
                  "marker": {
                    "color": "#B6E880",
                    "pattern": {
                      "shape": ""
                    }
                  },
                  "name": "soccer_bund",
                  "offsetgroup": "soccer_bund",
                  "orientation": "v",
                  "showlegend": true,
                  "textposition": "auto",
                  "type": "bar",
                  "x": [
                    "sports"
                  ],
                  "xaxis": "x",
                  "y": [
                    1
                  ],
                  "yaxis": "y"
                },
                {
                  "alignmentgroup": "True",
                  "hovertemplate": "Sub Category=autoscompact<br>Category=%{x}<br>Values=%{y}<extra></extra>",
                  "legendgroup": "autoscompact",
                  "marker": {
                    "color": "#FF97FF",
                    "pattern": {
                      "shape": ""
                    }
                  },
                  "name": "autoscompact",
                  "offsetgroup": "autoscompact",
                  "orientation": "v",
                  "showlegend": true,
                  "textposition": "auto",
                  "type": "bar",
                  "x": [
                    "autos"
                  ],
                  "xaxis": "x",
                  "y": [
                    1
                  ],
                  "yaxis": "y"
                },
                {
                  "alignmentgroup": "True",
                  "hovertemplate": "Sub Category=autosconvertibles<br>Category=%{x}<br>Values=%{y}<extra></extra>",
                  "legendgroup": "autosconvertibles",
                  "marker": {
                    "color": "#FECB52",
                    "pattern": {
                      "shape": ""
                    }
                  },
                  "name": "autosconvertibles",
                  "offsetgroup": "autosconvertibles",
                  "orientation": "v",
                  "showlegend": true,
                  "textposition": "auto",
                  "type": "bar",
                  "x": [
                    "autos"
                  ],
                  "xaxis": "x",
                  "y": [
                    1
                  ],
                  "yaxis": "y"
                },
                {
                  "alignmentgroup": "True",
                  "hovertemplate": "Sub Category=traveltrivia<br>Category=%{x}<br>Values=%{y}<extra></extra>",
                  "legendgroup": "traveltrivia",
                  "marker": {
                    "color": "#636efa",
                    "pattern": {
                      "shape": ""
                    }
                  },
                  "name": "traveltrivia",
                  "offsetgroup": "traveltrivia",
                  "orientation": "v",
                  "showlegend": true,
                  "textposition": "auto",
                  "type": "bar",
                  "x": [
                    "travel"
                  ],
                  "xaxis": "x",
                  "y": [
                    1
                  ],
                  "yaxis": "y"
                },
                {
                  "alignmentgroup": "True",
                  "hovertemplate": "Sub Category=foodanddrink<br>Category=%{x}<br>Values=%{y}<extra></extra>",
                  "legendgroup": "foodanddrink",
                  "marker": {
                    "color": "#EF553B",
                    "pattern": {
                      "shape": ""
                    }
                  },
                  "name": "foodanddrink",
                  "offsetgroup": "foodanddrink",
                  "orientation": "v",
                  "showlegend": true,
                  "textposition": "auto",
                  "type": "bar",
                  "x": [
                    "video"
                  ],
                  "xaxis": "x",
                  "y": [
                    1
                  ],
                  "yaxis": "y"
                },
                {
                  "alignmentgroup": "True",
                  "hovertemplate": "Sub Category=healthandfitness<br>Category=%{x}<br>Values=%{y}<extra></extra>",
                  "legendgroup": "healthandfitness",
                  "marker": {
                    "color": "#00cc96",
                    "pattern": {
                      "shape": ""
                    }
                  },
                  "name": "healthandfitness",
                  "offsetgroup": "healthandfitness",
                  "orientation": "v",
                  "showlegend": true,
                  "textposition": "auto",
                  "type": "bar",
                  "x": [
                    "video"
                  ],
                  "xaxis": "x",
                  "y": [
                    1
                  ],
                  "yaxis": "y"
                },
                {
                  "alignmentgroup": "True",
                  "hovertemplate": "Sub Category=travel-accessible<br>Category=%{x}<br>Values=%{y}<extra></extra>",
                  "legendgroup": "travel-accessible",
                  "marker": {
                    "color": "#ab63fa",
                    "pattern": {
                      "shape": ""
                    }
                  },
                  "name": "travel-accessible",
                  "offsetgroup": "travel-accessible",
                  "orientation": "v",
                  "showlegend": true,
                  "textposition": "auto",
                  "type": "bar",
                  "x": [
                    "travel"
                  ],
                  "xaxis": "x",
                  "y": [
                    1
                  ],
                  "yaxis": "y"
                },
                {
                  "alignmentgroup": "True",
                  "hovertemplate": "Sub Category=autoslosangeles<br>Category=%{x}<br>Values=%{y}<extra></extra>",
                  "legendgroup": "autoslosangeles",
                  "marker": {
                    "color": "#FFA15A",
                    "pattern": {
                      "shape": ""
                    }
                  },
                  "name": "autoslosangeles",
                  "offsetgroup": "autoslosangeles",
                  "orientation": "v",
                  "showlegend": true,
                  "textposition": "auto",
                  "type": "bar",
                  "x": [
                    "autos"
                  ],
                  "xaxis": "x",
                  "y": [
                    1
                  ],
                  "yaxis": "y"
                },
                {
                  "alignmentgroup": "True",
                  "hovertemplate": "Sub Category=autosmidsize<br>Category=%{x}<br>Values=%{y}<extra></extra>",
                  "legendgroup": "autosmidsize",
                  "marker": {
                    "color": "#19d3f3",
                    "pattern": {
                      "shape": ""
                    }
                  },
                  "name": "autosmidsize",
                  "offsetgroup": "autosmidsize",
                  "orientation": "v",
                  "showlegend": true,
                  "textposition": "auto",
                  "type": "bar",
                  "x": [
                    "autos"
                  ],
                  "xaxis": "x",
                  "y": [
                    1
                  ],
                  "yaxis": "y"
                },
                {
                  "alignmentgroup": "True",
                  "hovertemplate": "Sub Category=mindandbody<br>Category=%{x}<br>Values=%{y}<extra></extra>",
                  "legendgroup": "mindandbody",
                  "marker": {
                    "color": "#FF6692",
                    "pattern": {
                      "shape": ""
                    }
                  },
                  "name": "mindandbody",
                  "offsetgroup": "mindandbody",
                  "orientation": "v",
                  "showlegend": true,
                  "textposition": "auto",
                  "type": "bar",
                  "x": [
                    "health"
                  ],
                  "xaxis": "x",
                  "y": [
                    1
                  ],
                  "yaxis": "y"
                },
                {
                  "alignmentgroup": "True",
                  "hovertemplate": "Sub Category=finance-home-loans<br>Category=%{x}<br>Values=%{y}<extra></extra>",
                  "legendgroup": "finance-home-loans",
                  "marker": {
                    "color": "#B6E880",
                    "pattern": {
                      "shape": ""
                    }
                  },
                  "name": "finance-home-loans",
                  "offsetgroup": "finance-home-loans",
                  "orientation": "v",
                  "showlegend": true,
                  "textposition": "auto",
                  "type": "bar",
                  "x": [
                    "finance"
                  ],
                  "xaxis": "x",
                  "y": [
                    1
                  ],
                  "yaxis": "y"
                },
                {
                  "alignmentgroup": "True",
                  "hovertemplate": "Sub Category=celebhub<br>Category=%{x}<br>Values=%{y}<extra></extra>",
                  "legendgroup": "celebhub",
                  "marker": {
                    "color": "#FF97FF",
                    "pattern": {
                      "shape": ""
                    }
                  },
                  "name": "celebhub",
                  "offsetgroup": "celebhub",
                  "orientation": "v",
                  "showlegend": true,
                  "textposition": "auto",
                  "type": "bar",
                  "x": [
                    "entertainment"
                  ],
                  "xaxis": "x",
                  "y": [
                    1
                  ],
                  "yaxis": "y"
                },
                {
                  "alignmentgroup": "True",
                  "hovertemplate": "Sub Category=lifestylestyle<br>Category=%{x}<br>Values=%{y}<extra></extra>",
                  "legendgroup": "lifestylestyle",
                  "marker": {
                    "color": "#FECB52",
                    "pattern": {
                      "shape": ""
                    }
                  },
                  "name": "lifestylestyle",
                  "offsetgroup": "lifestylestyle",
                  "orientation": "v",
                  "showlegend": true,
                  "textposition": "auto",
                  "type": "bar",
                  "x": [
                    "lifestyle"
                  ],
                  "xaxis": "x",
                  "y": [
                    1
                  ],
                  "yaxis": "y"
                },
                {
                  "alignmentgroup": "True",
                  "hovertemplate": "Sub Category=finance-savingsrates<br>Category=%{x}<br>Values=%{y}<extra></extra>",
                  "legendgroup": "finance-savingsrates",
                  "marker": {
                    "color": "#636efa",
                    "pattern": {
                      "shape": ""
                    }
                  },
                  "name": "finance-savingsrates",
                  "offsetgroup": "finance-savingsrates",
                  "orientation": "v",
                  "showlegend": true,
                  "textposition": "auto",
                  "type": "bar",
                  "x": [
                    "finance"
                  ],
                  "xaxis": "x",
                  "y": [
                    1
                  ],
                  "yaxis": "y"
                },
                {
                  "alignmentgroup": "True",
                  "hovertemplate": "Sub Category=finance-startinvesting<br>Category=%{x}<br>Values=%{y}<extra></extra>",
                  "legendgroup": "finance-startinvesting",
                  "marker": {
                    "color": "#EF553B",
                    "pattern": {
                      "shape": ""
                    }
                  },
                  "name": "finance-startinvesting",
                  "offsetgroup": "finance-startinvesting",
                  "orientation": "v",
                  "showlegend": true,
                  "textposition": "auto",
                  "type": "bar",
                  "x": [
                    "finance"
                  ],
                  "xaxis": "x",
                  "y": [
                    1
                  ],
                  "yaxis": "y"
                },
                {
                  "alignmentgroup": "True",
                  "hovertemplate": "Sub Category=spendingandborrowing<br>Category=%{x}<br>Values=%{y}<extra></extra>",
                  "legendgroup": "spendingandborrowing",
                  "marker": {
                    "color": "#00cc96",
                    "pattern": {
                      "shape": ""
                    }
                  },
                  "name": "spendingandborrowing",
                  "offsetgroup": "spendingandborrowing",
                  "orientation": "v",
                  "showlegend": true,
                  "textposition": "auto",
                  "type": "bar",
                  "x": [
                    "finance"
                  ],
                  "xaxis": "x",
                  "y": [
                    1
                  ],
                  "yaxis": "y"
                },
                {
                  "alignmentgroup": "True",
                  "hovertemplate": "Sub Category=travel<br>Category=%{x}<br>Values=%{y}<extra></extra>",
                  "legendgroup": "travel",
                  "marker": {
                    "color": "#ab63fa",
                    "pattern": {
                      "shape": ""
                    }
                  },
                  "name": "travel",
                  "offsetgroup": "travel",
                  "orientation": "v",
                  "showlegend": true,
                  "textposition": "auto",
                  "type": "bar",
                  "x": [
                    "lifestyle"
                  ],
                  "xaxis": "x",
                  "y": [
                    1
                  ],
                  "yaxis": "y"
                },
                {
                  "alignmentgroup": "True",
                  "hovertemplate": "Sub Category=shop-toys<br>Category=%{x}<br>Values=%{y}<extra></extra>",
                  "legendgroup": "shop-toys",
                  "marker": {
                    "color": "#FFA15A",
                    "pattern": {
                      "shape": ""
                    }
                  },
                  "name": "shop-toys",
                  "offsetgroup": "shop-toys",
                  "orientation": "v",
                  "showlegend": true,
                  "textposition": "auto",
                  "type": "bar",
                  "x": [
                    "lifestyle"
                  ],
                  "xaxis": "x",
                  "y": [
                    1
                  ],
                  "yaxis": "y"
                },
                {
                  "alignmentgroup": "True",
                  "hovertemplate": "Sub Category=relationships<br>Category=%{x}<br>Values=%{y}<extra></extra>",
                  "legendgroup": "relationships",
                  "marker": {
                    "color": "#19d3f3",
                    "pattern": {
                      "shape": ""
                    }
                  },
                  "name": "relationships",
                  "offsetgroup": "relationships",
                  "orientation": "v",
                  "showlegend": true,
                  "textposition": "auto",
                  "type": "bar",
                  "x": [
                    "lifestyle"
                  ],
                  "xaxis": "x",
                  "y": [
                    1
                  ],
                  "yaxis": "y"
                },
                {
                  "alignmentgroup": "True",
                  "hovertemplate": "Sub Category=lifestylewhatshot<br>Category=%{x}<br>Values=%{y}<extra></extra>",
                  "legendgroup": "lifestylewhatshot",
                  "marker": {
                    "color": "#FF6692",
                    "pattern": {
                      "shape": ""
                    }
                  },
                  "name": "lifestylewhatshot",
                  "offsetgroup": "lifestylewhatshot",
                  "orientation": "v",
                  "showlegend": true,
                  "textposition": "auto",
                  "type": "bar",
                  "x": [
                    "lifestyle"
                  ],
                  "xaxis": "x",
                  "y": [
                    1
                  ],
                  "yaxis": "y"
                },
                {
                  "alignmentgroup": "True",
                  "hovertemplate": "Sub Category=cookingschool<br>Category=%{x}<br>Values=%{y}<extra></extra>",
                  "legendgroup": "cookingschool",
                  "marker": {
                    "color": "#B6E880",
                    "pattern": {
                      "shape": ""
                    }
                  },
                  "name": "cookingschool",
                  "offsetgroup": "cookingschool",
                  "orientation": "v",
                  "showlegend": true,
                  "textposition": "auto",
                  "type": "bar",
                  "x": [
                    "foodanddrink"
                  ],
                  "xaxis": "x",
                  "y": [
                    1
                  ],
                  "yaxis": "y"
                },
                {
                  "alignmentgroup": "True",
                  "hovertemplate": "Sub Category=causes-poverty<br>Category=%{x}<br>Values=%{y}<extra></extra>",
                  "legendgroup": "causes-poverty",
                  "marker": {
                    "color": "#FF97FF",
                    "pattern": {
                      "shape": ""
                    }
                  },
                  "name": "causes-poverty",
                  "offsetgroup": "causes-poverty",
                  "orientation": "v",
                  "showlegend": true,
                  "textposition": "auto",
                  "type": "bar",
                  "x": [
                    "news"
                  ],
                  "xaxis": "x",
                  "y": [
                    1
                  ],
                  "yaxis": "y"
                },
                {
                  "alignmentgroup": "True",
                  "hovertemplate": "Sub Category=foodtips<br>Category=%{x}<br>Values=%{y}<extra></extra>",
                  "legendgroup": "foodtips",
                  "marker": {
                    "color": "#FECB52",
                    "pattern": {
                      "shape": ""
                    }
                  },
                  "name": "foodtips",
                  "offsetgroup": "foodtips",
                  "orientation": "v",
                  "showlegend": true,
                  "textposition": "auto",
                  "type": "bar",
                  "x": [
                    "foodanddrink"
                  ],
                  "xaxis": "x",
                  "y": [
                    1
                  ],
                  "yaxis": "y"
                },
                {
                  "alignmentgroup": "True",
                  "hovertemplate": "Sub Category=games-news<br>Category=%{x}<br>Values=%{y}<extra></extra>",
                  "legendgroup": "games-news",
                  "marker": {
                    "color": "#636efa",
                    "pattern": {
                      "shape": ""
                    }
                  },
                  "name": "games-news",
                  "offsetgroup": "games-news",
                  "orientation": "v",
                  "showlegend": true,
                  "textposition": "auto",
                  "type": "bar",
                  "x": [
                    "games"
                  ],
                  "xaxis": "x",
                  "y": [
                    1
                  ],
                  "yaxis": "y"
                },
                {
                  "alignmentgroup": "True",
                  "hovertemplate": "Sub Category=lifestyledesign<br>Category=%{x}<br>Values=%{y}<extra></extra>",
                  "legendgroup": "lifestyledesign",
                  "marker": {
                    "color": "#EF553B",
                    "pattern": {
                      "shape": ""
                    }
                  },
                  "name": "lifestyledesign",
                  "offsetgroup": "lifestyledesign",
                  "orientation": "v",
                  "showlegend": true,
                  "textposition": "auto",
                  "type": "bar",
                  "x": [
                    "lifestyle"
                  ],
                  "xaxis": "x",
                  "y": [
                    1
                  ],
                  "yaxis": "y"
                },
                {
                  "alignmentgroup": "True",
                  "hovertemplate": "Sub Category=health-cancer<br>Category=%{x}<br>Values=%{y}<extra></extra>",
                  "legendgroup": "health-cancer",
                  "marker": {
                    "color": "#00cc96",
                    "pattern": {
                      "shape": ""
                    }
                  },
                  "name": "health-cancer",
                  "offsetgroup": "health-cancer",
                  "orientation": "v",
                  "showlegend": true,
                  "textposition": "auto",
                  "type": "bar",
                  "x": [
                    "health"
                  ],
                  "xaxis": "x",
                  "y": [
                    1
                  ],
                  "yaxis": "y"
                },
                {
                  "alignmentgroup": "True",
                  "hovertemplate": "Sub Category=lifestyleanimals<br>Category=%{x}<br>Values=%{y}<extra></extra>",
                  "legendgroup": "lifestyleanimals",
                  "marker": {
                    "color": "#ab63fa",
                    "pattern": {
                      "shape": ""
                    }
                  },
                  "name": "lifestyleanimals",
                  "offsetgroup": "lifestyleanimals",
                  "orientation": "v",
                  "showlegend": true,
                  "textposition": "auto",
                  "type": "bar",
                  "x": [
                    "lifestyle"
                  ],
                  "xaxis": "x",
                  "y": [
                    1
                  ],
                  "yaxis": "y"
                },
                {
                  "alignmentgroup": "True",
                  "hovertemplate": "Sub Category=lifestyle-wedding<br>Category=%{x}<br>Values=%{y}<extra></extra>",
                  "legendgroup": "lifestyle-wedding",
                  "marker": {
                    "color": "#FFA15A",
                    "pattern": {
                      "shape": ""
                    }
                  },
                  "name": "lifestyle-wedding",
                  "offsetgroup": "lifestyle-wedding",
                  "orientation": "v",
                  "showlegend": true,
                  "textposition": "auto",
                  "type": "bar",
                  "x": [
                    "lifestyle"
                  ],
                  "xaxis": "x",
                  "y": [
                    1
                  ],
                  "yaxis": "y"
                },
                {
                  "alignmentgroup": "True",
                  "hovertemplate": "Sub Category=halloween<br>Category=%{x}<br>Values=%{y}<extra></extra>",
                  "legendgroup": "halloween",
                  "marker": {
                    "color": "#19d3f3",
                    "pattern": {
                      "shape": ""
                    }
                  },
                  "name": "halloween",
                  "offsetgroup": "halloween",
                  "orientation": "v",
                  "showlegend": true,
                  "textposition": "auto",
                  "type": "bar",
                  "x": [
                    "lifestyle"
                  ],
                  "xaxis": "x",
                  "y": [
                    1
                  ],
                  "yaxis": "y"
                },
                {
                  "alignmentgroup": "True",
                  "hovertemplate": "Sub Category=healthyliving<br>Category=%{x}<br>Values=%{y}<extra></extra>",
                  "legendgroup": "healthyliving",
                  "marker": {
                    "color": "#FF6692",
                    "pattern": {
                      "shape": ""
                    }
                  },
                  "name": "healthyliving",
                  "offsetgroup": "healthyliving",
                  "orientation": "v",
                  "showlegend": true,
                  "textposition": "auto",
                  "type": "bar",
                  "x": [
                    "health"
                  ],
                  "xaxis": "x",
                  "y": [
                    1
                  ],
                  "yaxis": "y"
                },
                {
                  "alignmentgroup": "True",
                  "hovertemplate": "Sub Category=smartliving<br>Category=%{x}<br>Values=%{y}<extra></extra>",
                  "legendgroup": "smartliving",
                  "marker": {
                    "color": "#B6E880",
                    "pattern": {
                      "shape": ""
                    }
                  },
                  "name": "smartliving",
                  "offsetgroup": "smartliving",
                  "orientation": "v",
                  "showlegend": true,
                  "textposition": "auto",
                  "type": "bar",
                  "x": [
                    "health"
                  ],
                  "xaxis": "x",
                  "y": [
                    1
                  ],
                  "yaxis": "y"
                },
                {
                  "alignmentgroup": "True",
                  "hovertemplate": "Sub Category=causes-military-appreciation<br>Category=%{x}<br>Values=%{y}<extra></extra>",
                  "legendgroup": "causes-military-appreciation",
                  "marker": {
                    "color": "#FF97FF",
                    "pattern": {
                      "shape": ""
                    }
                  },
                  "name": "causes-military-appreciation",
                  "offsetgroup": "causes-military-appreciation",
                  "orientation": "v",
                  "showlegend": true,
                  "textposition": "auto",
                  "type": "bar",
                  "x": [
                    "news"
                  ],
                  "xaxis": "x",
                  "y": [
                    1
                  ],
                  "yaxis": "y"
                },
                {
                  "alignmentgroup": "True",
                  "hovertemplate": "Sub Category=narendramodi_opinion<br>Category=%{x}<br>Values=%{y}<extra></extra>",
                  "legendgroup": "narendramodi_opinion",
                  "marker": {
                    "color": "#FECB52",
                    "pattern": {
                      "shape": ""
                    }
                  },
                  "name": "narendramodi_opinion",
                  "offsetgroup": "narendramodi_opinion",
                  "orientation": "v",
                  "showlegend": true,
                  "textposition": "auto",
                  "type": "bar",
                  "x": [
                    "news"
                  ],
                  "xaxis": "x",
                  "y": [
                    1
                  ],
                  "yaxis": "y"
                },
                {
                  "alignmentgroup": "True",
                  "hovertemplate": "Sub Category=entertainmentmusic<br>Category=%{x}<br>Values=%{y}<extra></extra>",
                  "legendgroup": "entertainmentmusic",
                  "marker": {
                    "color": "#636efa",
                    "pattern": {
                      "shape": ""
                    }
                  },
                  "name": "entertainmentmusic",
                  "offsetgroup": "entertainmentmusic",
                  "orientation": "v",
                  "showlegend": true,
                  "textposition": "auto",
                  "type": "bar",
                  "x": [
                    "entertainment"
                  ],
                  "xaxis": "x",
                  "y": [
                    1
                  ],
                  "yaxis": "y"
                },
                {
                  "alignmentgroup": "True",
                  "hovertemplate": "Sub Category=baseball<br>Category=%{x}<br>Values=%{y}<extra></extra>",
                  "legendgroup": "baseball",
                  "marker": {
                    "color": "#EF553B",
                    "pattern": {
                      "shape": ""
                    }
                  },
                  "name": "baseball",
                  "offsetgroup": "baseball",
                  "orientation": "v",
                  "showlegend": true,
                  "textposition": "auto",
                  "type": "bar",
                  "x": [
                    "sports"
                  ],
                  "xaxis": "x",
                  "y": [
                    1
                  ],
                  "yaxis": "y"
                },
                {
                  "alignmentgroup": "True",
                  "hovertemplate": "Sub Category=othersports<br>Category=%{x}<br>Values=%{y}<extra></extra>",
                  "legendgroup": "othersports",
                  "marker": {
                    "color": "#00cc96",
                    "pattern": {
                      "shape": ""
                    }
                  },
                  "name": "othersports",
                  "offsetgroup": "othersports",
                  "orientation": "v",
                  "showlegend": true,
                  "textposition": "auto",
                  "type": "bar",
                  "x": [
                    "sports"
                  ],
                  "xaxis": "x",
                  "y": [
                    1
                  ],
                  "yaxis": "y"
                },
                {
                  "alignmentgroup": "True",
                  "hovertemplate": "Sub Category=olympics-videos<br>Category=%{x}<br>Values=%{y}<extra></extra>",
                  "legendgroup": "olympics-videos",
                  "marker": {
                    "color": "#ab63fa",
                    "pattern": {
                      "shape": ""
                    }
                  },
                  "name": "olympics-videos",
                  "offsetgroup": "olympics-videos",
                  "orientation": "v",
                  "showlegend": true,
                  "textposition": "auto",
                  "type": "bar",
                  "x": [
                    "sports"
                  ],
                  "xaxis": "x",
                  "y": [
                    1
                  ],
                  "yaxis": "y"
                },
                {
                  "alignmentgroup": "True",
                  "hovertemplate": "Sub Category=entertainmenttv<br>Category=%{x}<br>Values=%{y}<extra></extra>",
                  "legendgroup": "entertainmenttv",
                  "marker": {
                    "color": "#FFA15A",
                    "pattern": {
                      "shape": ""
                    }
                  },
                  "name": "entertainmenttv",
                  "offsetgroup": "entertainmenttv",
                  "orientation": "v",
                  "showlegend": true,
                  "textposition": "auto",
                  "type": "bar",
                  "x": [
                    "entertainment"
                  ],
                  "xaxis": "x",
                  "y": [
                    1
                  ],
                  "yaxis": "y"
                },
                {
                  "alignmentgroup": "True",
                  "hovertemplate": "Sub Category=mmaufc<br>Category=%{x}<br>Values=%{y}<extra></extra>",
                  "legendgroup": "mmaufc",
                  "marker": {
                    "color": "#19d3f3",
                    "pattern": {
                      "shape": ""
                    }
                  },
                  "name": "mmaufc",
                  "offsetgroup": "mmaufc",
                  "orientation": "v",
                  "showlegend": true,
                  "textposition": "auto",
                  "type": "bar",
                  "x": [
                    "sports"
                  ],
                  "xaxis": "x",
                  "y": [
                    1
                  ],
                  "yaxis": "y"
                },
                {
                  "alignmentgroup": "True",
                  "hovertemplate": "Sub Category=games<br>Category=%{x}<br>Values=%{y}<extra></extra>",
                  "legendgroup": "games",
                  "marker": {
                    "color": "#FF6692",
                    "pattern": {
                      "shape": ""
                    }
                  },
                  "name": "games",
                  "offsetgroup": "games",
                  "orientation": "v",
                  "showlegend": true,
                  "textposition": "auto",
                  "type": "bar",
                  "x": [
                    "entertainment"
                  ],
                  "xaxis": "x",
                  "y": [
                    1
                  ],
                  "yaxis": "y"
                },
                {
                  "alignmentgroup": "True",
                  "hovertemplate": "Sub Category=hollywood<br>Category=%{x}<br>Values=%{y}<extra></extra>",
                  "legendgroup": "hollywood",
                  "marker": {
                    "color": "#B6E880",
                    "pattern": {
                      "shape": ""
                    }
                  },
                  "name": "hollywood",
                  "offsetgroup": "hollywood",
                  "orientation": "v",
                  "showlegend": true,
                  "textposition": "auto",
                  "type": "bar",
                  "x": [
                    "entertainment"
                  ],
                  "xaxis": "x",
                  "y": [
                    1
                  ],
                  "yaxis": "y"
                },
                {
                  "alignmentgroup": "True",
                  "hovertemplate": "Sub Category=golfvideos<br>Category=%{x}<br>Values=%{y}<extra></extra>",
                  "legendgroup": "golfvideos",
                  "marker": {
                    "color": "#FF97FF",
                    "pattern": {
                      "shape": ""
                    }
                  },
                  "name": "golfvideos",
                  "offsetgroup": "golfvideos",
                  "orientation": "v",
                  "showlegend": true,
                  "textposition": "auto",
                  "type": "bar",
                  "x": [
                    "sports"
                  ],
                  "xaxis": "x",
                  "y": [
                    1
                  ],
                  "yaxis": "y"
                },
                {
                  "alignmentgroup": "True",
                  "hovertemplate": "Sub Category=tv<br>Category=%{x}<br>Values=%{y}<extra></extra>",
                  "legendgroup": "tv",
                  "marker": {
                    "color": "#FECB52",
                    "pattern": {
                      "shape": ""
                    }
                  },
                  "name": "tv",
                  "offsetgroup": "tv",
                  "orientation": "v",
                  "showlegend": true,
                  "textposition": "auto",
                  "type": "bar",
                  "x": [
                    "entertainment"
                  ],
                  "xaxis": "x",
                  "y": [
                    1
                  ],
                  "yaxis": "y"
                },
                {
                  "alignmentgroup": "True",
                  "hovertemplate": "Sub Category=basketball<br>Category=%{x}<br>Values=%{y}<extra></extra>",
                  "legendgroup": "basketball",
                  "marker": {
                    "color": "#636efa",
                    "pattern": {
                      "shape": ""
                    }
                  },
                  "name": "basketball",
                  "offsetgroup": "basketball",
                  "orientation": "v",
                  "showlegend": true,
                  "textposition": "auto",
                  "type": "bar",
                  "x": [
                    "sports"
                  ],
                  "xaxis": "x",
                  "y": [
                    1
                  ],
                  "yaxis": "y"
                },
                {
                  "alignmentgroup": "True",
                  "hovertemplate": "Sub Category=company-news<br>Category=%{x}<br>Values=%{y}<extra></extra>",
                  "legendgroup": "company-news",
                  "marker": {
                    "color": "#EF553B",
                    "pattern": {
                      "shape": ""
                    }
                  },
                  "name": "company-news",
                  "offsetgroup": "company-news",
                  "orientation": "v",
                  "showlegend": true,
                  "textposition": "auto",
                  "type": "bar",
                  "x": [
                    "finance"
                  ],
                  "xaxis": "x",
                  "y": [
                    1
                  ],
                  "yaxis": "y"
                },
                {
                  "alignmentgroup": "True",
                  "hovertemplate": "Sub Category=northamerica-video<br>Category=%{x}<br>Values=%{y}<extra></extra>",
                  "legendgroup": "northamerica-video",
                  "marker": {
                    "color": "#00cc96",
                    "pattern": {
                      "shape": ""
                    }
                  },
                  "name": "northamerica-video",
                  "offsetgroup": "northamerica-video",
                  "orientation": "v",
                  "showlegend": true,
                  "textposition": "auto",
                  "type": "bar",
                  "x": [
                    "northamerica"
                  ],
                  "xaxis": "x",
                  "y": [
                    1
                  ],
                  "yaxis": "y"
                },
                {
                  "alignmentgroup": "True",
                  "hovertemplate": "Sub Category=finance-insidetheticker<br>Category=%{x}<br>Values=%{y}<extra></extra>",
                  "legendgroup": "finance-insidetheticker",
                  "marker": {
                    "color": "#ab63fa",
                    "pattern": {
                      "shape": ""
                    }
                  },
                  "name": "finance-insidetheticker",
                  "offsetgroup": "finance-insidetheticker",
                  "orientation": "v",
                  "showlegend": true,
                  "textposition": "auto",
                  "type": "bar",
                  "x": [
                    "finance"
                  ],
                  "xaxis": "x",
                  "y": [
                    1
                  ],
                  "yaxis": "y"
                },
                {
                  "alignmentgroup": "True",
                  "hovertemplate": "Sub Category=technology<br>Category=%{x}<br>Values=%{y}<extra></extra>",
                  "legendgroup": "technology",
                  "marker": {
                    "color": "#FFA15A",
                    "pattern": {
                      "shape": ""
                    }
                  },
                  "name": "technology",
                  "offsetgroup": "technology",
                  "orientation": "v",
                  "showlegend": true,
                  "textposition": "auto",
                  "type": "bar",
                  "x": [
                    "news"
                  ],
                  "xaxis": "x",
                  "y": [
                    1
                  ],
                  "yaxis": "y"
                },
                {
                  "alignmentgroup": "True",
                  "hovertemplate": "Sub Category=other<br>Category=%{x}<br>Values=%{y}<extra></extra>",
                  "legendgroup": "other",
                  "marker": {
                    "color": "#19d3f3",
                    "pattern": {
                      "shape": ""
                    }
                  },
                  "name": "other",
                  "offsetgroup": "other",
                  "orientation": "v",
                  "showlegend": true,
                  "textposition": "auto",
                  "type": "bar",
                  "x": [
                    "news"
                  ],
                  "xaxis": "x",
                  "y": [
                    1
                  ],
                  "yaxis": "y"
                },
                {
                  "alignmentgroup": "True",
                  "hovertemplate": "Sub Category=finance-auto-insurance<br>Category=%{x}<br>Values=%{y}<extra></extra>",
                  "legendgroup": "finance-auto-insurance",
                  "marker": {
                    "color": "#FF6692",
                    "pattern": {
                      "shape": ""
                    }
                  },
                  "name": "finance-auto-insurance",
                  "offsetgroup": "finance-auto-insurance",
                  "orientation": "v",
                  "showlegend": true,
                  "textposition": "auto",
                  "type": "bar",
                  "x": [
                    "finance"
                  ],
                  "xaxis": "x",
                  "y": [
                    1
                  ],
                  "yaxis": "y"
                },
                {
                  "alignmentgroup": "True",
                  "hovertemplate": "Sub Category=newsvideos<br>Category=%{x}<br>Values=%{y}<extra></extra>",
                  "legendgroup": "newsvideos",
                  "marker": {
                    "color": "#B6E880",
                    "pattern": {
                      "shape": ""
                    }
                  },
                  "name": "newsvideos",
                  "offsetgroup": "newsvideos",
                  "orientation": "v",
                  "showlegend": true,
                  "textposition": "auto",
                  "type": "bar",
                  "x": [
                    "news"
                  ],
                  "xaxis": "x",
                  "y": [
                    1
                  ],
                  "yaxis": "y"
                },
                {
                  "alignmentgroup": "True",
                  "hovertemplate": "Sub Category=newstvmedia<br>Category=%{x}<br>Values=%{y}<extra></extra>",
                  "legendgroup": "newstvmedia",
                  "marker": {
                    "color": "#FF97FF",
                    "pattern": {
                      "shape": ""
                    }
                  },
                  "name": "newstvmedia",
                  "offsetgroup": "newstvmedia",
                  "orientation": "v",
                  "showlegend": true,
                  "textposition": "auto",
                  "type": "bar",
                  "x": [
                    "news"
                  ],
                  "xaxis": "x",
                  "y": [
                    1
                  ],
                  "yaxis": "y"
                },
                {
                  "alignmentgroup": "True",
                  "hovertemplate": "Sub Category=newsrealestate<br>Category=%{x}<br>Values=%{y}<extra></extra>",
                  "legendgroup": "newsrealestate",
                  "marker": {
                    "color": "#FECB52",
                    "pattern": {
                      "shape": ""
                    }
                  },
                  "name": "newsrealestate",
                  "offsetgroup": "newsrealestate",
                  "orientation": "v",
                  "showlegend": true,
                  "textposition": "auto",
                  "type": "bar",
                  "x": [
                    "news"
                  ],
                  "xaxis": "x",
                  "y": [
                    1
                  ],
                  "yaxis": "y"
                },
                {
                  "alignmentgroup": "True",
                  "hovertemplate": "Sub Category=newsother<br>Category=%{x}<br>Values=%{y}<extra></extra>",
                  "legendgroup": "newsother",
                  "marker": {
                    "color": "#636efa",
                    "pattern": {
                      "shape": ""
                    }
                  },
                  "name": "newsother",
                  "offsetgroup": "newsother",
                  "orientation": "v",
                  "showlegend": true,
                  "textposition": "auto",
                  "type": "bar",
                  "x": [
                    "news"
                  ],
                  "xaxis": "x",
                  "y": [
                    1
                  ],
                  "yaxis": "y"
                },
                {
                  "alignmentgroup": "True",
                  "hovertemplate": "Sub Category=newsnational<br>Category=%{x}<br>Values=%{y}<extra></extra>",
                  "legendgroup": "newsnational",
                  "marker": {
                    "color": "#EF553B",
                    "pattern": {
                      "shape": ""
                    }
                  },
                  "name": "newsnational",
                  "offsetgroup": "newsnational",
                  "orientation": "v",
                  "showlegend": true,
                  "textposition": "auto",
                  "type": "bar",
                  "x": [
                    "news"
                  ],
                  "xaxis": "x",
                  "y": [
                    1
                  ],
                  "yaxis": "y"
                },
                {
                  "alignmentgroup": "True",
                  "hovertemplate": "Sub Category=newslocalpolitics<br>Category=%{x}<br>Values=%{y}<extra></extra>",
                  "legendgroup": "newslocalpolitics",
                  "marker": {
                    "color": "#00cc96",
                    "pattern": {
                      "shape": ""
                    }
                  },
                  "name": "newslocalpolitics",
                  "offsetgroup": "newslocalpolitics",
                  "orientation": "v",
                  "showlegend": true,
                  "textposition": "auto",
                  "type": "bar",
                  "x": [
                    "news"
                  ],
                  "xaxis": "x",
                  "y": [
                    1
                  ],
                  "yaxis": "y"
                },
                {
                  "alignmentgroup": "True",
                  "hovertemplate": "Sub Category=finance-homesandpropertysection<br>Category=%{x}<br>Values=%{y}<extra></extra>",
                  "legendgroup": "finance-homesandpropertysection",
                  "marker": {
                    "color": "#ab63fa",
                    "pattern": {
                      "shape": ""
                    }
                  },
                  "name": "finance-homesandpropertysection",
                  "offsetgroup": "finance-homesandpropertysection",
                  "orientation": "v",
                  "showlegend": true,
                  "textposition": "auto",
                  "type": "bar",
                  "x": [
                    "finance"
                  ],
                  "xaxis": "x",
                  "y": [
                    1
                  ],
                  "yaxis": "y"
                },
                {
                  "alignmentgroup": "True",
                  "hovertemplate": "Sub Category=lifestyleshoppinghomegarden<br>Category=%{x}<br>Values=%{y}<extra></extra>",
                  "legendgroup": "lifestyleshoppinghomegarden",
                  "marker": {
                    "color": "#FFA15A",
                    "pattern": {
                      "shape": ""
                    }
                  },
                  "name": "lifestyleshoppinghomegarden",
                  "offsetgroup": "lifestyleshoppinghomegarden",
                  "orientation": "v",
                  "showlegend": true,
                  "textposition": "auto",
                  "type": "bar",
                  "x": [
                    "lifestyle"
                  ],
                  "xaxis": "x",
                  "y": [
                    1
                  ],
                  "yaxis": "y"
                }
              ],
              "layout": {
                "barmode": "relative",
                "legend": {
                  "title": {
                    "text": "Sub Category"
                  },
                  "tracegroupgap": 0
                },
                "margin": {
                  "t": 60
                },
                "template": {
                  "data": {
                    "bar": [
                      {
                        "error_x": {
                          "color": "#2a3f5f"
                        },
                        "error_y": {
                          "color": "#2a3f5f"
                        },
                        "marker": {
                          "line": {
                            "color": "#E5ECF6",
                            "width": 0.5
                          },
                          "pattern": {
                            "fillmode": "overlay",
                            "size": 10,
                            "solidity": 0.2
                          }
                        },
                        "type": "bar"
                      }
                    ],
                    "barpolar": [
                      {
                        "marker": {
                          "line": {
                            "color": "#E5ECF6",
                            "width": 0.5
                          },
                          "pattern": {
                            "fillmode": "overlay",
                            "size": 10,
                            "solidity": 0.2
                          }
                        },
                        "type": "barpolar"
                      }
                    ],
                    "carpet": [
                      {
                        "aaxis": {
                          "endlinecolor": "#2a3f5f",
                          "gridcolor": "white",
                          "linecolor": "white",
                          "minorgridcolor": "white",
                          "startlinecolor": "#2a3f5f"
                        },
                        "baxis": {
                          "endlinecolor": "#2a3f5f",
                          "gridcolor": "white",
                          "linecolor": "white",
                          "minorgridcolor": "white",
                          "startlinecolor": "#2a3f5f"
                        },
                        "type": "carpet"
                      }
                    ],
                    "choropleth": [
                      {
                        "colorbar": {
                          "outlinewidth": 0,
                          "ticks": ""
                        },
                        "type": "choropleth"
                      }
                    ],
                    "contour": [
                      {
                        "colorbar": {
                          "outlinewidth": 0,
                          "ticks": ""
                        },
                        "colorscale": [
                          [
                            0,
                            "#0d0887"
                          ],
                          [
                            0.1111111111111111,
                            "#46039f"
                          ],
                          [
                            0.2222222222222222,
                            "#7201a8"
                          ],
                          [
                            0.3333333333333333,
                            "#9c179e"
                          ],
                          [
                            0.4444444444444444,
                            "#bd3786"
                          ],
                          [
                            0.5555555555555556,
                            "#d8576b"
                          ],
                          [
                            0.6666666666666666,
                            "#ed7953"
                          ],
                          [
                            0.7777777777777778,
                            "#fb9f3a"
                          ],
                          [
                            0.8888888888888888,
                            "#fdca26"
                          ],
                          [
                            1,
                            "#f0f921"
                          ]
                        ],
                        "type": "contour"
                      }
                    ],
                    "contourcarpet": [
                      {
                        "colorbar": {
                          "outlinewidth": 0,
                          "ticks": ""
                        },
                        "type": "contourcarpet"
                      }
                    ],
                    "heatmap": [
                      {
                        "colorbar": {
                          "outlinewidth": 0,
                          "ticks": ""
                        },
                        "colorscale": [
                          [
                            0,
                            "#0d0887"
                          ],
                          [
                            0.1111111111111111,
                            "#46039f"
                          ],
                          [
                            0.2222222222222222,
                            "#7201a8"
                          ],
                          [
                            0.3333333333333333,
                            "#9c179e"
                          ],
                          [
                            0.4444444444444444,
                            "#bd3786"
                          ],
                          [
                            0.5555555555555556,
                            "#d8576b"
                          ],
                          [
                            0.6666666666666666,
                            "#ed7953"
                          ],
                          [
                            0.7777777777777778,
                            "#fb9f3a"
                          ],
                          [
                            0.8888888888888888,
                            "#fdca26"
                          ],
                          [
                            1,
                            "#f0f921"
                          ]
                        ],
                        "type": "heatmap"
                      }
                    ],
                    "heatmapgl": [
                      {
                        "colorbar": {
                          "outlinewidth": 0,
                          "ticks": ""
                        },
                        "colorscale": [
                          [
                            0,
                            "#0d0887"
                          ],
                          [
                            0.1111111111111111,
                            "#46039f"
                          ],
                          [
                            0.2222222222222222,
                            "#7201a8"
                          ],
                          [
                            0.3333333333333333,
                            "#9c179e"
                          ],
                          [
                            0.4444444444444444,
                            "#bd3786"
                          ],
                          [
                            0.5555555555555556,
                            "#d8576b"
                          ],
                          [
                            0.6666666666666666,
                            "#ed7953"
                          ],
                          [
                            0.7777777777777778,
                            "#fb9f3a"
                          ],
                          [
                            0.8888888888888888,
                            "#fdca26"
                          ],
                          [
                            1,
                            "#f0f921"
                          ]
                        ],
                        "type": "heatmapgl"
                      }
                    ],
                    "histogram": [
                      {
                        "marker": {
                          "pattern": {
                            "fillmode": "overlay",
                            "size": 10,
                            "solidity": 0.2
                          }
                        },
                        "type": "histogram"
                      }
                    ],
                    "histogram2d": [
                      {
                        "colorbar": {
                          "outlinewidth": 0,
                          "ticks": ""
                        },
                        "colorscale": [
                          [
                            0,
                            "#0d0887"
                          ],
                          [
                            0.1111111111111111,
                            "#46039f"
                          ],
                          [
                            0.2222222222222222,
                            "#7201a8"
                          ],
                          [
                            0.3333333333333333,
                            "#9c179e"
                          ],
                          [
                            0.4444444444444444,
                            "#bd3786"
                          ],
                          [
                            0.5555555555555556,
                            "#d8576b"
                          ],
                          [
                            0.6666666666666666,
                            "#ed7953"
                          ],
                          [
                            0.7777777777777778,
                            "#fb9f3a"
                          ],
                          [
                            0.8888888888888888,
                            "#fdca26"
                          ],
                          [
                            1,
                            "#f0f921"
                          ]
                        ],
                        "type": "histogram2d"
                      }
                    ],
                    "histogram2dcontour": [
                      {
                        "colorbar": {
                          "outlinewidth": 0,
                          "ticks": ""
                        },
                        "colorscale": [
                          [
                            0,
                            "#0d0887"
                          ],
                          [
                            0.1111111111111111,
                            "#46039f"
                          ],
                          [
                            0.2222222222222222,
                            "#7201a8"
                          ],
                          [
                            0.3333333333333333,
                            "#9c179e"
                          ],
                          [
                            0.4444444444444444,
                            "#bd3786"
                          ],
                          [
                            0.5555555555555556,
                            "#d8576b"
                          ],
                          [
                            0.6666666666666666,
                            "#ed7953"
                          ],
                          [
                            0.7777777777777778,
                            "#fb9f3a"
                          ],
                          [
                            0.8888888888888888,
                            "#fdca26"
                          ],
                          [
                            1,
                            "#f0f921"
                          ]
                        ],
                        "type": "histogram2dcontour"
                      }
                    ],
                    "mesh3d": [
                      {
                        "colorbar": {
                          "outlinewidth": 0,
                          "ticks": ""
                        },
                        "type": "mesh3d"
                      }
                    ],
                    "parcoords": [
                      {
                        "line": {
                          "colorbar": {
                            "outlinewidth": 0,
                            "ticks": ""
                          }
                        },
                        "type": "parcoords"
                      }
                    ],
                    "pie": [
                      {
                        "automargin": true,
                        "type": "pie"
                      }
                    ],
                    "scatter": [
                      {
                        "fillpattern": {
                          "fillmode": "overlay",
                          "size": 10,
                          "solidity": 0.2
                        },
                        "type": "scatter"
                      }
                    ],
                    "scatter3d": [
                      {
                        "line": {
                          "colorbar": {
                            "outlinewidth": 0,
                            "ticks": ""
                          }
                        },
                        "marker": {
                          "colorbar": {
                            "outlinewidth": 0,
                            "ticks": ""
                          }
                        },
                        "type": "scatter3d"
                      }
                    ],
                    "scattercarpet": [
                      {
                        "marker": {
                          "colorbar": {
                            "outlinewidth": 0,
                            "ticks": ""
                          }
                        },
                        "type": "scattercarpet"
                      }
                    ],
                    "scattergeo": [
                      {
                        "marker": {
                          "colorbar": {
                            "outlinewidth": 0,
                            "ticks": ""
                          }
                        },
                        "type": "scattergeo"
                      }
                    ],
                    "scattergl": [
                      {
                        "marker": {
                          "colorbar": {
                            "outlinewidth": 0,
                            "ticks": ""
                          }
                        },
                        "type": "scattergl"
                      }
                    ],
                    "scattermapbox": [
                      {
                        "marker": {
                          "colorbar": {
                            "outlinewidth": 0,
                            "ticks": ""
                          }
                        },
                        "type": "scattermapbox"
                      }
                    ],
                    "scatterpolar": [
                      {
                        "marker": {
                          "colorbar": {
                            "outlinewidth": 0,
                            "ticks": ""
                          }
                        },
                        "type": "scatterpolar"
                      }
                    ],
                    "scatterpolargl": [
                      {
                        "marker": {
                          "colorbar": {
                            "outlinewidth": 0,
                            "ticks": ""
                          }
                        },
                        "type": "scatterpolargl"
                      }
                    ],
                    "scatterternary": [
                      {
                        "marker": {
                          "colorbar": {
                            "outlinewidth": 0,
                            "ticks": ""
                          }
                        },
                        "type": "scatterternary"
                      }
                    ],
                    "surface": [
                      {
                        "colorbar": {
                          "outlinewidth": 0,
                          "ticks": ""
                        },
                        "colorscale": [
                          [
                            0,
                            "#0d0887"
                          ],
                          [
                            0.1111111111111111,
                            "#46039f"
                          ],
                          [
                            0.2222222222222222,
                            "#7201a8"
                          ],
                          [
                            0.3333333333333333,
                            "#9c179e"
                          ],
                          [
                            0.4444444444444444,
                            "#bd3786"
                          ],
                          [
                            0.5555555555555556,
                            "#d8576b"
                          ],
                          [
                            0.6666666666666666,
                            "#ed7953"
                          ],
                          [
                            0.7777777777777778,
                            "#fb9f3a"
                          ],
                          [
                            0.8888888888888888,
                            "#fdca26"
                          ],
                          [
                            1,
                            "#f0f921"
                          ]
                        ],
                        "type": "surface"
                      }
                    ],
                    "table": [
                      {
                        "cells": {
                          "fill": {
                            "color": "#EBF0F8"
                          },
                          "line": {
                            "color": "white"
                          }
                        },
                        "header": {
                          "fill": {
                            "color": "#C8D4E3"
                          },
                          "line": {
                            "color": "white"
                          }
                        },
                        "type": "table"
                      }
                    ]
                  },
                  "layout": {
                    "annotationdefaults": {
                      "arrowcolor": "#2a3f5f",
                      "arrowhead": 0,
                      "arrowwidth": 1
                    },
                    "autotypenumbers": "strict",
                    "coloraxis": {
                      "colorbar": {
                        "outlinewidth": 0,
                        "ticks": ""
                      }
                    },
                    "colorscale": {
                      "diverging": [
                        [
                          0,
                          "#8e0152"
                        ],
                        [
                          0.1,
                          "#c51b7d"
                        ],
                        [
                          0.2,
                          "#de77ae"
                        ],
                        [
                          0.3,
                          "#f1b6da"
                        ],
                        [
                          0.4,
                          "#fde0ef"
                        ],
                        [
                          0.5,
                          "#f7f7f7"
                        ],
                        [
                          0.6,
                          "#e6f5d0"
                        ],
                        [
                          0.7,
                          "#b8e186"
                        ],
                        [
                          0.8,
                          "#7fbc41"
                        ],
                        [
                          0.9,
                          "#4d9221"
                        ],
                        [
                          1,
                          "#276419"
                        ]
                      ],
                      "sequential": [
                        [
                          0,
                          "#0d0887"
                        ],
                        [
                          0.1111111111111111,
                          "#46039f"
                        ],
                        [
                          0.2222222222222222,
                          "#7201a8"
                        ],
                        [
                          0.3333333333333333,
                          "#9c179e"
                        ],
                        [
                          0.4444444444444444,
                          "#bd3786"
                        ],
                        [
                          0.5555555555555556,
                          "#d8576b"
                        ],
                        [
                          0.6666666666666666,
                          "#ed7953"
                        ],
                        [
                          0.7777777777777778,
                          "#fb9f3a"
                        ],
                        [
                          0.8888888888888888,
                          "#fdca26"
                        ],
                        [
                          1,
                          "#f0f921"
                        ]
                      ],
                      "sequentialminus": [
                        [
                          0,
                          "#0d0887"
                        ],
                        [
                          0.1111111111111111,
                          "#46039f"
                        ],
                        [
                          0.2222222222222222,
                          "#7201a8"
                        ],
                        [
                          0.3333333333333333,
                          "#9c179e"
                        ],
                        [
                          0.4444444444444444,
                          "#bd3786"
                        ],
                        [
                          0.5555555555555556,
                          "#d8576b"
                        ],
                        [
                          0.6666666666666666,
                          "#ed7953"
                        ],
                        [
                          0.7777777777777778,
                          "#fb9f3a"
                        ],
                        [
                          0.8888888888888888,
                          "#fdca26"
                        ],
                        [
                          1,
                          "#f0f921"
                        ]
                      ]
                    },
                    "colorway": [
                      "#636efa",
                      "#EF553B",
                      "#00cc96",
                      "#ab63fa",
                      "#FFA15A",
                      "#19d3f3",
                      "#FF6692",
                      "#B6E880",
                      "#FF97FF",
                      "#FECB52"
                    ],
                    "font": {
                      "color": "#2a3f5f"
                    },
                    "geo": {
                      "bgcolor": "white",
                      "lakecolor": "white",
                      "landcolor": "#E5ECF6",
                      "showlakes": true,
                      "showland": true,
                      "subunitcolor": "white"
                    },
                    "hoverlabel": {
                      "align": "left"
                    },
                    "hovermode": "closest",
                    "mapbox": {
                      "style": "light"
                    },
                    "paper_bgcolor": "white",
                    "plot_bgcolor": "#E5ECF6",
                    "polar": {
                      "angularaxis": {
                        "gridcolor": "white",
                        "linecolor": "white",
                        "ticks": ""
                      },
                      "bgcolor": "#E5ECF6",
                      "radialaxis": {
                        "gridcolor": "white",
                        "linecolor": "white",
                        "ticks": ""
                      }
                    },
                    "scene": {
                      "xaxis": {
                        "backgroundcolor": "#E5ECF6",
                        "gridcolor": "white",
                        "gridwidth": 2,
                        "linecolor": "white",
                        "showbackground": true,
                        "ticks": "",
                        "zerolinecolor": "white"
                      },
                      "yaxis": {
                        "backgroundcolor": "#E5ECF6",
                        "gridcolor": "white",
                        "gridwidth": 2,
                        "linecolor": "white",
                        "showbackground": true,
                        "ticks": "",
                        "zerolinecolor": "white"
                      },
                      "zaxis": {
                        "backgroundcolor": "#E5ECF6",
                        "gridcolor": "white",
                        "gridwidth": 2,
                        "linecolor": "white",
                        "showbackground": true,
                        "ticks": "",
                        "zerolinecolor": "white"
                      }
                    },
                    "shapedefaults": {
                      "line": {
                        "color": "#2a3f5f"
                      }
                    },
                    "ternary": {
                      "aaxis": {
                        "gridcolor": "white",
                        "linecolor": "white",
                        "ticks": ""
                      },
                      "baxis": {
                        "gridcolor": "white",
                        "linecolor": "white",
                        "ticks": ""
                      },
                      "bgcolor": "#E5ECF6",
                      "caxis": {
                        "gridcolor": "white",
                        "linecolor": "white",
                        "ticks": ""
                      }
                    },
                    "title": {
                      "x": 0.05
                    },
                    "xaxis": {
                      "automargin": true,
                      "gridcolor": "white",
                      "linecolor": "white",
                      "ticks": "",
                      "title": {
                        "standoff": 15
                      },
                      "zerolinecolor": "white",
                      "zerolinewidth": 2
                    },
                    "yaxis": {
                      "automargin": true,
                      "gridcolor": "white",
                      "linecolor": "white",
                      "ticks": "",
                      "title": {
                        "standoff": 15
                      },
                      "zerolinecolor": "white",
                      "zerolinewidth": 2
                    }
                  }
                },
                "xaxis": {
                  "anchor": "y",
                  "domain": [
                    0,
                    1
                  ],
                  "title": {
                    "text": "Category"
                  }
                },
                "yaxis": {
                  "anchor": "x",
                  "domain": [
                    0,
                    1
                  ],
                  "title": {
                    "text": "Values"
                  }
                }
              }
            }
          },
          "metadata": {},
          "output_type": "display_data"
        }
      ],
      "source": [
        "px.bar(data_frame=df,x='Category',y='Values',color='Sub Category')"
      ]
    },
    {
      "cell_type": "code",
      "execution_count": null,
      "metadata": {},
      "outputs": [],
      "source": []
    }
  ],
  "metadata": {
    "colab": {
      "authorship_tag": "ABX9TyPhJvdglO+n08j0y1Vn0PNw",
      "include_colab_link": true,
      "provenance": []
    },
    "kernelspec": {
      "display_name": "Python 3",
      "name": "python3"
    },
    "language_info": {
      "codemirror_mode": {
        "name": "ipython",
        "version": 3
      },
      "file_extension": ".py",
      "mimetype": "text/x-python",
      "name": "python",
      "nbconvert_exporter": "python",
      "pygments_lexer": "ipython3",
      "version": "3.12.0"
    }
  },
  "nbformat": 4,
  "nbformat_minor": 0
}
